{
 "cells": [
  {
   "cell_type": "markdown",
   "metadata": {},
   "source": [
    "## Trails Filtering and Scoring\n",
    "\n",
    "### Import data and drop columns we don't need"
   ]
  },
  {
   "cell_type": "code",
   "execution_count": 129,
   "metadata": {},
   "outputs": [],
   "source": [
    "import numpy as np\n",
    "import pandas as pd\n",
    "\n",
    "# Import data\n",
    "trails = pd.read_csv(\"alltrailsexpanded.csv\")\n",
    "user = pd.read_csv(\"user input.csv\")\n",
    "\n",
    "# Remove columns\n",
    "trails = trails.drop(\"Unnamed: 0\", axis=1)\n",
    "trails = trails.drop(\"_geoloc\", axis=1)\n",
    "trails = trails.drop(\"units\", axis=1)\n",
    "trails = trails.drop(\"country_name\", axis=1)\n",
    "trails = trails.drop(\"features_not_coded\", axis=1)\n",
    "trails = trails.drop(\"activities_not_coded\", axis=1)\n",
    "trails = trails.rename(columns={\"latitiude\": \"latitude\"})"
   ]
  },
  {
   "cell_type": "markdown",
   "metadata": {},
   "source": [
    "### Categorize columns into numeric or character and ensure types"
   ]
  },
  {
   "cell_type": "code",
   "execution_count": 130,
   "metadata": {},
   "outputs": [],
   "source": [
    "# Categorize columns\n",
    "numeric_cols = ['Trail ID','latitude','longitude','popularity','length','elevation_gain','difficulty_rating',\n",
    "                'visitor_usage','avg_rating','num_reviews','TF_dogs-no','TF_forest','TF_historic-site','TF_kids',\n",
    "                'TF_dogs-leash','TF_ada','TF_beach','TF_cave','TF_views','TF_river','TF_city-walk','TF_lake',\n",
    "                'TF_rails-trails','TF_partially-paved','TF_dogs','TF_wildlife','TF_paved','ACT_birding','ACT_hiking',\n",
    "                'ACT_backpacking','ACT_walking','ACT_camping','ACT_nature-trips','ACT_off-road-driving','ACT_road-biking',\n",
    "                'ACT_mountain-biking','ACT_scenic-driving','ACT_bike-touring','ACT_fishing','ACT_snowshoeing',\n",
    "                'ACT_paddle-sports','ACT_trail-running','ACT_horseback-riding','ACT_rock-climbing',\n",
    "                'ACT_cross-country-skiing','ACT_sea-kayaking','ACT_fly-fish','ACT_canoeing','ACT_whitewater-kayaking',\n",
    "                'ACT_skiing','ACT_surfing','ACT_snowboarding','ACT_ice-climbing','ACT_rails-trails','Grade']\n",
    "character_cols = ['name','area_name','city_name','state_name','route_type']\n",
    "\n",
    "# Ensure types\n",
    "for col in numeric_cols:\n",
    "    trails[col] = pd.to_numeric(trails[col])\n",
    "for col in character_cols:\n",
    "    trails[col] = trails[col].astype(str)"
   ]
  },
  {
   "cell_type": "markdown",
   "metadata": {},
   "source": [
    "### Find distance from user for each trail"
   ]
  },
  {
   "cell_type": "code",
   "execution_count": 131,
   "metadata": {},
   "outputs": [
    {
     "name": "stdout",
     "output_type": "stream",
     "text": [
      "User Location: 35.567165 -82.543786\n"
     ]
    }
   ],
   "source": [
    "# Create Trail Distance Variable\n",
    "from math import radians, cos, sin, asin, sqrt\n",
    "\n",
    "# Find user coords\n",
    "user_lat = float(user.loc()[54][3])\n",
    "user_long = float(user.loc()[55][3])\n",
    "\n",
    "def haversine(lon1, lat1, lon2, lat2):\n",
    "    lon1, lat1, lon2, lat2 = map(radians, [lon1, lat1, lon2, lat2]) \n",
    "    dlon = lon2 - lon1 \n",
    "    dlat = lat2 - lat1 \n",
    "    a = sin(dlat/2)**2 + cos(lat1) * cos(lat2) * sin(dlon/2)**2\n",
    "    c = 2 * asin(sqrt(a)) \n",
    "    r = 3956 # Radius of earth in miles\n",
    "    return c * r\n",
    "\n",
    "distance_to_user = [0]\n",
    "for index, row in trails.iterrows():\n",
    "    trail_lat = row['latitude']\n",
    "    trail_long = row['longitude']\n",
    "    \n",
    "    dist = round(haversine(trail_long, trail_lat, user_long, user_lat),2)\n",
    "    \n",
    "    distance_to_user.append(dist)\n",
    "    \n",
    "distance_to_user.pop(0)\n",
    "\n",
    "trails['Distance'] = distance_to_user\n",
    "numeric_cols.append('Distance')\n",
    "\n",
    "print(\"User Location:\",str(user_lat), str(user_long))"
   ]
  },
  {
   "cell_type": "markdown",
   "metadata": {},
   "source": [
    "### Create general trail information dataframe"
   ]
  },
  {
   "cell_type": "code",
   "execution_count": 132,
   "metadata": {},
   "outputs": [],
   "source": [
    "trail_info = trails[['Trail ID', 'name', 'length', 'difficulty_rating', 'Distance', 'area_name', 'latitude', 'longitude']]"
   ]
  },
  {
   "cell_type": "markdown",
   "metadata": {},
   "source": [
    "### Apply required filters"
   ]
  },
  {
   "cell_type": "code",
   "execution_count": 133,
   "metadata": {},
   "outputs": [
    {
     "name": "stdout",
     "output_type": "stream",
     "text": [
      "There are 3313 valid trails.\n",
      "\n",
      "popularity Greater Than 5\n",
      "Filtered out 1194 trails.\n",
      "\n",
      "avg_rating Greater Than 3\n",
      "Filtered out 0 trails.\n",
      "\n",
      "TF_views Equals 1\n",
      "Filtered out 177 trails.\n",
      "\n",
      "ACT_hiking Equals 1\n",
      "Filtered out 104 trails.\n",
      "\n",
      "ACT_off-road-driving Equals 0\n",
      "Filtered out 9 trails.\n",
      "\n",
      "Distance Less Than 1000\n",
      "Filtered out 1406 trails.\n",
      "\n",
      "After filtering, there are 423 valid trails.\n"
     ]
    }
   ],
   "source": [
    "# filter trails to meet required input\n",
    "required_input = user[user['Class'] == 'Required']\n",
    "\n",
    "valid_trails = trails\n",
    "print(\"There are\", str(len(valid_trails)), \"valid trails.\\n\")\n",
    "for index, row in required_input.iterrows():\n",
    "    starting_len = len(valid_trails)\n",
    "    \n",
    "    currCol = row['Variable']\n",
    "    currFilter = row['Filter']\n",
    "    currValue = row['Value']\n",
    "    \n",
    "    print(currCol,currFilter,currValue)\n",
    "    \n",
    "    if currCol in numeric_cols:\n",
    "        currValue = int(currValue)\n",
    "    else:\n",
    "        currValue = str(currValue)\n",
    "    \n",
    "    if currFilter == 'Equals':\n",
    "        valid_trails = valid_trails[valid_trails[currCol] == currValue]\n",
    "    elif currFilter == 'Greater Than':\n",
    "        valid_trails = valid_trails[valid_trails[currCol] >= currValue]\n",
    "    else:\n",
    "        valid_trails = valid_trails[valid_trails[currCol] <= currValue]\n",
    "        \n",
    "    ending_len = len(valid_trails)\n",
    "        \n",
    "    print(\"Filtered out\",str(starting_len - ending_len),\"trails.\\n\")\n",
    "print(\"After filtering, there are\",str(len(valid_trails)),\"valid trails.\")"
   ]
  },
  {
   "cell_type": "markdown",
   "metadata": {},
   "source": [
    "### Score for similarity based on optional criteria"
   ]
  },
  {
   "cell_type": "code",
   "execution_count": 134,
   "metadata": {},
   "outputs": [
    {
     "name": "stdout",
     "output_type": "stream",
     "text": [
      "length   5000\n",
      "route_type   out and back\n",
      "num_reviews   50\n",
      "TF_historic-site   1\n",
      "TF_cave   1\n",
      "TF_river   1\n",
      "TF_lake   1\n",
      "TF_dogs   1\n",
      "TF_paved   1\n",
      "ACT_camping   1\n",
      "ACT_mountain-biking   1\n",
      "ACT_scenic-driving   1\n",
      "ACT_trail-running   1\n"
     ]
    }
   ],
   "source": [
    "# Find optional criteria\n",
    "optional_input = user[user['Class'] == 'Optional']\n",
    "\n",
    "# This function creates new the new similarity column based on column type\n",
    "def simi_finder(trail, currCol, currValue):\n",
    "    \n",
    "    # all numeric\n",
    "    if currCol in numeric_cols:\n",
    "        currValue = int(currValue)\n",
    "        \n",
    "        # binary field\n",
    "        if max(valid_trails[currCol] == 1):\n",
    "            if trail[currCol] == currValue:\n",
    "                return 1\n",
    "            else:\n",
    "                return 0\n",
    "        \n",
    "        # continuous field (like length)\n",
    "        else:\n",
    "            if trail[currCol] != 0:\n",
    "                return max(0, round(1 - (abs(currValue - trail[currCol]) / trail[currCol]), 2))\n",
    "            else:\n",
    "                return 0\n",
    "    \n",
    "    # all character\n",
    "    else:\n",
    "        currValue = str(currValue) \n",
    "        \n",
    "        if trail[currCol] == currValue:\n",
    "            return 1\n",
    "        else:\n",
    "            return 0\n",
    "\n",
    "\n",
    "for index, row in optional_input.iterrows():\n",
    "    currCol = row['Variable']\n",
    "    currValue = row['Value']\n",
    "    \n",
    "    print(currCol, ' ', currValue)\n",
    "    \n",
    "    newColName = currCol + '_similarity'\n",
    "    \n",
    "    valid_trails[newColName] = valid_trails.apply(lambda trail: simi_finder(trail, currCol, currValue), axis=1)"
   ]
  },
  {
   "cell_type": "markdown",
   "metadata": {},
   "source": [
    "### Calculate score and append to info"
   ]
  },
  {
   "cell_type": "code",
   "execution_count": 135,
   "metadata": {},
   "outputs": [
    {
     "data": {
      "text/html": [
       "<div>\n",
       "<style scoped>\n",
       "    .dataframe tbody tr th:only-of-type {\n",
       "        vertical-align: middle;\n",
       "    }\n",
       "\n",
       "    .dataframe tbody tr th {\n",
       "        vertical-align: top;\n",
       "    }\n",
       "\n",
       "    .dataframe thead th {\n",
       "        text-align: right;\n",
       "    }\n",
       "</style>\n",
       "<table border=\"1\" class=\"dataframe\">\n",
       "  <thead>\n",
       "    <tr style=\"text-align: right;\">\n",
       "      <th></th>\n",
       "      <th>Trail ID</th>\n",
       "      <th>name</th>\n",
       "      <th>length</th>\n",
       "      <th>difficulty_rating</th>\n",
       "      <th>Distance</th>\n",
       "      <th>area_name</th>\n",
       "      <th>latitude</th>\n",
       "      <th>longitude</th>\n",
       "      <th>Score</th>\n",
       "    </tr>\n",
       "  </thead>\n",
       "  <tbody>\n",
       "    <tr>\n",
       "      <th>0</th>\n",
       "      <td>10041922</td>\n",
       "      <td>Sunset Trail</td>\n",
       "      <td>20921.420</td>\n",
       "      <td>5</td>\n",
       "      <td>597.16</td>\n",
       "      <td>Hot Springs National Park</td>\n",
       "      <td>34.52560</td>\n",
       "      <td>-93.03637</td>\n",
       "      <td>21.00</td>\n",
       "    </tr>\n",
       "    <tr>\n",
       "      <th>1</th>\n",
       "      <td>10235890</td>\n",
       "      <td>West Mountain Trail</td>\n",
       "      <td>3057.746</td>\n",
       "      <td>3</td>\n",
       "      <td>598.55</td>\n",
       "      <td>Hot Springs National Park</td>\n",
       "      <td>34.51279</td>\n",
       "      <td>-93.05836</td>\n",
       "      <td>21.85</td>\n",
       "    </tr>\n",
       "    <tr>\n",
       "      <th>2</th>\n",
       "      <td>10264755</td>\n",
       "      <td>Goat Rock Trail</td>\n",
       "      <td>3862.416</td>\n",
       "      <td>3</td>\n",
       "      <td>597.33</td>\n",
       "      <td>Hot Springs National Park</td>\n",
       "      <td>34.52802</td>\n",
       "      <td>-93.03995</td>\n",
       "      <td>33.77</td>\n",
       "    </tr>\n",
       "    <tr>\n",
       "      <th>3</th>\n",
       "      <td>10264753</td>\n",
       "      <td>Gulpha Gorge Trail</td>\n",
       "      <td>1931.208</td>\n",
       "      <td>3</td>\n",
       "      <td>597.17</td>\n",
       "      <td>Hot Springs National Park</td>\n",
       "      <td>34.52556</td>\n",
       "      <td>-93.03645</td>\n",
       "      <td>20.54</td>\n",
       "    </tr>\n",
       "    <tr>\n",
       "      <th>4</th>\n",
       "      <td>10007938</td>\n",
       "      <td>Dead Chief Trail</td>\n",
       "      <td>4345.218</td>\n",
       "      <td>3</td>\n",
       "      <td>598.20</td>\n",
       "      <td>Hot Springs National Park</td>\n",
       "      <td>34.51359</td>\n",
       "      <td>-93.05238</td>\n",
       "      <td>36.85</td>\n",
       "    </tr>\n",
       "    <tr>\n",
       "      <th>...</th>\n",
       "      <td>...</td>\n",
       "      <td>...</td>\n",
       "      <td>...</td>\n",
       "      <td>...</td>\n",
       "      <td>...</td>\n",
       "      <td>...</td>\n",
       "      <td>...</td>\n",
       "      <td>...</td>\n",
       "      <td>...</td>\n",
       "    </tr>\n",
       "    <tr>\n",
       "      <th>418</th>\n",
       "      <td>10029295</td>\n",
       "      <td>Ivy Creek via Appalachian Trail</td>\n",
       "      <td>4345.218</td>\n",
       "      <td>1</td>\n",
       "      <td>284.89</td>\n",
       "      <td>Shenandoah National Park</td>\n",
       "      <td>38.28487</td>\n",
       "      <td>-78.65889</td>\n",
       "      <td>29.62</td>\n",
       "    </tr>\n",
       "    <tr>\n",
       "      <th>419</th>\n",
       "      <td>10013306</td>\n",
       "      <td>Thorton Gap and Buck Hollow Trail</td>\n",
       "      <td>19473.014</td>\n",
       "      <td>3</td>\n",
       "      <td>317.12</td>\n",
       "      <td>Shenandoah National Park</td>\n",
       "      <td>38.65839</td>\n",
       "      <td>-78.28212</td>\n",
       "      <td>9.69</td>\n",
       "    </tr>\n",
       "    <tr>\n",
       "      <th>420</th>\n",
       "      <td>10015003</td>\n",
       "      <td>The Peak Trail</td>\n",
       "      <td>14805.928</td>\n",
       "      <td>5</td>\n",
       "      <td>327.98</td>\n",
       "      <td>Shenandoah National Park</td>\n",
       "      <td>38.80698</td>\n",
       "      <td>-78.18120</td>\n",
       "      <td>25.69</td>\n",
       "    </tr>\n",
       "    <tr>\n",
       "      <th>421</th>\n",
       "      <td>10327754</td>\n",
       "      <td>Cave Falls via Hazel River and White Rocks Trail</td>\n",
       "      <td>10460.710</td>\n",
       "      <td>3</td>\n",
       "      <td>316.18</td>\n",
       "      <td>Shenandoah National Park</td>\n",
       "      <td>38.61445</td>\n",
       "      <td>-78.25682</td>\n",
       "      <td>26.77</td>\n",
       "    </tr>\n",
       "    <tr>\n",
       "      <th>422</th>\n",
       "      <td>10290795</td>\n",
       "      <td>Hightop Trail</td>\n",
       "      <td>5310.822</td>\n",
       "      <td>3</td>\n",
       "      <td>290.34</td>\n",
       "      <td>Shenandoah National Park</td>\n",
       "      <td>38.32836</td>\n",
       "      <td>-78.57400</td>\n",
       "      <td>30.31</td>\n",
       "    </tr>\n",
       "  </tbody>\n",
       "</table>\n",
       "<p>423 rows × 9 columns</p>\n",
       "</div>"
      ],
      "text/plain": [
       "     Trail ID                                              name     length  \\\n",
       "0    10041922                                      Sunset Trail  20921.420   \n",
       "1    10235890                               West Mountain Trail   3057.746   \n",
       "2    10264755                                   Goat Rock Trail   3862.416   \n",
       "3    10264753                                Gulpha Gorge Trail   1931.208   \n",
       "4    10007938                                  Dead Chief Trail   4345.218   \n",
       "..        ...                                               ...        ...   \n",
       "418  10029295                   Ivy Creek via Appalachian Trail   4345.218   \n",
       "419  10013306                 Thorton Gap and Buck Hollow Trail  19473.014   \n",
       "420  10015003                                    The Peak Trail  14805.928   \n",
       "421  10327754  Cave Falls via Hazel River and White Rocks Trail  10460.710   \n",
       "422  10290795                                     Hightop Trail   5310.822   \n",
       "\n",
       "     difficulty_rating  Distance                  area_name  latitude  \\\n",
       "0                    5    597.16  Hot Springs National Park  34.52560   \n",
       "1                    3    598.55  Hot Springs National Park  34.51279   \n",
       "2                    3    597.33  Hot Springs National Park  34.52802   \n",
       "3                    3    597.17  Hot Springs National Park  34.52556   \n",
       "4                    3    598.20  Hot Springs National Park  34.51359   \n",
       "..                 ...       ...                        ...       ...   \n",
       "418                  1    284.89   Shenandoah National Park  38.28487   \n",
       "419                  3    317.12   Shenandoah National Park  38.65839   \n",
       "420                  5    327.98   Shenandoah National Park  38.80698   \n",
       "421                  3    316.18   Shenandoah National Park  38.61445   \n",
       "422                  3    290.34   Shenandoah National Park  38.32836   \n",
       "\n",
       "     longitude  Score  \n",
       "0    -93.03637  21.00  \n",
       "1    -93.05836  21.85  \n",
       "2    -93.03995  33.77  \n",
       "3    -93.03645  20.54  \n",
       "4    -93.05238  36.85  \n",
       "..         ...    ...  \n",
       "418  -78.65889  29.62  \n",
       "419  -78.28212   9.69  \n",
       "420  -78.18120  25.69  \n",
       "421  -78.25682  26.77  \n",
       "422  -78.57400  30.31  \n",
       "\n",
       "[423 rows x 9 columns]"
      ]
     },
     "execution_count": 135,
     "metadata": {},
     "output_type": "execute_result"
    }
   ],
   "source": [
    "import warnings\n",
    "warnings.simplefilter(action='ignore', category=Warning)\n",
    "\n",
    "similarity_scores = valid_trails.filter(regex='similarity')\n",
    "similarity_scores['score'] = round((similarity_scores.sum(axis=1) / len(optional_input))*100,2)\n",
    "valid_trails['Score'] = similarity_scores['score']\n",
    "trail_scores = valid_trails[['Trail ID', 'Score']]\n",
    "\n",
    "trail_info = pd.merge(trail_info, trail_scores, on='Trail ID')\n",
    "trail_info"
   ]
  },
  {
   "cell_type": "markdown",
   "metadata": {},
   "source": [
    "### Map top trails"
   ]
  },
  {
   "cell_type": "code",
   "execution_count": 136,
   "metadata": {},
   "outputs": [
    {
     "data": {
      "application/vnd.plotly.v1+json": {
       "config": {
        "plotlyServerURL": "https://plot.ly"
       },
       "data": [
        {
         "customdata": [
          [
           21,
           "Hot Springs National Park",
           597.16
          ],
          [
           21.85,
           "Hot Springs National Park",
           598.55
          ],
          [
           33.77,
           "Hot Springs National Park",
           597.33
          ],
          [
           20.54,
           "Hot Springs National Park",
           597.17
          ],
          [
           36.85,
           "Hot Springs National Park",
           598.2
          ],
          [
           21.77,
           "Hot Springs National Park",
           597.16
          ],
          [
           18.77,
           "Hot Springs National Park",
           599.17
          ],
          [
           23.08,
           "Hot Springs National Park",
           597.15
          ],
          [
           32.62,
           "Hot Springs National Park",
           598.29
          ],
          [
           14.85,
           "Hot Springs National Park",
           600.52
          ],
          [
           11.69,
           "Everglades National Park",
           712.51
          ],
          [
           3.38,
           "Everglades National Park",
           706.94
          ],
          [
           21.62,
           "Everglades National Park",
           712.51
          ],
          [
           18.38,
           "Everglades National Park",
           726.38
          ],
          [
           7.69,
           "Dry Tortugas National Park",
           755.6
          ],
          [
           0,
           "Everglades National Park",
           709.07
          ],
          [
           27.54,
           "Indiana Dunes National Park",
           484.67
          ],
          [
           29.62,
           "Indiana Dunes National Park",
           487.81
          ],
          [
           17,
           "Indiana Dunes National Park",
           487.83
          ],
          [
           23.85,
           "Indiana Dunes National Park",
           488.6
          ],
          [
           12.08,
           "Indiana Dunes National Park",
           485.61
          ],
          [
           7.46,
           "Indiana Dunes National Park",
           486.95
          ],
          [
           46.23,
           "Mammoth Cave National Park",
           227.2
          ],
          [
           28.85,
           "Mammoth Cave National Park",
           229.03
          ],
          [
           16.85,
           "Mammoth Cave National Park",
           229.61
          ],
          [
           45.46,
           "Mammoth Cave National Park",
           227.13
          ],
          [
           23.08,
           "Mammoth Cave National Park",
           227.12
          ],
          [
           20.92,
           "Mammoth Cave National Park",
           229.61
          ],
          [
           39.92,
           "Mammoth Cave National Park",
           222.41
          ],
          [
           36.31,
           "Mammoth Cave National Park",
           223.46
          ],
          [
           24.69,
           "Mammoth Cave National Park",
           225.86
          ],
          [
           17,
           "Mammoth Cave National Park",
           229.15
          ],
          [
           8,
           "Acadia National Park",
           969.05
          ],
          [
           37.31,
           "Acadia National Park",
           969.04
          ],
          [
           38.46,
           "Acadia National Park",
           965.85
          ],
          [
           24.23,
           "Acadia National Park",
           969.04
          ],
          [
           11.77,
           "Acadia National Park",
           967.12
          ],
          [
           4.62,
           "Acadia National Park",
           969.64
          ],
          [
           29.38,
           "Acadia National Park",
           969.02
          ],
          [
           24.92,
           "Acadia National Park",
           969.04
          ],
          [
           24.62,
           "Acadia National Park",
           966.74
          ],
          [
           16.08,
           "Acadia National Park",
           962.62
          ],
          [
           25.08,
           "Acadia National Park",
           968.2
          ],
          [
           31.46,
           "Acadia National Park",
           966.75
          ],
          [
           16.85,
           "Acadia National Park",
           959.45
          ],
          [
           32.62,
           "Acadia National Park",
           965.84
          ],
          [
           16.77,
           "Acadia National Park",
           969.01
          ],
          [
           9.38,
           "Acadia National Park",
           961.94
          ],
          [
           26.69,
           "Acadia National Park",
           970.36
          ],
          [
           11.62,
           "Acadia National Park",
           969.41
          ],
          [
           25.31,
           "Acadia National Park",
           959.75
          ],
          [
           26.85,
           "Acadia National Park",
           969.05
          ],
          [
           29.31,
           "Acadia National Park",
           968.09
          ],
          [
           17.54,
           "Acadia National Park",
           962.43
          ],
          [
           31.46,
           "Acadia National Park",
           962.63
          ],
          [
           32.69,
           "Acadia National Park",
           968.24
          ],
          [
           25.23,
           "Acadia National Park",
           969.05
          ],
          [
           22.62,
           "Acadia National Park",
           967.36
          ],
          [
           3.23,
           "Acadia National Park",
           969.05
          ],
          [
           22.85,
           "Acadia National Park",
           964.2
          ],
          [
           9.69,
           "Acadia National Park",
           969.26
          ],
          [
           20.31,
           "Acadia National Park",
           965.79
          ],
          [
           42.77,
           "Acadia National Park",
           966.15
          ],
          [
           21.31,
           "Acadia National Park",
           966.75
          ],
          [
           18.85,
           "Acadia National Park",
           958.63
          ],
          [
           27.23,
           "Acadia National Park",
           965.91
          ],
          [
           27.92,
           "Acadia National Park",
           966.74
          ],
          [
           21.54,
           "Acadia National Park",
           969.04
          ],
          [
           27.54,
           "Acadia National Park",
           969.03
          ],
          [
           11.15,
           "Acadia National Park",
           965.9
          ],
          [
           23.92,
           "Acadia National Park",
           964.48
          ],
          [
           28.92,
           "Acadia National Park",
           961.93
          ],
          [
           18.38,
           "Acadia National Park",
           964.99
          ],
          [
           32.38,
           "Acadia National Park",
           969.25
          ],
          [
           37.69,
           "Acadia National Park",
           965.91
          ],
          [
           39.31,
           "Acadia National Park",
           969.25
          ],
          [
           30.38,
           "Acadia National Park",
           969.93
          ],
          [
           35.85,
           "Acadia National Park",
           969.31
          ],
          [
           26,
           "Acadia National Park",
           969.02
          ],
          [
           12.31,
           "Acadia National Park",
           962.2
          ],
          [
           35.23,
           "Acadia National Park",
           964.47
          ],
          [
           30.08,
           "Acadia National Park",
           970.18
          ],
          [
           27.08,
           "Acadia National Park",
           961.07
          ],
          [
           18.08,
           "Acadia National Park",
           961.94
          ],
          [
           29.85,
           "Acadia National Park",
           967.45
          ],
          [
           13.54,
           "Acadia National Park",
           966.75
          ],
          [
           28.85,
           "Acadia National Park",
           966.74
          ],
          [
           43.85,
           "Acadia National Park",
           968.08
          ],
          [
           19.15,
           "Acadia National Park",
           964.48
          ],
          [
           21.85,
           "Acadia National Park",
           968.99
          ],
          [
           25.46,
           "Acadia National Park",
           964.52
          ],
          [
           20.38,
           "Acadia National Park",
           975.52
          ],
          [
           23.92,
           "Acadia National Park",
           969.53
          ],
          [
           19.23,
           "Acadia National Park",
           969.57
          ],
          [
           19.31,
           "Acadia National Park",
           959.27
          ],
          [
           12.38,
           "Acadia National Park",
           969.33
          ],
          [
           25.92,
           "Acadia National Park",
           964.12
          ],
          [
           12.08,
           "Acadia National Park",
           961.07
          ],
          [
           34.62,
           "Acadia National Park",
           965.79
          ],
          [
           27.31,
           "Acadia National Park",
           969.64
          ],
          [
           34.85,
           "Acadia National Park",
           966.07
          ],
          [
           27.77,
           "Acadia National Park",
           962.27
          ],
          [
           20.85,
           "Acadia National Park",
           969.05
          ],
          [
           29.69,
           "Acadia National Park",
           961.05
          ],
          [
           22.77,
           "Acadia National Park",
           969.26
          ],
          [
           37.77,
           "Acadia National Park",
           967.47
          ],
          [
           25.31,
           "Acadia National Park",
           964.48
          ],
          [
           29.92,
           "Acadia National Park",
           965.81
          ],
          [
           23.08,
           "Acadia National Park",
           962.44
          ],
          [
           12.92,
           "Acadia National Park",
           969.04
          ],
          [
           32.31,
           "Acadia National Park",
           964.19
          ],
          [
           21.38,
           "Acadia National Park",
           966.09
          ],
          [
           23.62,
           "Acadia National Park",
           961.92
          ],
          [
           27.69,
           "Acadia National Park",
           961.09
          ],
          [
           15.38,
           "Acadia National Park",
           975.16
          ],
          [
           35.54,
           "Acadia National Park",
           965.91
          ],
          [
           28.08,
           "Acadia National Park",
           960.65
          ],
          [
           12.92,
           "Acadia National Park",
           965.8
          ],
          [
           11.69,
           "Acadia National Park",
           969.04
          ],
          [
           19.69,
           "Acadia National Park",
           962.27
          ],
          [
           22.38,
           "Acadia National Park",
           966.43
          ],
          [
           26.54,
           "Acadia National Park",
           969.44
          ],
          [
           19.38,
           "Acadia National Park",
           968.98
          ],
          [
           18.85,
           "Acadia National Park",
           975.16
          ],
          [
           30.23,
           "Acadia National Park",
           962.44
          ],
          [
           12.69,
           "Acadia National Park",
           969.14
          ],
          [
           23.08,
           "Acadia National Park",
           961.07
          ],
          [
           23.08,
           "Acadia National Park",
           962.26
          ],
          [
           30.08,
           "Acadia National Park",
           969.41
          ],
          [
           17,
           "Acadia National Park",
           961.93
          ],
          [
           21.23,
           "Acadia National Park",
           969.63
          ],
          [
           27.92,
           "Acadia National Park",
           961.08
          ],
          [
           5.46,
           "Acadia National Park",
           975.16
          ],
          [
           30.77,
           "Acadia National Park",
           960.35
          ],
          [
           19.92,
           "Acadia National Park",
           965.61
          ],
          [
           20.46,
           "Acadia National Park",
           968.99
          ],
          [
           20.92,
           "Acadia National Park",
           964.54
          ],
          [
           27.38,
           "Acadia National Park",
           969.05
          ],
          [
           15.69,
           "Great Smoky Mountains National Park",
           53.5
          ],
          [
           21.69,
           "Great Smoky Mountains National Park",
           50.54
          ],
          [
           21.38,
           "Great Smoky Mountains National Park",
           34.25
          ],
          [
           10.92,
           "Great Smoky Mountains National Park",
           50.55
          ],
          [
           23.85,
           "Great Smoky Mountains National Park",
           29.83
          ],
          [
           48.77,
           "Great Smoky Mountains National Park",
           43.01
          ],
          [
           9.92,
           "Great Smoky Mountains National Park",
           50.55
          ],
          [
           25.77,
           "Great Smoky Mountains National Park",
           45.76
          ],
          [
           16.69,
           "Great Smoky Mountains National Park",
           53.49
          ],
          [
           48.46,
           "Great Smoky Mountains National Park",
           71.6
          ],
          [
           39.77,
           "Great Smoky Mountains National Park",
           49.58
          ],
          [
           22.54,
           "Great Smoky Mountains National Park",
           30.88
          ],
          [
           7.31,
           "Great Smoky Mountains National Park",
           45.76
          ],
          [
           18.92,
           "Great Smoky Mountains National Park",
           34.2
          ],
          [
           15,
           "Great Smoky Mountains National Park",
           75.23
          ],
          [
           18.15,
           "Great Smoky Mountains National Park",
           43.15
          ],
          [
           16.69,
           "Great Smoky Mountains National Park",
           53.5
          ],
          [
           24,
           "Great Smoky Mountains National Park",
           28.5
          ],
          [
           14.85,
           "Great Smoky Mountains National Park",
           50.8
          ],
          [
           35.31,
           "Great Smoky Mountains National Park",
           35.76
          ],
          [
           9.15,
           "Great Smoky Mountains National Park",
           50.78
          ],
          [
           21.08,
           "Great Smoky Mountains National Park",
           53.49
          ],
          [
           8.38,
           "Great Smoky Mountains National Park",
           50.83
          ],
          [
           24.85,
           "Great Smoky Mountains National Park",
           50.56
          ],
          [
           9,
           "Great Smoky Mountains National Park",
           32.4
          ],
          [
           7.69,
           "Great Smoky Mountains National Park",
           29.49
          ],
          [
           13,
           "Great Smoky Mountains National Park",
           31.42
          ],
          [
           24.54,
           "Great Smoky Mountains National Park",
           43.07
          ],
          [
           8.46,
           "Great Smoky Mountains National Park",
           53.49
          ],
          [
           16.15,
           "Great Smoky Mountains National Park",
           56.38
          ],
          [
           9.77,
           "Great Smoky Mountains National Park",
           50.55
          ],
          [
           24.15,
           "Great Smoky Mountains National Park",
           53.5
          ],
          [
           17.31,
           "Great Smoky Mountains National Park",
           32.59
          ],
          [
           17.77,
           "Great Smoky Mountains National Park",
           43.12
          ],
          [
           8,
           "Great Smoky Mountains National Park",
           71.15
          ],
          [
           13,
           "Great Smoky Mountains National Park",
           53.49
          ],
          [
           17.69,
           "Great Smoky Mountains National Park",
           75.23
          ],
          [
           28.69,
           "Great Smoky Mountains National Park",
           75.24
          ],
          [
           0,
           "Great Smoky Mountains National Park",
           51.43
          ],
          [
           27.08,
           "Great Smoky Mountains National Park",
           50.77
          ],
          [
           12.92,
           "Great Smoky Mountains National Park",
           50.84
          ],
          [
           9.85,
           "Great Smoky Mountains National Park",
           71.6
          ],
          [
           10.38,
           "Great Smoky Mountains National Park",
           71.19
          ],
          [
           24.31,
           "Great Smoky Mountains National Park",
           35.96
          ],
          [
           33.08,
           "Great Smoky Mountains National Park",
           43.08
          ],
          [
           24.46,
           "Great Smoky Mountains National Park",
           75.22
          ],
          [
           16.85,
           "Great Smoky Mountains National Park",
           30.88
          ],
          [
           0.92,
           "Great Smoky Mountains National Park",
           45.74
          ],
          [
           19.23,
           "Great Smoky Mountains National Park",
           29.58
          ],
          [
           24.77,
           "Great Smoky Mountains National Park",
           49.42
          ],
          [
           34.46,
           "Great Smoky Mountains National Park",
           38.26
          ],
          [
           37.54,
           "Cuyahoga Valley National Park",
           394.54
          ],
          [
           40.46,
           "Cuyahoga Valley National Park",
           397.94
          ],
          [
           38.38,
           "Cuyahoga Valley National Park",
           397.42
          ],
          [
           24.23,
           "Cuyahoga Valley National Park",
           396.3
          ],
          [
           22.15,
           "Cuyahoga Valley National Park",
           393.75
          ],
          [
           24.15,
           "Cuyahoga Valley National Park",
           394.03
          ],
          [
           24.92,
           "Cuyahoga Valley National Park",
           395.4
          ],
          [
           15.08,
           "Cuyahoga Valley National Park",
           393.5
          ],
          [
           47.92,
           "Cuyahoga Valley National Park",
           400.4
          ],
          [
           37.54,
           "Cuyahoga Valley National Park",
           396.28
          ],
          [
           31.38,
           "Cuyahoga Valley National Park",
           398.52
          ],
          [
           33.62,
           "Cuyahoga Valley National Park",
           395.13
          ],
          [
           23.92,
           "Cuyahoga Valley National Park",
           394.68
          ],
          [
           37.38,
           "Cuyahoga Valley National Park",
           396.82
          ],
          [
           14.54,
           "Cuyahoga Valley National Park",
           393.75
          ],
          [
           28.54,
           "Cuyahoga Valley National Park",
           394.49
          ],
          [
           33.54,
           "Cuyahoga Valley National Park",
           396.84
          ],
          [
           25.23,
           "Cuyahoga Valley National Park",
           393.49
          ],
          [
           26.62,
           "Cuyahoga Valley National Park",
           394.75
          ],
          [
           35.31,
           "Cuyahoga Valley National Park",
           395.57
          ],
          [
           27.77,
           "Cuyahoga Valley National Park",
           392.68
          ],
          [
           53.54,
           "Cuyahoga Valley National Park",
           391.3
          ],
          [
           31.08,
           "Cuyahoga Valley National Park",
           395.11
          ],
          [
           23.92,
           "Cuyahoga Valley National Park",
           392.67
          ],
          [
           35.23,
           "Cuyahoga Valley National Park",
           393.42
          ],
          [
           29,
           "Cuyahoga Valley National Park",
           394.02
          ],
          [
           36.46,
           "Cuyahoga Valley National Park",
           398.63
          ],
          [
           25.38,
           "Cuyahoga Valley National Park",
           398.52
          ],
          [
           15.77,
           "Cuyahoga Valley National Park",
           400.43
          ],
          [
           22.92,
           "Cuyahoga Valley National Park",
           396.61
          ],
          [
           25.77,
           "Congaree National Park",
           154.68
          ],
          [
           30.23,
           "Congaree National Park",
           154.67
          ],
          [
           26.31,
           "Congaree National Park",
           156.48
          ],
          [
           25.46,
           "Great Smoky Mountains National Park",
           51.15
          ],
          [
           22.31,
           "Great Smoky Mountains National Park",
           52.2
          ],
          [
           27.77,
           "Great Smoky Mountains National Park",
           53.45
          ],
          [
           22,
           "Great Smoky Mountains National Park",
           52.16
          ],
          [
           21.15,
           "Great Smoky Mountains National Park",
           58.64
          ],
          [
           20.62,
           "Great Smoky Mountains National Park",
           73.48
          ],
          [
           26.46,
           "Great Smoky Mountains National Park",
           49.56
          ],
          [
           19,
           "Great Smoky Mountains National Park",
           46.61
          ],
          [
           14.23,
           "Great Smoky Mountains National Park",
           51.1
          ],
          [
           26.15,
           "Great Smoky Mountains National Park",
           64.51
          ],
          [
           35.31,
           "Great Smoky Mountains National Park",
           48.24
          ],
          [
           26.38,
           "Great Smoky Mountains National Park",
           39.48
          ],
          [
           53.62,
           "Great Smoky Mountains National Park",
           56.36
          ],
          [
           19.92,
           "Great Smoky Mountains National Park",
           58.64
          ],
          [
           20.92,
           "Great Smoky Mountains National Park",
           49.56
          ],
          [
           36.46,
           "Great Smoky Mountains National Park",
           58.48
          ],
          [
           36.15,
           "Great Smoky Mountains National Park",
           63.33
          ],
          [
           35.77,
           "Great Smoky Mountains National Park",
           49.56
          ],
          [
           16.85,
           "Great Smoky Mountains National Park",
           56.34
          ],
          [
           30.31,
           "Great Smoky Mountains National Park",
           39.6
          ],
          [
           4.08,
           "Great Smoky Mountains National Park",
           53.39
          ],
          [
           29.23,
           "Great Smoky Mountains National Park",
           53.01
          ],
          [
           21.77,
           "Great Smoky Mountains National Park",
           52.14
          ],
          [
           22.62,
           "Great Smoky Mountains National Park",
           49.55
          ],
          [
           36.54,
           "Great Smoky Mountains National Park",
           63.3
          ],
          [
           21.85,
           "Great Smoky Mountains National Park",
           67.5
          ],
          [
           23.23,
           "Great Smoky Mountains National Park",
           64.51
          ],
          [
           29.85,
           "Great Smoky Mountains National Park",
           54.09
          ],
          [
           28.23,
           "Great Smoky Mountains National Park",
           73.12
          ],
          [
           25,
           "Great Smoky Mountains National Park",
           62.42
          ],
          [
           22.38,
           "Great Smoky Mountains National Park",
           63.16
          ],
          [
           36.85,
           "Great Smoky Mountains National Park",
           58.48
          ],
          [
           31.46,
           "Great Smoky Mountains National Park",
           51.11
          ],
          [
           39.38,
           "Great Smoky Mountains National Park",
           64.61
          ],
          [
           11.23,
           "Great Smoky Mountains National Park",
           56.34
          ],
          [
           27,
           "Great Smoky Mountains National Park",
           49.59
          ],
          [
           32.23,
           "Great Smoky Mountains National Park",
           32.4
          ],
          [
           21.62,
           "Great Smoky Mountains National Park",
           69.27
          ],
          [
           27.08,
           "Great Smoky Mountains National Park",
           55.96
          ],
          [
           29.77,
           "Great Smoky Mountains National Park",
           42.89
          ],
          [
           11.92,
           "Great Smoky Mountains National Park",
           53.73
          ],
          [
           14.23,
           "Great Smoky Mountains National Park",
           53.71
          ],
          [
           34.31,
           "Great Smoky Mountains National Park",
           55.12
          ],
          [
           16.15,
           "Great Smoky Mountains National Park",
           53.01
          ],
          [
           22.85,
           "Great Smoky Mountains National Park",
           56.25
          ],
          [
           15,
           "Great Smoky Mountains National Park",
           53.39
          ],
          [
           16,
           "Great Smoky Mountains National Park",
           53.39
          ],
          [
           25.15,
           "Great Smoky Mountains National Park",
           66.53
          ],
          [
           16.85,
           "Great Smoky Mountains National Park",
           49.65
          ],
          [
           22.46,
           "Great Smoky Mountains National Park",
           68.94
          ],
          [
           22.69,
           "Great Smoky Mountains National Park",
           49.6
          ],
          [
           19.92,
           "Great Smoky Mountains National Park",
           58.54
          ],
          [
           21,
           "Great Smoky Mountains National Park",
           52.15
          ],
          [
           23.31,
           "Great Smoky Mountains National Park",
           34.22
          ],
          [
           23.77,
           "Great Smoky Mountains National Park",
           65.72
          ],
          [
           22.15,
           "Great Smoky Mountains National Park",
           52.15
          ],
          [
           24.23,
           "Great Smoky Mountains National Park",
           63.33
          ],
          [
           7.38,
           "Great Smoky Mountains National Park",
           53.43
          ],
          [
           16.31,
           "Great Smoky Mountains National Park",
           58.53
          ],
          [
           31.77,
           "Great Smoky Mountains National Park",
           34.2
          ],
          [
           29.08,
           "Great Smoky Mountains National Park",
           39.38
          ],
          [
           22.62,
           "Great Smoky Mountains National Park",
           73
          ],
          [
           31.15,
           "Great Smoky Mountains National Park",
           68.91
          ],
          [
           20.69,
           "Great Smoky Mountains National Park",
           49.63
          ],
          [
           24.31,
           "Great Smoky Mountains National Park",
           48.1
          ],
          [
           18.08,
           "Great Smoky Mountains National Park",
           55.57
          ],
          [
           21.62,
           "Great Smoky Mountains National Park",
           48.2
          ],
          [
           21.08,
           "Great Smoky Mountains National Park",
           54.7
          ],
          [
           32.15,
           "Great Smoky Mountains National Park",
           58.55
          ],
          [
           27.69,
           "Great Smoky Mountains National Park",
           58.63
          ],
          [
           30.92,
           "Great Smoky Mountains National Park",
           78.18
          ],
          [
           9.23,
           "Great Smoky Mountains National Park",
           71.6
          ],
          [
           24.69,
           "Great Smoky Mountains National Park",
           62.34
          ],
          [
           25.46,
           "Great Smoky Mountains National Park",
           75.88
          ],
          [
           2.54,
           "Great Smoky Mountains National Park",
           39.46
          ],
          [
           10.08,
           "Great Smoky Mountains National Park",
           56.23
          ],
          [
           25,
           "Great Smoky Mountains National Park",
           62.42
          ],
          [
           24.46,
           "Great Smoky Mountains National Park",
           39.55
          ],
          [
           20,
           "Great Smoky Mountains National Park",
           67.5
          ],
          [
           24.54,
           "Great Smoky Mountains National Park",
           47.92
          ],
          [
           24.77,
           "Great Smoky Mountains National Park",
           67.49
          ],
          [
           8.23,
           "Great Smoky Mountains National Park",
           67.5
          ],
          [
           24.54,
           "Great Smoky Mountains National Park",
           66.52
          ],
          [
           9.15,
           "Great Smoky Mountains National Park",
           39.47
          ],
          [
           24.85,
           "Great Smoky Mountains National Park",
           58.47
          ],
          [
           9.54,
           "Great Smoky Mountains National Park",
           39.36
          ],
          [
           9.23,
           "Great Smoky Mountains National Park",
           78.25
          ],
          [
           23.69,
           "Great Smoky Mountains National Park",
           49.59
          ],
          [
           25.69,
           "Great Smoky Mountains National Park",
           58.53
          ],
          [
           9.46,
           "Great Smoky Mountains National Park",
           66.47
          ],
          [
           16.15,
           "Great Smoky Mountains National Park",
           49.6
          ],
          [
           2.31,
           "Great Smoky Mountains National Park",
           70.31
          ],
          [
           42.38,
           "Great Smoky Mountains National Park",
           64.57
          ],
          [
           16.23,
           "Great Smoky Mountains National Park",
           39.46
          ],
          [
           10,
           "Great Smoky Mountains National Park",
           71.03
          ],
          [
           9.23,
           "Great Smoky Mountains National Park",
           56.43
          ],
          [
           16.92,
           "Great Smoky Mountains National Park",
           38.35
          ],
          [
           17.54,
           "Great Smoky Mountains National Park",
           78.18
          ],
          [
           10.23,
           "Great Smoky Mountains National Park",
           69.34
          ],
          [
           18.23,
           "Great Smoky Mountains National Park",
           39.6
          ],
          [
           17.77,
           "Great Smoky Mountains National Park",
           66.52
          ],
          [
           17.15,
           "Great Smoky Mountains National Park",
           42.89
          ],
          [
           17.62,
           "Great Smoky Mountains National Park",
           39.37
          ],
          [
           33.69,
           "Shenandoah National Park",
           312.97
          ],
          [
           18.69,
           "Shenandoah National Park",
           309.06
          ],
          [
           8.31,
           "Shenandoah National Park",
           304.79
          ],
          [
           0.77,
           "Shenandoah National Park",
           300.29
          ],
          [
           14.85,
           "Shenandoah National Park",
           308.25
          ],
          [
           34.38,
           "Shenandoah National Park",
           309.74
          ],
          [
           8.54,
           "Shenandoah National Park",
           310.35
          ],
          [
           29.15,
           "Shenandoah National Park",
           295.05
          ],
          [
           8.31,
           "Shenandoah National Park",
           310.36
          ],
          [
           24.62,
           "Shenandoah National Park",
           308.25
          ],
          [
           31.23,
           "Shenandoah National Park",
           315.56
          ],
          [
           34.85,
           "Shenandoah National Park",
           275.73
          ],
          [
           9.38,
           "Shenandoah National Park",
           279.05
          ],
          [
           29.08,
           "Shenandoah National Park",
           307.41
          ],
          [
           12.69,
           "Shenandoah National Park",
           282.54
          ],
          [
           14.92,
           "Shenandoah National Park",
           304.93
          ],
          [
           12.62,
           "Shenandoah National Park",
           322.41
          ],
          [
           23.77,
           "Shenandoah National Park",
           279.66
          ],
          [
           38.69,
           "Shenandoah National Park",
           272.77
          ],
          [
           25.15,
           "Shenandoah National Park",
           282.54
          ],
          [
           16.54,
           "Shenandoah National Park",
           304.93
          ],
          [
           23.77,
           "Shenandoah National Park",
           314.88
          ],
          [
           40.23,
           "Shenandoah National Park",
           312.97
          ],
          [
           30.62,
           "Shenandoah National Park",
           314.93
          ],
          [
           24.77,
           "Shenandoah National Park",
           330
          ],
          [
           25.08,
           "Shenandoah National Park",
           272.77
          ],
          [
           27.08,
           "Shenandoah National Park",
           309.03
          ],
          [
           22,
           "Shenandoah National Park",
           329.16
          ],
          [
           34.85,
           "Shenandoah National Park",
           274.69
          ],
          [
           22.92,
           "Shenandoah National Park",
           329.04
          ],
          [
           3.46,
           "Shenandoah National Park",
           309.53
          ],
          [
           43,
           "Fort Hunt National Park",
           370.5
          ],
          [
           32.62,
           "Shenandoah National Park",
           321.83
          ],
          [
           31.69,
           "Shenandoah National Park",
           303.76
          ],
          [
           31,
           "Shenandoah National Park",
           313.14
          ],
          [
           14.77,
           "Shenandoah National Park",
           283.85
          ],
          [
           23.92,
           "Shenandoah National Park",
           321.5
          ],
          [
           33.62,
           "Shenandoah National Park",
           308.23
          ],
          [
           30.38,
           "Shenandoah National Park",
           317.13
          ],
          [
           29.46,
           "Shenandoah National Park",
           275.72
          ],
          [
           16.54,
           "Shenandoah National Park",
           280.81
          ],
          [
           25.08,
           "Shenandoah National Park",
           327.86
          ],
          [
           24.15,
           "Shenandoah National Park",
           303.3
          ],
          [
           24,
           "Shenandoah National Park",
           292.78
          ],
          [
           17.62,
           "Shenandoah National Park",
           275.48
          ],
          [
           29.77,
           "Shenandoah National Park",
           331.96
          ],
          [
           19.85,
           "Shenandoah National Park",
           291.94
          ],
          [
           24.62,
           "Shenandoah National Park",
           313.01
          ],
          [
           39.85,
           "Shenandoah National Park",
           319.65
          ],
          [
           25,
           "Shenandoah National Park",
           309.11
          ],
          [
           33.38,
           "Shenandoah National Park",
           279
          ],
          [
           19.46,
           "Shenandoah National Park",
           308.23
          ],
          [
           33.77,
           "Shenandoah National Park",
           304.26
          ],
          [
           21.15,
           "Shenandoah National Park",
           311.3
          ],
          [
           29.23,
           "Shenandoah National Park",
           309.91
          ],
          [
           18.77,
           "Shenandoah National Park",
           321.09
          ],
          [
           21.15,
           "Shenandoah National Park",
           311.31
          ],
          [
           9.23,
           "Shenandoah National Park",
           309.75
          ],
          [
           13.92,
           "Shenandoah National Park",
           330.09
          ],
          [
           10.62,
           "Shenandoah National Park",
           308.23
          ],
          [
           29.46,
           "Shenandoah National Park",
           327.98
          ],
          [
           25.77,
           "Shenandoah National Park",
           324.08
          ],
          [
           32.69,
           "Shenandoah National Park",
           304.21
          ],
          [
           27.46,
           "Shenandoah National Park",
           321.17
          ],
          [
           19.38,
           "Shenandoah National Park",
           317.07
          ],
          [
           9.77,
           "Shenandoah National Park",
           304.54
          ],
          [
           25.38,
           "Shenandoah National Park",
           314.93
          ],
          [
           23.38,
           "Shenandoah National Park",
           320.84
          ],
          [
           22.62,
           "Shenandoah National Park",
           304.88
          ],
          [
           17.85,
           "Shenandoah National Park",
           327.98
          ],
          [
           18,
           "Shenandoah National Park",
           286.03
          ],
          [
           25.23,
           "Shenandoah National Park",
           301.4
          ],
          [
           23.31,
           "Shenandoah National Park",
           265.45
          ],
          [
           17.85,
           "Shenandoah National Park",
           271.56
          ],
          [
           32.38,
           "Shenandoah National Park",
           332.46
          ],
          [
           19.62,
           "Shenandoah National Park",
           321.16
          ],
          [
           23.23,
           "Shenandoah National Park",
           265.52
          ],
          [
           27.85,
           "Shenandoah National Park",
           329.17
          ],
          [
           24.46,
           "Shenandoah National Park",
           312.4
          ],
          [
           16.08,
           "Shenandoah National Park",
           311.31
          ],
          [
           25.08,
           "Shenandoah National Park",
           314.89
          ],
          [
           17.15,
           "Shenandoah National Park",
           328.01
          ],
          [
           14,
           "Shenandoah National Park",
           295.05
          ],
          [
           19.15,
           "Shenandoah National Park",
           304.54
          ],
          [
           34.69,
           "Shenandoah National Park",
           330.97
          ],
          [
           32.38,
           "Shenandoah National Park",
           312.42
          ],
          [
           18.15,
           "Shenandoah National Park",
           272.53
          ],
          [
           33.46,
           "Shenandoah National Park",
           282.54
          ],
          [
           2.15,
           "Shenandoah National Park",
           280.76
          ],
          [
           33.85,
           "Shenandoah National Park",
           279
          ],
          [
           17.62,
           "Shenandoah National Park",
           313
          ],
          [
           16.54,
           "Shenandoah National Park",
           329.17
          ],
          [
           7.69,
           "Shenandoah National Park",
           325.33
          ],
          [
           29.62,
           "Shenandoah National Park",
           284.89
          ],
          [
           9.69,
           "Shenandoah National Park",
           317.12
          ],
          [
           25.69,
           "Shenandoah National Park",
           327.98
          ],
          [
           26.77,
           "Shenandoah National Park",
           316.18
          ],
          [
           30.31,
           "Shenandoah National Park",
           290.34
          ]
         ],
         "hovertemplate": "<b>%{hovertext}</b><br><br>Score=%{marker.color}<br>latitude=%{lat}<br>longitude=%{lon}<br>area_name=%{customdata[1]}<br>Distance=%{customdata[2]}<extra></extra>",
         "hovertext": [
          "Sunset Trail",
          "West Mountain Trail",
          "Goat Rock Trail",
          "Gulpha Gorge Trail",
          "Dead Chief Trail",
          "Hot Springs Mountain Trail",
          "Sugarloaf Mountain Via Sunset Trail",
          "Goat Rock via Dead Chief Trail",
          "Hot Springs Sunset Trail Full Circle",
          "Sunset Trail: Sugarloaf Mountain Section",
          "Anhinga Trail",
          "Pa-Hay-Okee Overlook Trail",
          "Gumbo Limbo Trail",
          "Everglades Coastal Prairie Trail",
          "Fort Jefferson Loop",
          "Pinelands Trail",
          "Little Calumet River Trail Loop",
          "West Beach Loop with Scallop Dunes and Long Lake Trail",
          "West Beach Loop",
          "Miller Woods Trail",
          "Dune Ridge Trail",
          "Tolleston Dunes",
          "Green River Bluffs Trail",
          "Cedar Sink Trail",
          "Sal Hollow and Buffalo Creek Loop Trail",
          "Dixon Cave Trail Loop",
          "Heritage Trail Loop",
          "Big Hollow North and South Loops Trail",
          "Mammoth Cave Railroad Trail",
          "Sand Cave Trail",
          "Sloan's Crossing Pond Trail",
          "Turnhole Bend Nature Trail",
          "The Beehive Loop Trail",
          "Cadillac North Ridge Trail",
          "Jordan Pond Full Loop Trail",
          "Ocean Path and Gorham Mountain Loop Trail",
          "Cadillac Mountain South Ridge Trail Loop",
          "Precipice, Orange and Black and Champlain North Ridge Trail Loop",
          "Ocean Path Trail: Thunder Hole and Monument Cove",
          "Great Head Trail (Short Option)",
          "South Bubble Mountain and Jordan Pond Loop",
          "Acadia Mountain and St. Sauveur Mountain Trail Loop",
          "Gorham Mountain",
          "Bubbles Trail to Conners Nubble and Eagle Lake",
          "Ship Harbor Trail",
          "Penobscot Mountain Trail",
          "Dorr Mountain Ladder Trail",
          "Beech Mountain Loop Trail",
          "Bar Island Trail",
          "Great Head Trail (Full Loop)",
          "Wonderland Trail",
          "The Bowl Trail",
          "Eagle Lake Carriage Road Trail",
          "Flying Mountain Trail",
          "Acadia Mountain and Man O War Trail",
          "Gorge Path Trail",
          "North Gorham Mountain Trail",
          "Pemetic North and South Ridge Trails",
          "The Beehive via Bowl Trail",
          "Sargent Mountain South Ridge Trail",
          "Champlain Mountain & Beehive Loop Trail",
          "Jordan Cliffs Trail to Penobscot Mountain",
          "Jordan Pond East Side Trail",
          "North Bubble Trail",
          "Bass Harbor Head Light Trail",
          "Jordan Pond to South Bubble Summit",
          "The Bubbles and North Bubble",
          "Beehive, Gorham Mountain and Ocean Path Loop",
          "Dorr Mountain Cannon Brook Loop Trail",
          "Jordan Pond, Sargent Mountain, and Penobscot Mountain Loop Trail",
          "Parkman Mountain Trail",
          "Beech Cliff Trail via Beech Cliff Loop",
          "Sargent Mountain and Gilmore Peak via Giant Slide Trail",
          "Jesup Trail",
          "Jordan Pond West Side Trail",
          "Beachcroft Path Trail",
          "Champlain North Ridge Trail",
          "Schiff Path to Dorr Mountain",
          "Beehive, the Bowl, Gorham Mountain, Ocean Drive Loop",
          "Beech Cliff  Ladder and Canada Cliff Loop",
          "Norumbega Mountain and Hadlock Ponds Loop Trail",
          "Compass Harbor Trail",
          "Perpendicular Trail",
          "Beech Mountain and Valley Loop",
          "Cadillac Mountain West Face Trail",
          "Pemetic Mountain via Pemetic Northwest Trail",
          "Jordan Pond Carry to Eagle Lake and Bubbles Trails Loop",
          "Conners Nubble Trail",
          "Bald Peak Trail",
          "Canon Brook Trail",
          "Sargent Mountain",
          "Schoodic Head Overlook and The Anvil Loop Trail",
          "Witch Hold Pond, Eagle Lake and Around Mountain Carriage Road",
          "Dorr Mountain North Ridge Trail to Gorge Path Loop",
          "Bernard Mountain Loop Trail",
          "Homans and Emery Path",
          "Lower Hadlock Pond Loop Trail",
          "Mansell Mountain Loop Trail",
          "Spring, Penobscot Mountain, Deer Brook and Jordan Pond Path Loop",
          "Schooner Head Path",
          "Day Mountain Trail",
          "Saint Sauveur Mountain and Valley Peak Loop Trail",
          "Beehive, The Bowl, and Gorham Mountain",
          "Long Pond And Great Notch Trails",
          "Beachcroft Path and Champlain North Ridge Trail",
          "Quarry Path and Otter Cove Trail",
          "Maple Spring Trail",
          "Jordan Stream Path",
          "Valley Peak Trail",
          "Cannon Brook, Cadillac South Ridge and Ladder Trail",
          "Carriage and Around Mountain Road Loop",
          "Bubbles Divide via Jordans Pond Path",
          "Valley and Beech South Ridge Trails",
          "Beech Mountain West Ridge Trail",
          "Schoodic Head Trail",
          "Deer Brook Trail via Jordan Pond Path",
          "Razorback Trail",
          "Jordan Cliffs to Sargent and Penobscot Mountain Loop",
          "Cadillac North Ridge Trail to South Ridge Trail",
          "Saint Sauveur and Acadia Mountain",
          "Triad and Pemetic East Cliff Trails",
          "Stratheden Trail",
          "Canon Brook, Cadillac South Ridge and Dorr Mountain South Ridge Trail Loop",
          "The Anvil Trail",
          "Valley Cove Trail",
          "Cadillac Mountain North Ridge and Gorge Path Loop",
          "Mansell Mountain via Perpendicular, Razorback and Cold Brook Trail Loop",
          "Ledge Trail to Saint Sauveur Trail",
          "Kebo Mountain and Dorr North Ridge Trails",
          "Valley Trail to Canada Cliff Trail",
          "Precipice, Orange, Black Path and Schooner Head Loop",
          "Acadia Long Pond Loop Trail",
          "Alder Trail to The Anvil",
          "Bernard Mountain Trail",
          "Penobscot Mountain and Bubbles Loop",
          "A. Murray Young Path via Canon Brook  and Dorr South Ridge Trail",
          "Parkman to Sargent to Maple Springs via Carriage Road",
          "Bowl, Beehive, Chaplain South Ridge and The Precipice Trail",
          "Andrews Bald Trail",
          "Deep Creek Loop Trail",
          "Mouse Creek Falls via Big Creek Trail",
          "Juney Whank Falls Trail",
          "Hemp Hill Road Trail",
          "Oconaluftee River Trail",
          "Deep Creek Waterfall Loop",
          "Kephart Shelter via Kephart Prong Trail",
          "Forney Ridge Trail",
          "Shuckstack Tower via Appalachian Trail",
          "Newfound Gap to Clingmans Dome Trail",
          "The Boogerman Trail",
          "Charlies Bunion via Kephart Loop",
          "Mount Sterling Overnight Loop Trail",
          "Gregory Bald via Twentymile",
          "Smokemont Loop Trail",
          "Silers Bald and Forney Creek Loop Trail",
          "Cataloochee Divide Trail",
          "Noland Divide Trail",
          "Flat Creek Trail",
          "Appalachian Trail: Charlie's Bunion and Kephart Loop",
          "Silers Bald Trail",
          "Deep Creek to Clingman's Dome Loop",
          "Deep Creek Martin's Gap Sunkota Ridge Trail Loop",
          "Fork Mountain Loop Trail",
          "Purchase Knob Trail",
          "Little Cataloochee Trail",
          "Bradley Fork and Chasteen Creek Loop Trail",
          "Newfound Gap and Low Gap",
          "Little Tennessee Lakeshore Trail",
          "Indian Creek and Sunkota Ridge Trail",
          "Forney Creek Trail",
          "Rough Fork Trail",
          "Mingus Mill and Newton Bald Trail",
          "Appalachian Trail: Fontana Dam to Davenport Gap",
          "Forney Ridge Trail to Clingmans Dome Loop",
          "Shuckstack via Twentymile",
          "Twentymile Loop Trail",
          "Spruce Fir Self-Guiding Nature Trail",
          "Road Prong Trail",
          "Lonesome Pine Overlook",
          "Appalachian Trail, Lost Cove, and Lakeshore Loop",
          "Fontana Dam To Fire Tower",
          "Balsam Mountain Trail to Appalachian Trail Junction",
          "Chasteen Creek Trail",
          "Twentymile, Gregory Bald, and Shuckstack Loop",
          "Caldwell Fork Loop",
          "Kephart Prong Trail - Charlies Bunion - Mount LeConte",
          "Hemphill Bald via Cataloochee Divide Trail",
          "Deep Creek Trail",
          "Enloe Creek Trail",
          "Ledges Trail",
          "Brandywine Gorge Trail",
          "Stanford House to Brandywine Falls Trail",
          "Blue Hen Falls Trail",
          "Plateau Trail",
          "Pine Grove Trail and Ledges Trail Loop from Kendall Lake",
          "Buckeye Trail to Valley Bridle Trail Loop",
          "Wetmore Bridle Trail",
          "Ohio and Erie Canal Towpath Trail: Brecksville Station",
          "Buckeye Trail: Blue Hen to Jaite",
          "Buckeye Trail: Jaite to Brecksville Station",
          "Boston Run Trail",
          "Pine Grove Trail",
          "Buckeye Trail and Ohio & Erie Canal Towpath Loop",
          "Oak Hill Trail",
          "Ledges Trail and Pine Grove Trail Loop",
          "Boston to Red Lock Loop via Buckeye Trail and Ohio and Erie Canal Towpath",
          "Wetmore Outer Loop",
          "Tree Farm Trail",
          "Ohio and Erie Canal Towpath: Peninsula to Boston Mills",
          "Perkins Trail and Riding Run Loop",
          "Ohio and Erie Canal Towpath from Ira Trailhead",
          "Ledges Trail Loop via Haskell Run Trail",
          "Furnace Run",
          "Cross Country Trail from Quick Road",
          "Cross Country Trail from Kendall Lake",
          "Ohio and Erie Canal Towpath: Red Lock to Peninsula",
          "Buckeye Trail: Jaite to Boston",
          "Twin Sister Falls",
          "East Rim MTB Trail",
          "Weston Lake Loop Trail",
          "Oakridge Trail",
          "Kingsnake Trail",
          "Alum Cave Trail to Mount LeConte",
          "Chimney Tops Trail",
          "Rainbow Falls Trail",
          "Grotto Falls Trail",
          "Laurel Falls Trail",
          "Abrams Falls Trail",
          "Charlies Bunion via Appalachian Trail",
          "Ramsey Cascades Trail",
          "Peregrine Peak via Alum Cave Bluffs Trail",
          "Spruce Flats Falls Trail",
          "Porters Creek Trail",
          "Mount Cammerer via Low Gap Trail",
          "Gatlinburg Trail",
          "Laurel Falls and Cove Mountain",
          "Jump Off Trail via Appalachian Trail",
          "Cucumber Gap and Little River Loop Trail",
          "Indian Flats Falls via Middle Prong Trail",
          "Mount LeConte via Appalachian Trail and Boulevard Trail",
          "Cataract Falls",
          "Gabes Mountain Trail to Hen Wallow Falls",
          "Mount LeConte and Rainbow Falls via The Bullhead Trail",
          "Baskins Creek Trail and Baskins Creek Falls",
          "Mount LeConte via Trillium Gap Loop Trail",
          "Icewater Spring via Appalachian Trail",
          "Middle Prong Trail",
          "Rocky Top from Lead Cove Trailhead",
          "Spruce Flats Falls via Lumber Ridge Loop",
          "Roaring Fork Motor Nature Trail",
          "Gregory Ridge Trail to Gregory Bald",
          "Walker Sisters Home via Little Brier Gap Trail",
          "Meigs Creek Trail",
          "Little River Trail to Little River Upper Falls and Grouse Creek Campground",
          "Myrtle Point and Mount LeConte via Alum Cave Trail",
          "West Prong Trail",
          "Fighting Creek Nature Trail",
          "Appalachian Trail: Newfound Gap to Sweat Heifer Creek Trail",
          "Mount Sterling via Mount Sterling Gap",
          "Rich Mountain Loop Trail",
          "Sugarlands Valley Nature Trail",
          "Maddron Bald Trail to Albright Grove Loop",
          "Noah \"Bud\" Ogle Self-Guiding Trail",
          "Appalachian Trail: Clingman Dome to Cades Cove",
          "Twin Creeks Trail",
          "Baskins Creek Falls Trail to Greenbrier Cove",
          "Old Sugarlands Trail",
          "Mount LeConte via Rainbow Falls Trail",
          "Rainbow Falls Trail and Cliff Tops Trail",
          "Schoolhouse Gap Trail",
          "Injun Creek Trail",
          "Anthony Creek Leadbetter Ridge Loop Trail",
          "Myrtle Point via Appalachian Trail and Boulevard Trail",
          "Jakes Creek Trail to Avent Cabin",
          "Mount Le Conte",
          "Chestnut Branch Trail to Mount Cammerer",
          "Chestnut Top Trail to Whiteoak Sink",
          "Brushy Mountain",
          "Lynn Camp Via Middle Prong Trail",
          "Cove Hardwoods Nature Trail",
          "Jakes Creek via Miry Ridge Trail and Appalachian Trail Loop",
          "Mt. Sterling via Baxter Creek Trail",
          "Lower Mount Cammerer Trail",
          "Elijah Oliver Place Trail",
          "Rocky Top via Anthony Creek Trail",
          "Newfound Gap to Indian Gap",
          "Grapeyard Ridge Trail",
          "Huskey Gap Trail",
          "Brushy Mountain Trail",
          "Courthouse Rock Trail",
          "Jakes Creek and Lynn Camp Prong",
          "Sugarland Mountain Trail",
          "Little Bottoms Trail",
          "Appalachian Trail: Fontana Lake to Mount Squires",
          "Curry Mountain Trail",
          "Gregory's Little Bald Trail",
          "Cosby Self-Guided Nature Trail",
          "Old Sugarlands, Twin Creeks, Gatlinburg Loop Trail",
          "Metcalf Bottoms Trail to Laurel Falls",
          "Gabes Mountaun, Maddron Bald and Snake Den Ridge Loop",
          "Finley Cane Trail",
          "Old Settlers Trail",
          "Lead Cove Trail",
          "Lead Cove and Finley Cane Trail",
          "Whiteoak Sinks",
          "Mount Cammerer Loop - Low Gap and Lower Cammerer",
          "Little River and Goshen Prong Trail",
          "Snake Den Ridge Low Gap Trail",
          "Rabbit and Abrams Creeks Loop Trail",
          "Appalachian Trail: Newfound Gap to Fontana Lake",
          "Meigs Mountain Trail",
          "Bote Mountain Trail",
          "Appalachian Trail: Newfound Gap to Davenport Gap",
          "Cades Cove Loop Hike",
          "Tremont Logging History Auto Tour",
          "Mount Sterling Loop (via Low Gap, Big Creek, Swallow Fork)",
          "Ace Gap Trail",
          "Cove Mountain Laurel Falls Loop Trail",
          "Mount Cammerer via Groundhog Ridge Manway",
          "Abrams Creek and Cooper Road Loop Trail",
          "Abrams Creek Trail",
          "Gabes Mountain Trail to Greenbrier Creek",
          "Laurel Creek Loop Trail",
          "Maddron Bald",
          "Snake Den Ridge Trail",
          "Old Rag Mountain Loop",
          "White Oak Canyon and Cedar Run Trails Loop",
          "Dark Hollow Falls Trail",
          "Bearfence Mountain Trail",
          "Hawksbill Gap Loop via Appalachian Trail",
          "White Oak Canyon Trail",
          "Stony Man via Appalachian Trail",
          "South River Falls Trail",
          "Little Stony Man Loop via Appalachian Trail",
          "Hawksbill Summit Trail",
          "Marys Rock via Appalachian Trail (North Approach)",
          "Riprap Trail",
          "Blackrock Summit via Trayfoot Mountain and Appalachian Trail",
          "Upper Hawksbill Trail",
          "Doyles River Loop via Appalachian Trail",
          "Dark Hollow via Appalachian Trail and Story of the Forest Trail",
          "Overall Run Loop",
          "Jones Run Falls Trail",
          "Turk Mountain Trail",
          "Doyles River Falls Trail",
          "Lewis Spring Falls Trail",
          "Mary's Rock via the Appalachian Trail (Southern Approach)",
          "Old Rag Mountain via Weakley Hollow Fire Road",
          "Hazel Falls and Caves",
          "Snead Farm Dickey Ridge Loop Trail",
          "Moormans River Overnight Loop via Appalachian Trail",
          "Shenandoah National Park Loop",
          "Compton Peak Summit via Appalachian Trail",
          "North Fork Moormans River",
          "Lands Run Falls Trail",
          "Limberlost Trail",
          "Mount Vernon Trail",
          "Beecher Ridge and Overall Run Loop via Appalachian Trail",
          "Staunton River Trail to Bear Church Rock",
          "Marys Rock via Pinnacle Picnic Grounds",
          "Loft Mountain Loop via Appalachian Trail",
          "Mathews Arm Overall Run Trail",
          "Cedar Run Falls Trail",
          "Buck Ridge Trail To Mary's Rock Loop",
          "Calvary and Chimney Rocks Trail",
          "Appalachian Trail: Jones Run Trail to Pinefield Gap",
          "Mount Marshall Loop via Appalachian Trail",
          "Laurel Prong, Rapidan Camp, Jones Mountain Trail via Appalachian Trail",
          "Hightop Peak Loop via Appalachian Trail",
          "Trayfoot Mountain Trail",
          "Dickey Ridge Trail",
          "Hightop Peak Trail",
          "Robertson Mountain Trail Loop",
          "Jeremy's Run Trail",
          "Cedar Run Trail to Hawksbill to White Oak Trail Loop",
          "Furnace Mountain Trail",
          "Crescent Rock via Appalachian Trail",
          "Rapidan Camp Rapidan River via Millprong",
          "Little Stony Man to Stony Man Loop via Appalachian Trail",
          "Millers Head Trail",
          "Sugarloaf Loop via Appalachian Trail",
          "Little Stony Man via Appalachian Trail",
          "Skyline to Old Rag Mountain Loop",
          "Fox Hollow Trail",
          "Cedar Run Trail to White Oak Fire Road Loop",
          "Compton Peak from Jenkins Gap via Appalachian Trail",
          "Big Devil Stairs Trail",
          "Lewis Falls via Lewis Spring",
          "Tuscarora-Overall Run Trail",
          "White Rocks Trail",
          "Story of the Forest Trail",
          "Hazel Mountain, Sam's Ridge, White Rocks Loop",
          "Appalachian Trail: Hogback Overlook to Jenkins Gap",
          "Blackrock Trail",
          "Mount Marshall via the Appalacian Trail",
          "Rocky Mount and Gap Run Trails",
          "Jones Mountain Trail to Cat Knob and Bear Church Rock",
          "Skyline Drive: Waynesboro to Front Royal",
          "Jarman to Turk's Mountain Loop",
          "Appalachian Trail: Sloan Creek to Jenkins Gap",
          "Elkwallow, Mathews Arm, and Knob Mountain Cutoff Trail",
          "Appalachian Trail: Shenandoah National Park",
          "Appalachian Trail: Compton Gap to Jenkins Gap",
          "Corbin Cabin and Nicholson Hollow Loop via Appalachian Trail and Indian Run Trail",
          "Passamaquoddy Trail",
          "Hazel River Trail",
          "Bluff Trail, Mount Marshall Trail, Appalachian Loop",
          "Saddleback Mountain and Appalachian Trail Loop",
          "Rose River Trail to Story of the Forest Trail Loop",
          "Lands Run Falls to Hickerson Hollow via Appalachian Trail",
          "Corbin Cabin Trail",
          "Turk Branch Trail",
          "Big Run Trail",
          "Austin Mountain and Furnace Mountain Loop",
          "Austin Mountain Trail",
          "Catlett Mountain",
          "Carson Mountain Fort Windham Rocks via Appalachian Trail",
          "North Marshall Mountain",
          "Ivy Creek via Appalachian Trail",
          "Thorton Gap and Buck Hollow Trail",
          "The Peak Trail",
          "Cave Falls via Hazel River and White Rocks Trail",
          "Hightop Trail"
         ],
         "lat": [
          34.5256,
          34.51279,
          34.52802,
          34.52556,
          34.51359,
          34.52598,
          34.50846,
          34.52559,
          34.5117,
          34.51403,
          25.38252,
          25.44076,
          25.38245,
          25.13673,
          24.62723,
          25.42319,
          41.6245,
          41.62244,
          41.62254,
          41.60671,
          41.67729,
          41.61477,
          37.18836,
          37.15571,
          37.2057,
          37.18657,
          37.1857,
          37.2057,
          37.10426,
          37.15271,
          37.1511,
          37.16245,
          44.33153,
          44.37854,
          44.322,
          44.32998,
          44.31306,
          44.34971,
          44.32985,
          44.33001,
          44.34113,
          44.32162,
          44.31667,
          44.34118,
          44.23165,
          44.32023,
          44.35175,
          44.31514,
          44.3921,
          44.33388,
          44.23375,
          44.33155,
          44.37792,
          44.29949,
          44.3219,
          44.3526,
          44.33155,
          44.34827,
          44.33154,
          44.31218,
          44.35871,
          44.32042,
          44.32357,
          44.34113,
          44.22251,
          44.32238,
          44.34115,
          44.33007,
          44.35181,
          44.3229,
          44.32589,
          44.31527,
          44.35026,
          44.35902,
          44.32236,
          44.35841,
          44.36312,
          44.362,
          44.32984,
          44.31496,
          44.32592,
          44.37374,
          44.30009,
          44.31519,
          44.34967,
          44.34121,
          44.34104,
          44.37786,
          44.32583,
          44.34816,
          44.32904,
          44.35216,
          44.40921,
          44.37112,
          44.29241,
          44.36277,
          44.31088,
          44.30014,
          44.32046,
          44.3398,
          44.29917,
          44.31185,
          44.33165,
          44.30001,
          44.35911,
          44.31029,
          44.32588,
          44.31992,
          44.29948,
          44.35166,
          44.31224,
          44.3237,
          44.31518,
          44.30021,
          44.35015,
          44.32294,
          44.29661,
          44.3205,
          44.3786,
          44.31193,
          44.31586,
          44.37577,
          44.34813,
          44.35004,
          44.29954,
          44.3728,
          44.3001,
          44.31185,
          44.37697,
          44.31507,
          44.34951,
          44.3002,
          44.35004,
          44.29508,
          44.32188,
          44.34815,
          44.32935,
          44.33154,
          35.5569,
          35.46438,
          35.75185,
          35.46429,
          35.57429,
          35.51326,
          35.4643,
          35.5858,
          35.5568,
          35.46045,
          35.61035,
          35.63138,
          35.5858,
          35.75146,
          35.46735,
          35.5556,
          35.55707,
          35.63257,
          35.45919,
          35.57313,
          35.60952,
          35.55683,
          35.45982,
          35.46415,
          35.70021,
          35.58625,
          35.67639,
          35.56294,
          35.55655,
          35.45901,
          35.46417,
          35.55696,
          35.6161,
          35.52091,
          35.45184,
          35.5568,
          35.46741,
          35.46718,
          35.5956,
          35.60949,
          35.45958,
          35.46104,
          35.45235,
          35.63363,
          35.56269,
          35.46749,
          35.63137,
          35.58572,
          35.58202,
          35.59945,
          35.60892,
          41.22386,
          41.27688,
          41.27104,
          41.25634,
          41.21948,
          41.21802,
          41.23943,
          41.21248,
          41.31788,
          41.25609,
          41.28877,
          41.23206,
          41.22634,
          41.26251,
          41.21942,
          41.22308,
          41.26274,
          41.21244,
          41.23328,
          41.2433,
          41.20419,
          41.18411,
          41.23193,
          41.20417,
          41.20925,
          41.21792,
          41.28955,
          41.28875,
          41.3183,
          41.25512,
          33.82961,
          33.83019,
          33.82033,
          35.62957,
          35.63544,
          35.67592,
          35.68027,
          35.6719,
          35.59095,
          35.61098,
          35.70272,
          35.62874,
          35.64105,
          35.69662,
          35.75637,
          35.68562,
          35.6719,
          35.61097,
          35.65342,
          35.61853,
          35.61095,
          35.68551,
          35.75779,
          35.67573,
          35.67745,
          35.68006,
          35.61096,
          35.61741,
          35.60686,
          35.64146,
          35.68552,
          35.56245,
          35.67828,
          35.6693,
          35.65366,
          35.62909,
          35.64091,
          35.68552,
          35.61084,
          35.70021,
          35.60645,
          35.67956,
          35.76935,
          35.68348,
          35.56271,
          35.70124,
          35.67703,
          35.68804,
          35.67577,
          35.6755,
          35.62725,
          35.72964,
          35.60421,
          35.61041,
          35.65229,
          35.68029,
          35.75946,
          35.66054,
          35.68026,
          35.61861,
          35.63642,
          35.65201,
          35.75117,
          35.75396,
          35.59758,
          35.60501,
          35.61057,
          35.70772,
          35.66318,
          35.69686,
          35.65007,
          35.65234,
          35.67171,
          35.60914,
          35.46048,
          35.67542,
          35.54295,
          35.7559,
          35.68757,
          35.67822,
          35.75722,
          35.60662,
          35.70774,
          35.60661,
          35.60663,
          35.62771,
          35.75595,
          35.65359,
          35.75363,
          35.60777,
          35.61105,
          35.65192,
          35.62813,
          35.61071,
          35.60674,
          35.64103,
          35.75576,
          35.64565,
          35.68795,
          35.78288,
          35.60931,
          35.60628,
          35.75762,
          35.62834,
          35.76937,
          35.75377,
          38.57052,
          38.53906,
          38.51971,
          38.45239,
          38.55647,
          38.58589,
          38.59318,
          38.38115,
          38.59308,
          38.55641,
          38.65928,
          38.17789,
          38.22304,
          38.54389,
          38.25426,
          38.53061,
          38.80185,
          38.2299,
          38.12901,
          38.25429,
          38.53082,
          38.63775,
          38.57112,
          38.63832,
          38.87069,
          38.12911,
          38.53952,
          38.82325,
          38.13943,
          38.83388,
          38.57993,
          38.7108,
          38.76133,
          38.43715,
          38.62462,
          38.2629,
          38.76417,
          38.55605,
          38.65829,
          38.17774,
          38.24079,
          38.80233,
          38.50018,
          38.35641,
          38.19973,
          38.9062,
          38.34493,
          38.57044,
          38.73849,
          38.53977,
          38.25759,
          38.55598,
          38.51639,
          38.60573,
          38.59052,
          38.75135,
          38.60577,
          38.58585,
          38.87183,
          38.55605,
          38.80698,
          38.76778,
          38.51697,
          38.75957,
          38.62958,
          38.51877,
          38.6383,
          38.75065,
          38.52959,
          38.80704,
          38.29919,
          38.46838,
          38.03281,
          38.09769,
          38.87779,
          38.7598,
          38.03431,
          38.82346,
          38.61578,
          38.60566,
          38.63783,
          38.80723,
          38.38114,
          38.51872,
          38.86082,
          38.61608,
          38.12536,
          38.25432,
          38.2404,
          38.25761,
          38.57044,
          38.82363,
          38.77507,
          38.28487,
          38.65839,
          38.80698,
          38.61445,
          38.32836
         ],
         "legendgroup": "",
         "lon": [
          -93.03637,
          -93.05836,
          -93.03995,
          -93.03645,
          -93.05238,
          -93.03645,
          -93.06853,
          -93.03619,
          -93.05353,
          -93.09383,
          -80.60978,
          -80.78342,
          -80.61006,
          -80.94849,
          -82.87242,
          -80.67959,
          -87.08934,
          -87.20793,
          -87.20827,
          -87.26868,
          -87.00886,
          -87.19301,
          -86.101,
          -86.16037,
          -86.13892,
          -86.10066,
          -86.10101,
          -86.13904,
          -86.05828,
          -86.04777,
          -86.09842,
          -86.15842,
          -68.1852,
          -68.22954,
          -68.25437,
          -68.18404,
          -68.21502,
          -68.18794,
          -68.18432,
          -68.18399,
          -68.2505,
          -68.33279,
          -68.19205,
          -68.25026,
          -68.32552,
          -68.25286,
          -68.20508,
          -68.34318,
          -68.21009,
          -68.17862,
          -68.32016,
          -68.18519,
          -68.25222,
          -68.31643,
          -68.3327,
          -68.22463,
          -68.18522,
          -68.24201,
          -68.18515,
          -68.28531,
          -68.20553,
          -68.25416,
          -68.24842,
          -68.25027,
          -68.33698,
          -68.25315,
          -68.25045,
          -68.18421,
          -68.20479,
          -68.25382,
          -68.29126,
          -68.34355,
          -68.30172,
          -68.20599,
          -68.25308,
          -68.20551,
          -68.19335,
          -68.20731,
          -68.18427,
          -68.33658,
          -68.29151,
          -68.19731,
          -68.35026,
          -68.34331,
          -68.2413,
          -68.25037,
          -68.25035,
          -68.25237,
          -68.2912,
          -68.20218,
          -68.29327,
          -68.04712,
          -68.24661,
          -68.20952,
          -68.3869,
          -68.20763,
          -68.28596,
          -68.35027,
          -68.25422,
          -68.17855,
          -68.2275,
          -68.33207,
          -68.1853,
          -68.35059,
          -68.20595,
          -68.20378,
          -68.29125,
          -68.25316,
          -68.31631,
          -68.20437,
          -68.28545,
          -68.24989,
          -68.34363,
          -68.3498,
          -68.05388,
          -68.25375,
          -68.35722,
          -68.25405,
          -68.22955,
          -68.33223,
          -68.2343,
          -68.21729,
          -68.2024,
          -68.05398,
          -68.3162,
          -68.22169,
          -68.35017,
          -68.33225,
          -68.21896,
          -68.34348,
          -68.18793,
          -68.34999,
          -68.05398,
          -68.36318,
          -68.2601,
          -68.20223,
          -68.29304,
          -68.18515,
          -83.49613,
          -83.43412,
          -83.11035,
          -83.43434,
          -83.07494,
          -83.30637,
          -83.43433,
          -83.3583,
          -83.49607,
          -83.81108,
          -83.42528,
          -83.08809,
          -83.3583,
          -83.10969,
          -83.87679,
          -83.31197,
          -83.49615,
          -83.045,
          -83.43792,
          -83.18052,
          -83.44666,
          -83.49607,
          -83.4385,
          -83.43449,
          -83.09743,
          -83.06837,
          -83.08731,
          -83.31057,
          -83.49595,
          -83.53806,
          -83.43438,
          -83.49619,
          -83.12108,
          -83.30918,
          -83.80168,
          -83.49606,
          -83.87679,
          -83.87698,
          -83.45901,
          -83.4465,
          -83.43861,
          -83.81105,
          -83.8026,
          -83.17906,
          -83.31071,
          -83.87672,
          -83.08812,
          -83.35803,
          -83.07022,
          -83.42296,
          -83.2232,
          -81.51015,
          -81.54021,
          -81.5567,
          -81.57266,
          -81.57649,
          -81.52488,
          -81.53804,
          -81.54581,
          -81.58767,
          -81.57269,
          -81.57174,
          -81.50731,
          -81.51406,
          -81.55878,
          -81.57623,
          -81.51057,
          -81.55908,
          -81.54589,
          -81.56917,
          -81.54995,
          -81.5807,
          -81.58176,
          -81.50783,
          -81.58072,
          -81.52686,
          -81.52496,
          -81.56379,
          -81.57178,
          -81.58776,
          -81.51897,
          -80.82374,
          -80.82293,
          -80.78757,
          -83.45172,
          -83.46976,
          -83.48668,
          -83.46261,
          -83.58062,
          -83.85201,
          -83.42475,
          -83.35747,
          -83.45078,
          -83.68926,
          -83.38846,
          -83.20788,
          -83.53732,
          -83.58056,
          -83.42474,
          -83.58016,
          -83.66995,
          -83.42487,
          -83.53714,
          -83.20967,
          -83.48563,
          -83.47853,
          -83.46228,
          -83.42467,
          -83.66946,
          -83.74488,
          -83.68935,
          -83.49645,
          -83.84573,
          -83.64753,
          -83.66208,
          -83.58015,
          -83.45096,
          -83.69115,
          -83.53706,
          -83.42526,
          -83.09749,
          -83.77646,
          -83.53127,
          -83.2667,
          -83.49042,
          -83.49999,
          -83.51204,
          -83.47849,
          -83.53492,
          -83.48556,
          -83.48568,
          -83.72644,
          -83.40584,
          -83.77067,
          -83.42557,
          -83.58147,
          -83.46251,
          -83.10599,
          -83.70901,
          -83.46246,
          -83.67006,
          -83.49171,
          -83.58122,
          -83.10971,
          -83.20703,
          -83.84334,
          -83.7701,
          -83.42605,
          -83.38335,
          -83.52673,
          -83.3878,
          -83.5128,
          -83.58154,
          -83.58043,
          -83.93525,
          -83.81107,
          -83.64643,
          -83.89432,
          -83.2078,
          -83.53477,
          -83.64762,
          -83.20895,
          -83.74499,
          -83.37997,
          -83.74485,
          -83.74499,
          -83.72638,
          -83.208,
          -83.58002,
          -83.20682,
          -83.93649,
          -83.42533,
          -83.58124,
          -83.72532,
          -83.42556,
          -83.79496,
          -83.69049,
          -83.20782,
          -83.80544,
          -83.53817,
          -83.17382,
          -83.93526,
          -83.77778,
          -83.20969,
          -83.72625,
          -83.26669,
          -83.20691,
          -78.28729,
          -78.34808,
          -78.43083,
          -78.4669,
          -78.38683,
          -78.38277,
          -78.37599,
          -78.51698,
          -78.37563,
          -78.3868,
          -78.3217,
          -78.76506,
          -78.73333,
          -78.39337,
          -78.68279,
          -78.43955,
          -78.31483,
          -78.72597,
          -78.78466,
          -78.68279,
          -78.43969,
          -78.31438,
          -78.28772,
          -78.31371,
          -78.20444,
          -78.78466,
          -78.34914,
          -78.17043,
          -78.74966,
          -78.18577,
          -78.38128,
          -77.08579,
          -78.2822,
          -78.36715,
          -78.34239,
          -78.66037,
          -78.2936,
          -78.3867,
          -78.28188,
          -78.76515,
          -78.70995,
          -78.17884,
          -78.44586,
          -78.54516,
          -78.79442,
          -78.19659,
          -78.5532,
          -78.28618,
          -78.3102,
          -78.34763,
          -78.77182,
          -78.38683,
          -78.44008,
          -78.36657,
          -78.38379,
          -78.28917,
          -78.36654,
          -78.38254,
          -78.20354,
          -78.38677,
          -78.18111,
          -78.2336,
          -78.442,
          -78.29664,
          -78.25163,
          -78.43605,
          -78.31369,
          -78.2946,
          -78.43958,
          -78.18131,
          -78.64664,
          -78.45722,
          -78.859,
          -78.78084,
          -78.15073,
          -78.29722,
          -78.85878,
          -78.17039,
          -78.35072,
          -78.36637,
          -78.31406,
          -78.18088,
          -78.51699,
          -78.43578,
          -78.16839,
          -78.35073,
          -78.7864,
          -78.68287,
          -78.71069,
          -78.77184,
          -78.2863,
          -78.17055,
          -78.2108,
          -78.65889,
          -78.28212,
          -78.1812,
          -78.25682,
          -78.574
         ],
         "marker": {
          "color": [
           21,
           21.85,
           33.77,
           20.54,
           36.85,
           21.77,
           18.77,
           23.08,
           32.62,
           14.85,
           11.69,
           3.38,
           21.62,
           18.38,
           7.69,
           0,
           27.54,
           29.62,
           17,
           23.85,
           12.08,
           7.46,
           46.23,
           28.85,
           16.85,
           45.46,
           23.08,
           20.92,
           39.92,
           36.31,
           24.69,
           17,
           8,
           37.31,
           38.46,
           24.23,
           11.77,
           4.62,
           29.38,
           24.92,
           24.62,
           16.08,
           25.08,
           31.46,
           16.85,
           32.62,
           16.77,
           9.38,
           26.69,
           11.62,
           25.31,
           26.85,
           29.31,
           17.54,
           31.46,
           32.69,
           25.23,
           22.62,
           3.23,
           22.85,
           9.69,
           20.31,
           42.77,
           21.31,
           18.85,
           27.23,
           27.92,
           21.54,
           27.54,
           11.15,
           23.92,
           28.92,
           18.38,
           32.38,
           37.69,
           39.31,
           30.38,
           35.85,
           26,
           12.31,
           35.23,
           30.08,
           27.08,
           18.08,
           29.85,
           13.54,
           28.85,
           43.85,
           19.15,
           21.85,
           25.46,
           20.38,
           23.92,
           19.23,
           19.31,
           12.38,
           25.92,
           12.08,
           34.62,
           27.31,
           34.85,
           27.77,
           20.85,
           29.69,
           22.77,
           37.77,
           25.31,
           29.92,
           23.08,
           12.92,
           32.31,
           21.38,
           23.62,
           27.69,
           15.38,
           35.54,
           28.08,
           12.92,
           11.69,
           19.69,
           22.38,
           26.54,
           19.38,
           18.85,
           30.23,
           12.69,
           23.08,
           23.08,
           30.08,
           17,
           21.23,
           27.92,
           5.46,
           30.77,
           19.92,
           20.46,
           20.92,
           27.38,
           15.69,
           21.69,
           21.38,
           10.92,
           23.85,
           48.77,
           9.92,
           25.77,
           16.69,
           48.46,
           39.77,
           22.54,
           7.31,
           18.92,
           15,
           18.15,
           16.69,
           24,
           14.85,
           35.31,
           9.15,
           21.08,
           8.38,
           24.85,
           9,
           7.69,
           13,
           24.54,
           8.46,
           16.15,
           9.77,
           24.15,
           17.31,
           17.77,
           8,
           13,
           17.69,
           28.69,
           0,
           27.08,
           12.92,
           9.85,
           10.38,
           24.31,
           33.08,
           24.46,
           16.85,
           0.92,
           19.23,
           24.77,
           34.46,
           37.54,
           40.46,
           38.38,
           24.23,
           22.15,
           24.15,
           24.92,
           15.08,
           47.92,
           37.54,
           31.38,
           33.62,
           23.92,
           37.38,
           14.54,
           28.54,
           33.54,
           25.23,
           26.62,
           35.31,
           27.77,
           53.54,
           31.08,
           23.92,
           35.23,
           29,
           36.46,
           25.38,
           15.77,
           22.92,
           25.77,
           30.23,
           26.31,
           25.46,
           22.31,
           27.77,
           22,
           21.15,
           20.62,
           26.46,
           19,
           14.23,
           26.15,
           35.31,
           26.38,
           53.62,
           19.92,
           20.92,
           36.46,
           36.15,
           35.77,
           16.85,
           30.31,
           4.08,
           29.23,
           21.77,
           22.62,
           36.54,
           21.85,
           23.23,
           29.85,
           28.23,
           25,
           22.38,
           36.85,
           31.46,
           39.38,
           11.23,
           27,
           32.23,
           21.62,
           27.08,
           29.77,
           11.92,
           14.23,
           34.31,
           16.15,
           22.85,
           15,
           16,
           25.15,
           16.85,
           22.46,
           22.69,
           19.92,
           21,
           23.31,
           23.77,
           22.15,
           24.23,
           7.38,
           16.31,
           31.77,
           29.08,
           22.62,
           31.15,
           20.69,
           24.31,
           18.08,
           21.62,
           21.08,
           32.15,
           27.69,
           30.92,
           9.23,
           24.69,
           25.46,
           2.54,
           10.08,
           25,
           24.46,
           20,
           24.54,
           24.77,
           8.23,
           24.54,
           9.15,
           24.85,
           9.54,
           9.23,
           23.69,
           25.69,
           9.46,
           16.15,
           2.31,
           42.38,
           16.23,
           10,
           9.23,
           16.92,
           17.54,
           10.23,
           18.23,
           17.77,
           17.15,
           17.62,
           33.69,
           18.69,
           8.31,
           0.77,
           14.85,
           34.38,
           8.54,
           29.15,
           8.31,
           24.62,
           31.23,
           34.85,
           9.38,
           29.08,
           12.69,
           14.92,
           12.62,
           23.77,
           38.69,
           25.15,
           16.54,
           23.77,
           40.23,
           30.62,
           24.77,
           25.08,
           27.08,
           22,
           34.85,
           22.92,
           3.46,
           43,
           32.62,
           31.69,
           31,
           14.77,
           23.92,
           33.62,
           30.38,
           29.46,
           16.54,
           25.08,
           24.15,
           24,
           17.62,
           29.77,
           19.85,
           24.62,
           39.85,
           25,
           33.38,
           19.46,
           33.77,
           21.15,
           29.23,
           18.77,
           21.15,
           9.23,
           13.92,
           10.62,
           29.46,
           25.77,
           32.69,
           27.46,
           19.38,
           9.77,
           25.38,
           23.38,
           22.62,
           17.85,
           18,
           25.23,
           23.31,
           17.85,
           32.38,
           19.62,
           23.23,
           27.85,
           24.46,
           16.08,
           25.08,
           17.15,
           14,
           19.15,
           34.69,
           32.38,
           18.15,
           33.46,
           2.15,
           33.85,
           17.62,
           16.54,
           7.69,
           29.62,
           9.69,
           25.69,
           26.77,
           30.31
          ],
          "coloraxis": "coloraxis",
          "size": [
           21,
           21.85,
           33.77,
           20.54,
           36.85,
           21.77,
           18.77,
           23.08,
           32.62,
           14.85,
           11.69,
           3.38,
           21.62,
           18.38,
           7.69,
           0,
           27.54,
           29.62,
           17,
           23.85,
           12.08,
           7.46,
           46.23,
           28.85,
           16.85,
           45.46,
           23.08,
           20.92,
           39.92,
           36.31,
           24.69,
           17,
           8,
           37.31,
           38.46,
           24.23,
           11.77,
           4.62,
           29.38,
           24.92,
           24.62,
           16.08,
           25.08,
           31.46,
           16.85,
           32.62,
           16.77,
           9.38,
           26.69,
           11.62,
           25.31,
           26.85,
           29.31,
           17.54,
           31.46,
           32.69,
           25.23,
           22.62,
           3.23,
           22.85,
           9.69,
           20.31,
           42.77,
           21.31,
           18.85,
           27.23,
           27.92,
           21.54,
           27.54,
           11.15,
           23.92,
           28.92,
           18.38,
           32.38,
           37.69,
           39.31,
           30.38,
           35.85,
           26,
           12.31,
           35.23,
           30.08,
           27.08,
           18.08,
           29.85,
           13.54,
           28.85,
           43.85,
           19.15,
           21.85,
           25.46,
           20.38,
           23.92,
           19.23,
           19.31,
           12.38,
           25.92,
           12.08,
           34.62,
           27.31,
           34.85,
           27.77,
           20.85,
           29.69,
           22.77,
           37.77,
           25.31,
           29.92,
           23.08,
           12.92,
           32.31,
           21.38,
           23.62,
           27.69,
           15.38,
           35.54,
           28.08,
           12.92,
           11.69,
           19.69,
           22.38,
           26.54,
           19.38,
           18.85,
           30.23,
           12.69,
           23.08,
           23.08,
           30.08,
           17,
           21.23,
           27.92,
           5.46,
           30.77,
           19.92,
           20.46,
           20.92,
           27.38,
           15.69,
           21.69,
           21.38,
           10.92,
           23.85,
           48.77,
           9.92,
           25.77,
           16.69,
           48.46,
           39.77,
           22.54,
           7.31,
           18.92,
           15,
           18.15,
           16.69,
           24,
           14.85,
           35.31,
           9.15,
           21.08,
           8.38,
           24.85,
           9,
           7.69,
           13,
           24.54,
           8.46,
           16.15,
           9.77,
           24.15,
           17.31,
           17.77,
           8,
           13,
           17.69,
           28.69,
           0,
           27.08,
           12.92,
           9.85,
           10.38,
           24.31,
           33.08,
           24.46,
           16.85,
           0.92,
           19.23,
           24.77,
           34.46,
           37.54,
           40.46,
           38.38,
           24.23,
           22.15,
           24.15,
           24.92,
           15.08,
           47.92,
           37.54,
           31.38,
           33.62,
           23.92,
           37.38,
           14.54,
           28.54,
           33.54,
           25.23,
           26.62,
           35.31,
           27.77,
           53.54,
           31.08,
           23.92,
           35.23,
           29,
           36.46,
           25.38,
           15.77,
           22.92,
           25.77,
           30.23,
           26.31,
           25.46,
           22.31,
           27.77,
           22,
           21.15,
           20.62,
           26.46,
           19,
           14.23,
           26.15,
           35.31,
           26.38,
           53.62,
           19.92,
           20.92,
           36.46,
           36.15,
           35.77,
           16.85,
           30.31,
           4.08,
           29.23,
           21.77,
           22.62,
           36.54,
           21.85,
           23.23,
           29.85,
           28.23,
           25,
           22.38,
           36.85,
           31.46,
           39.38,
           11.23,
           27,
           32.23,
           21.62,
           27.08,
           29.77,
           11.92,
           14.23,
           34.31,
           16.15,
           22.85,
           15,
           16,
           25.15,
           16.85,
           22.46,
           22.69,
           19.92,
           21,
           23.31,
           23.77,
           22.15,
           24.23,
           7.38,
           16.31,
           31.77,
           29.08,
           22.62,
           31.15,
           20.69,
           24.31,
           18.08,
           21.62,
           21.08,
           32.15,
           27.69,
           30.92,
           9.23,
           24.69,
           25.46,
           2.54,
           10.08,
           25,
           24.46,
           20,
           24.54,
           24.77,
           8.23,
           24.54,
           9.15,
           24.85,
           9.54,
           9.23,
           23.69,
           25.69,
           9.46,
           16.15,
           2.31,
           42.38,
           16.23,
           10,
           9.23,
           16.92,
           17.54,
           10.23,
           18.23,
           17.77,
           17.15,
           17.62,
           33.69,
           18.69,
           8.31,
           0.77,
           14.85,
           34.38,
           8.54,
           29.15,
           8.31,
           24.62,
           31.23,
           34.85,
           9.38,
           29.08,
           12.69,
           14.92,
           12.62,
           23.77,
           38.69,
           25.15,
           16.54,
           23.77,
           40.23,
           30.62,
           24.77,
           25.08,
           27.08,
           22,
           34.85,
           22.92,
           3.46,
           43,
           32.62,
           31.69,
           31,
           14.77,
           23.92,
           33.62,
           30.38,
           29.46,
           16.54,
           25.08,
           24.15,
           24,
           17.62,
           29.77,
           19.85,
           24.62,
           39.85,
           25,
           33.38,
           19.46,
           33.77,
           21.15,
           29.23,
           18.77,
           21.15,
           9.23,
           13.92,
           10.62,
           29.46,
           25.77,
           32.69,
           27.46,
           19.38,
           9.77,
           25.38,
           23.38,
           22.62,
           17.85,
           18,
           25.23,
           23.31,
           17.85,
           32.38,
           19.62,
           23.23,
           27.85,
           24.46,
           16.08,
           25.08,
           17.15,
           14,
           19.15,
           34.69,
           32.38,
           18.15,
           33.46,
           2.15,
           33.85,
           17.62,
           16.54,
           7.69,
           29.62,
           9.69,
           25.69,
           26.77,
           30.31
          ],
          "sizemode": "area",
          "sizeref": 0.13405
         },
         "mode": "markers",
         "name": "",
         "showlegend": false,
         "subplot": "mapbox",
         "type": "scattermapbox"
        }
       ],
       "layout": {
        "coloraxis": {
         "colorbar": {
          "title": {
           "text": "Score"
          }
         },
         "colorscale": [
          [
           0,
           "yellow"
          ],
          [
           1,
           "darkgreen"
          ]
         ]
        },
        "height": 800,
        "legend": {
         "itemsizing": "constant",
         "tracegroupgap": 0
        },
        "mapbox": {
         "center": {
          "lat": 38.81452141843969,
          "lon": -78.64318158392432
         },
         "domain": {
          "x": [
           0,
           1
          ],
          "y": [
           0,
           1
          ]
         },
         "style": "open-street-map",
         "zoom": 3
        },
        "margin": {
         "b": 0,
         "l": 0,
         "r": 0,
         "t": 0
        },
        "template": {
         "data": {
          "bar": [
           {
            "error_x": {
             "color": "#2a3f5f"
            },
            "error_y": {
             "color": "#2a3f5f"
            },
            "marker": {
             "line": {
              "color": "#E5ECF6",
              "width": 0.5
             },
             "pattern": {
              "fillmode": "overlay",
              "size": 10,
              "solidity": 0.2
             }
            },
            "type": "bar"
           }
          ],
          "barpolar": [
           {
            "marker": {
             "line": {
              "color": "#E5ECF6",
              "width": 0.5
             },
             "pattern": {
              "fillmode": "overlay",
              "size": 10,
              "solidity": 0.2
             }
            },
            "type": "barpolar"
           }
          ],
          "carpet": [
           {
            "aaxis": {
             "endlinecolor": "#2a3f5f",
             "gridcolor": "white",
             "linecolor": "white",
             "minorgridcolor": "white",
             "startlinecolor": "#2a3f5f"
            },
            "baxis": {
             "endlinecolor": "#2a3f5f",
             "gridcolor": "white",
             "linecolor": "white",
             "minorgridcolor": "white",
             "startlinecolor": "#2a3f5f"
            },
            "type": "carpet"
           }
          ],
          "choropleth": [
           {
            "colorbar": {
             "outlinewidth": 0,
             "ticks": ""
            },
            "type": "choropleth"
           }
          ],
          "contour": [
           {
            "colorbar": {
             "outlinewidth": 0,
             "ticks": ""
            },
            "colorscale": [
             [
              0,
              "#0d0887"
             ],
             [
              0.1111111111111111,
              "#46039f"
             ],
             [
              0.2222222222222222,
              "#7201a8"
             ],
             [
              0.3333333333333333,
              "#9c179e"
             ],
             [
              0.4444444444444444,
              "#bd3786"
             ],
             [
              0.5555555555555556,
              "#d8576b"
             ],
             [
              0.6666666666666666,
              "#ed7953"
             ],
             [
              0.7777777777777778,
              "#fb9f3a"
             ],
             [
              0.8888888888888888,
              "#fdca26"
             ],
             [
              1,
              "#f0f921"
             ]
            ],
            "type": "contour"
           }
          ],
          "contourcarpet": [
           {
            "colorbar": {
             "outlinewidth": 0,
             "ticks": ""
            },
            "type": "contourcarpet"
           }
          ],
          "heatmap": [
           {
            "colorbar": {
             "outlinewidth": 0,
             "ticks": ""
            },
            "colorscale": [
             [
              0,
              "#0d0887"
             ],
             [
              0.1111111111111111,
              "#46039f"
             ],
             [
              0.2222222222222222,
              "#7201a8"
             ],
             [
              0.3333333333333333,
              "#9c179e"
             ],
             [
              0.4444444444444444,
              "#bd3786"
             ],
             [
              0.5555555555555556,
              "#d8576b"
             ],
             [
              0.6666666666666666,
              "#ed7953"
             ],
             [
              0.7777777777777778,
              "#fb9f3a"
             ],
             [
              0.8888888888888888,
              "#fdca26"
             ],
             [
              1,
              "#f0f921"
             ]
            ],
            "type": "heatmap"
           }
          ],
          "heatmapgl": [
           {
            "colorbar": {
             "outlinewidth": 0,
             "ticks": ""
            },
            "colorscale": [
             [
              0,
              "#0d0887"
             ],
             [
              0.1111111111111111,
              "#46039f"
             ],
             [
              0.2222222222222222,
              "#7201a8"
             ],
             [
              0.3333333333333333,
              "#9c179e"
             ],
             [
              0.4444444444444444,
              "#bd3786"
             ],
             [
              0.5555555555555556,
              "#d8576b"
             ],
             [
              0.6666666666666666,
              "#ed7953"
             ],
             [
              0.7777777777777778,
              "#fb9f3a"
             ],
             [
              0.8888888888888888,
              "#fdca26"
             ],
             [
              1,
              "#f0f921"
             ]
            ],
            "type": "heatmapgl"
           }
          ],
          "histogram": [
           {
            "marker": {
             "pattern": {
              "fillmode": "overlay",
              "size": 10,
              "solidity": 0.2
             }
            },
            "type": "histogram"
           }
          ],
          "histogram2d": [
           {
            "colorbar": {
             "outlinewidth": 0,
             "ticks": ""
            },
            "colorscale": [
             [
              0,
              "#0d0887"
             ],
             [
              0.1111111111111111,
              "#46039f"
             ],
             [
              0.2222222222222222,
              "#7201a8"
             ],
             [
              0.3333333333333333,
              "#9c179e"
             ],
             [
              0.4444444444444444,
              "#bd3786"
             ],
             [
              0.5555555555555556,
              "#d8576b"
             ],
             [
              0.6666666666666666,
              "#ed7953"
             ],
             [
              0.7777777777777778,
              "#fb9f3a"
             ],
             [
              0.8888888888888888,
              "#fdca26"
             ],
             [
              1,
              "#f0f921"
             ]
            ],
            "type": "histogram2d"
           }
          ],
          "histogram2dcontour": [
           {
            "colorbar": {
             "outlinewidth": 0,
             "ticks": ""
            },
            "colorscale": [
             [
              0,
              "#0d0887"
             ],
             [
              0.1111111111111111,
              "#46039f"
             ],
             [
              0.2222222222222222,
              "#7201a8"
             ],
             [
              0.3333333333333333,
              "#9c179e"
             ],
             [
              0.4444444444444444,
              "#bd3786"
             ],
             [
              0.5555555555555556,
              "#d8576b"
             ],
             [
              0.6666666666666666,
              "#ed7953"
             ],
             [
              0.7777777777777778,
              "#fb9f3a"
             ],
             [
              0.8888888888888888,
              "#fdca26"
             ],
             [
              1,
              "#f0f921"
             ]
            ],
            "type": "histogram2dcontour"
           }
          ],
          "mesh3d": [
           {
            "colorbar": {
             "outlinewidth": 0,
             "ticks": ""
            },
            "type": "mesh3d"
           }
          ],
          "parcoords": [
           {
            "line": {
             "colorbar": {
              "outlinewidth": 0,
              "ticks": ""
             }
            },
            "type": "parcoords"
           }
          ],
          "pie": [
           {
            "automargin": true,
            "type": "pie"
           }
          ],
          "scatter": [
           {
            "fillpattern": {
             "fillmode": "overlay",
             "size": 10,
             "solidity": 0.2
            },
            "type": "scatter"
           }
          ],
          "scatter3d": [
           {
            "line": {
             "colorbar": {
              "outlinewidth": 0,
              "ticks": ""
             }
            },
            "marker": {
             "colorbar": {
              "outlinewidth": 0,
              "ticks": ""
             }
            },
            "type": "scatter3d"
           }
          ],
          "scattercarpet": [
           {
            "marker": {
             "colorbar": {
              "outlinewidth": 0,
              "ticks": ""
             }
            },
            "type": "scattercarpet"
           }
          ],
          "scattergeo": [
           {
            "marker": {
             "colorbar": {
              "outlinewidth": 0,
              "ticks": ""
             }
            },
            "type": "scattergeo"
           }
          ],
          "scattergl": [
           {
            "marker": {
             "colorbar": {
              "outlinewidth": 0,
              "ticks": ""
             }
            },
            "type": "scattergl"
           }
          ],
          "scattermapbox": [
           {
            "marker": {
             "colorbar": {
              "outlinewidth": 0,
              "ticks": ""
             }
            },
            "type": "scattermapbox"
           }
          ],
          "scatterpolar": [
           {
            "marker": {
             "colorbar": {
              "outlinewidth": 0,
              "ticks": ""
             }
            },
            "type": "scatterpolar"
           }
          ],
          "scatterpolargl": [
           {
            "marker": {
             "colorbar": {
              "outlinewidth": 0,
              "ticks": ""
             }
            },
            "type": "scatterpolargl"
           }
          ],
          "scatterternary": [
           {
            "marker": {
             "colorbar": {
              "outlinewidth": 0,
              "ticks": ""
             }
            },
            "type": "scatterternary"
           }
          ],
          "surface": [
           {
            "colorbar": {
             "outlinewidth": 0,
             "ticks": ""
            },
            "colorscale": [
             [
              0,
              "#0d0887"
             ],
             [
              0.1111111111111111,
              "#46039f"
             ],
             [
              0.2222222222222222,
              "#7201a8"
             ],
             [
              0.3333333333333333,
              "#9c179e"
             ],
             [
              0.4444444444444444,
              "#bd3786"
             ],
             [
              0.5555555555555556,
              "#d8576b"
             ],
             [
              0.6666666666666666,
              "#ed7953"
             ],
             [
              0.7777777777777778,
              "#fb9f3a"
             ],
             [
              0.8888888888888888,
              "#fdca26"
             ],
             [
              1,
              "#f0f921"
             ]
            ],
            "type": "surface"
           }
          ],
          "table": [
           {
            "cells": {
             "fill": {
              "color": "#EBF0F8"
             },
             "line": {
              "color": "white"
             }
            },
            "header": {
             "fill": {
              "color": "#C8D4E3"
             },
             "line": {
              "color": "white"
             }
            },
            "type": "table"
           }
          ]
         },
         "layout": {
          "annotationdefaults": {
           "arrowcolor": "#2a3f5f",
           "arrowhead": 0,
           "arrowwidth": 1
          },
          "autotypenumbers": "strict",
          "coloraxis": {
           "colorbar": {
            "outlinewidth": 0,
            "ticks": ""
           }
          },
          "colorscale": {
           "diverging": [
            [
             0,
             "#8e0152"
            ],
            [
             0.1,
             "#c51b7d"
            ],
            [
             0.2,
             "#de77ae"
            ],
            [
             0.3,
             "#f1b6da"
            ],
            [
             0.4,
             "#fde0ef"
            ],
            [
             0.5,
             "#f7f7f7"
            ],
            [
             0.6,
             "#e6f5d0"
            ],
            [
             0.7,
             "#b8e186"
            ],
            [
             0.8,
             "#7fbc41"
            ],
            [
             0.9,
             "#4d9221"
            ],
            [
             1,
             "#276419"
            ]
           ],
           "sequential": [
            [
             0,
             "#0d0887"
            ],
            [
             0.1111111111111111,
             "#46039f"
            ],
            [
             0.2222222222222222,
             "#7201a8"
            ],
            [
             0.3333333333333333,
             "#9c179e"
            ],
            [
             0.4444444444444444,
             "#bd3786"
            ],
            [
             0.5555555555555556,
             "#d8576b"
            ],
            [
             0.6666666666666666,
             "#ed7953"
            ],
            [
             0.7777777777777778,
             "#fb9f3a"
            ],
            [
             0.8888888888888888,
             "#fdca26"
            ],
            [
             1,
             "#f0f921"
            ]
           ],
           "sequentialminus": [
            [
             0,
             "#0d0887"
            ],
            [
             0.1111111111111111,
             "#46039f"
            ],
            [
             0.2222222222222222,
             "#7201a8"
            ],
            [
             0.3333333333333333,
             "#9c179e"
            ],
            [
             0.4444444444444444,
             "#bd3786"
            ],
            [
             0.5555555555555556,
             "#d8576b"
            ],
            [
             0.6666666666666666,
             "#ed7953"
            ],
            [
             0.7777777777777778,
             "#fb9f3a"
            ],
            [
             0.8888888888888888,
             "#fdca26"
            ],
            [
             1,
             "#f0f921"
            ]
           ]
          },
          "colorway": [
           "#636efa",
           "#EF553B",
           "#00cc96",
           "#ab63fa",
           "#FFA15A",
           "#19d3f3",
           "#FF6692",
           "#B6E880",
           "#FF97FF",
           "#FECB52"
          ],
          "font": {
           "color": "#2a3f5f"
          },
          "geo": {
           "bgcolor": "white",
           "lakecolor": "white",
           "landcolor": "#E5ECF6",
           "showlakes": true,
           "showland": true,
           "subunitcolor": "white"
          },
          "hoverlabel": {
           "align": "left"
          },
          "hovermode": "closest",
          "mapbox": {
           "style": "light"
          },
          "paper_bgcolor": "white",
          "plot_bgcolor": "#E5ECF6",
          "polar": {
           "angularaxis": {
            "gridcolor": "white",
            "linecolor": "white",
            "ticks": ""
           },
           "bgcolor": "#E5ECF6",
           "radialaxis": {
            "gridcolor": "white",
            "linecolor": "white",
            "ticks": ""
           }
          },
          "scene": {
           "xaxis": {
            "backgroundcolor": "#E5ECF6",
            "gridcolor": "white",
            "gridwidth": 2,
            "linecolor": "white",
            "showbackground": true,
            "ticks": "",
            "zerolinecolor": "white"
           },
           "yaxis": {
            "backgroundcolor": "#E5ECF6",
            "gridcolor": "white",
            "gridwidth": 2,
            "linecolor": "white",
            "showbackground": true,
            "ticks": "",
            "zerolinecolor": "white"
           },
           "zaxis": {
            "backgroundcolor": "#E5ECF6",
            "gridcolor": "white",
            "gridwidth": 2,
            "linecolor": "white",
            "showbackground": true,
            "ticks": "",
            "zerolinecolor": "white"
           }
          },
          "shapedefaults": {
           "line": {
            "color": "#2a3f5f"
           }
          },
          "ternary": {
           "aaxis": {
            "gridcolor": "white",
            "linecolor": "white",
            "ticks": ""
           },
           "baxis": {
            "gridcolor": "white",
            "linecolor": "white",
            "ticks": ""
           },
           "bgcolor": "#E5ECF6",
           "caxis": {
            "gridcolor": "white",
            "linecolor": "white",
            "ticks": ""
           }
          },
          "title": {
           "x": 0.05
          },
          "xaxis": {
           "automargin": true,
           "gridcolor": "white",
           "linecolor": "white",
           "ticks": "",
           "title": {
            "standoff": 15
           },
           "zerolinecolor": "white",
           "zerolinewidth": 2
          },
          "yaxis": {
           "automargin": true,
           "gridcolor": "white",
           "linecolor": "white",
           "ticks": "",
           "title": {
            "standoff": 15
           },
           "zerolinecolor": "white",
           "zerolinewidth": 2
          }
         }
        },
        "width": 800
       }
      },
      "text/html": [
       "<div>                            <div id=\"791c1864-1232-459f-a034-0990901dfd17\" class=\"plotly-graph-div\" style=\"height:800px; width:800px;\"></div>            <script type=\"text/javascript\">                require([\"plotly\"], function(Plotly) {                    window.PLOTLYENV=window.PLOTLYENV || {};                                    if (document.getElementById(\"791c1864-1232-459f-a034-0990901dfd17\")) {                    Plotly.newPlot(                        \"791c1864-1232-459f-a034-0990901dfd17\",                        [{\"customdata\":[[21.0,\"Hot Springs National Park\",597.16],[21.85,\"Hot Springs National Park\",598.55],[33.77,\"Hot Springs National Park\",597.33],[20.54,\"Hot Springs National Park\",597.17],[36.85,\"Hot Springs National Park\",598.2],[21.77,\"Hot Springs National Park\",597.16],[18.77,\"Hot Springs National Park\",599.17],[23.08,\"Hot Springs National Park\",597.15],[32.62,\"Hot Springs National Park\",598.29],[14.85,\"Hot Springs National Park\",600.52],[11.69,\"Everglades National Park\",712.51],[3.38,\"Everglades National Park\",706.94],[21.62,\"Everglades National Park\",712.51],[18.38,\"Everglades National Park\",726.38],[7.69,\"Dry Tortugas National Park\",755.6],[0.0,\"Everglades National Park\",709.07],[27.54,\"Indiana Dunes National Park\",484.67],[29.62,\"Indiana Dunes National Park\",487.81],[17.0,\"Indiana Dunes National Park\",487.83],[23.85,\"Indiana Dunes National Park\",488.6],[12.08,\"Indiana Dunes National Park\",485.61],[7.46,\"Indiana Dunes National Park\",486.95],[46.23,\"Mammoth Cave National Park\",227.2],[28.85,\"Mammoth Cave National Park\",229.03],[16.85,\"Mammoth Cave National Park\",229.61],[45.46,\"Mammoth Cave National Park\",227.13],[23.08,\"Mammoth Cave National Park\",227.12],[20.92,\"Mammoth Cave National Park\",229.61],[39.92,\"Mammoth Cave National Park\",222.41],[36.31,\"Mammoth Cave National Park\",223.46],[24.69,\"Mammoth Cave National Park\",225.86],[17.0,\"Mammoth Cave National Park\",229.15],[8.0,\"Acadia National Park\",969.05],[37.31,\"Acadia National Park\",969.04],[38.46,\"Acadia National Park\",965.85],[24.23,\"Acadia National Park\",969.04],[11.77,\"Acadia National Park\",967.12],[4.62,\"Acadia National Park\",969.64],[29.38,\"Acadia National Park\",969.02],[24.92,\"Acadia National Park\",969.04],[24.62,\"Acadia National Park\",966.74],[16.08,\"Acadia National Park\",962.62],[25.08,\"Acadia National Park\",968.2],[31.46,\"Acadia National Park\",966.75],[16.85,\"Acadia National Park\",959.45],[32.62,\"Acadia National Park\",965.84],[16.77,\"Acadia National Park\",969.01],[9.38,\"Acadia National Park\",961.94],[26.69,\"Acadia National Park\",970.36],[11.62,\"Acadia National Park\",969.41],[25.31,\"Acadia National Park\",959.75],[26.85,\"Acadia National Park\",969.05],[29.31,\"Acadia National Park\",968.09],[17.54,\"Acadia National Park\",962.43],[31.46,\"Acadia National Park\",962.63],[32.69,\"Acadia National Park\",968.24],[25.23,\"Acadia National Park\",969.05],[22.62,\"Acadia National Park\",967.36],[3.23,\"Acadia National Park\",969.05],[22.85,\"Acadia National Park\",964.2],[9.69,\"Acadia National Park\",969.26],[20.31,\"Acadia National Park\",965.79],[42.77,\"Acadia National Park\",966.15],[21.31,\"Acadia National Park\",966.75],[18.85,\"Acadia National Park\",958.63],[27.23,\"Acadia National Park\",965.91],[27.92,\"Acadia National Park\",966.74],[21.54,\"Acadia National Park\",969.04],[27.54,\"Acadia National Park\",969.03],[11.15,\"Acadia National Park\",965.9],[23.92,\"Acadia National Park\",964.48],[28.92,\"Acadia National Park\",961.93],[18.38,\"Acadia National Park\",964.99],[32.38,\"Acadia National Park\",969.25],[37.69,\"Acadia National Park\",965.91],[39.31,\"Acadia National Park\",969.25],[30.38,\"Acadia National Park\",969.93],[35.85,\"Acadia National Park\",969.31],[26.0,\"Acadia National Park\",969.02],[12.31,\"Acadia National Park\",962.2],[35.23,\"Acadia National Park\",964.47],[30.08,\"Acadia National Park\",970.18],[27.08,\"Acadia National Park\",961.07],[18.08,\"Acadia National Park\",961.94],[29.85,\"Acadia National Park\",967.45],[13.54,\"Acadia National Park\",966.75],[28.85,\"Acadia National Park\",966.74],[43.85,\"Acadia National Park\",968.08],[19.15,\"Acadia National Park\",964.48],[21.85,\"Acadia National Park\",968.99],[25.46,\"Acadia National Park\",964.52],[20.38,\"Acadia National Park\",975.52],[23.92,\"Acadia National Park\",969.53],[19.23,\"Acadia National Park\",969.57],[19.31,\"Acadia National Park\",959.27],[12.38,\"Acadia National Park\",969.33],[25.92,\"Acadia National Park\",964.12],[12.08,\"Acadia National Park\",961.07],[34.62,\"Acadia National Park\",965.79],[27.31,\"Acadia National Park\",969.64],[34.85,\"Acadia National Park\",966.07],[27.77,\"Acadia National Park\",962.27],[20.85,\"Acadia National Park\",969.05],[29.69,\"Acadia National Park\",961.05],[22.77,\"Acadia National Park\",969.26],[37.77,\"Acadia National Park\",967.47],[25.31,\"Acadia National Park\",964.48],[29.92,\"Acadia National Park\",965.81],[23.08,\"Acadia National Park\",962.44],[12.92,\"Acadia National Park\",969.04],[32.31,\"Acadia National Park\",964.19],[21.38,\"Acadia National Park\",966.09],[23.62,\"Acadia National Park\",961.92],[27.69,\"Acadia National Park\",961.09],[15.38,\"Acadia National Park\",975.16],[35.54,\"Acadia National Park\",965.91],[28.08,\"Acadia National Park\",960.65],[12.92,\"Acadia National Park\",965.8],[11.69,\"Acadia National Park\",969.04],[19.69,\"Acadia National Park\",962.27],[22.38,\"Acadia National Park\",966.43],[26.54,\"Acadia National Park\",969.44],[19.38,\"Acadia National Park\",968.98],[18.85,\"Acadia National Park\",975.16],[30.23,\"Acadia National Park\",962.44],[12.69,\"Acadia National Park\",969.14],[23.08,\"Acadia National Park\",961.07],[23.08,\"Acadia National Park\",962.26],[30.08,\"Acadia National Park\",969.41],[17.0,\"Acadia National Park\",961.93],[21.23,\"Acadia National Park\",969.63],[27.92,\"Acadia National Park\",961.08],[5.46,\"Acadia National Park\",975.16],[30.77,\"Acadia National Park\",960.35],[19.92,\"Acadia National Park\",965.61],[20.46,\"Acadia National Park\",968.99],[20.92,\"Acadia National Park\",964.54],[27.38,\"Acadia National Park\",969.05],[15.69,\"Great Smoky Mountains National Park\",53.5],[21.69,\"Great Smoky Mountains National Park\",50.54],[21.38,\"Great Smoky Mountains National Park\",34.25],[10.92,\"Great Smoky Mountains National Park\",50.55],[23.85,\"Great Smoky Mountains National Park\",29.83],[48.77,\"Great Smoky Mountains National Park\",43.01],[9.92,\"Great Smoky Mountains National Park\",50.55],[25.77,\"Great Smoky Mountains National Park\",45.76],[16.69,\"Great Smoky Mountains National Park\",53.49],[48.46,\"Great Smoky Mountains National Park\",71.6],[39.77,\"Great Smoky Mountains National Park\",49.58],[22.54,\"Great Smoky Mountains National Park\",30.88],[7.31,\"Great Smoky Mountains National Park\",45.76],[18.92,\"Great Smoky Mountains National Park\",34.2],[15.0,\"Great Smoky Mountains National Park\",75.23],[18.15,\"Great Smoky Mountains National Park\",43.15],[16.69,\"Great Smoky Mountains National Park\",53.5],[24.0,\"Great Smoky Mountains National Park\",28.5],[14.85,\"Great Smoky Mountains National Park\",50.8],[35.31,\"Great Smoky Mountains National Park\",35.76],[9.15,\"Great Smoky Mountains National Park\",50.78],[21.08,\"Great Smoky Mountains National Park\",53.49],[8.38,\"Great Smoky Mountains National Park\",50.83],[24.85,\"Great Smoky Mountains National Park\",50.56],[9.0,\"Great Smoky Mountains National Park\",32.4],[7.69,\"Great Smoky Mountains National Park\",29.49],[13.0,\"Great Smoky Mountains National Park\",31.42],[24.54,\"Great Smoky Mountains National Park\",43.07],[8.46,\"Great Smoky Mountains National Park\",53.49],[16.15,\"Great Smoky Mountains National Park\",56.38],[9.77,\"Great Smoky Mountains National Park\",50.55],[24.15,\"Great Smoky Mountains National Park\",53.5],[17.31,\"Great Smoky Mountains National Park\",32.59],[17.77,\"Great Smoky Mountains National Park\",43.12],[8.0,\"Great Smoky Mountains National Park\",71.15],[13.0,\"Great Smoky Mountains National Park\",53.49],[17.69,\"Great Smoky Mountains National Park\",75.23],[28.69,\"Great Smoky Mountains National Park\",75.24],[0.0,\"Great Smoky Mountains National Park\",51.43],[27.08,\"Great Smoky Mountains National Park\",50.77],[12.92,\"Great Smoky Mountains National Park\",50.84],[9.85,\"Great Smoky Mountains National Park\",71.6],[10.38,\"Great Smoky Mountains National Park\",71.19],[24.31,\"Great Smoky Mountains National Park\",35.96],[33.08,\"Great Smoky Mountains National Park\",43.08],[24.46,\"Great Smoky Mountains National Park\",75.22],[16.85,\"Great Smoky Mountains National Park\",30.88],[0.92,\"Great Smoky Mountains National Park\",45.74],[19.23,\"Great Smoky Mountains National Park\",29.58],[24.77,\"Great Smoky Mountains National Park\",49.42],[34.46,\"Great Smoky Mountains National Park\",38.26],[37.54,\"Cuyahoga Valley National Park\",394.54],[40.46,\"Cuyahoga Valley National Park\",397.94],[38.38,\"Cuyahoga Valley National Park\",397.42],[24.23,\"Cuyahoga Valley National Park\",396.3],[22.15,\"Cuyahoga Valley National Park\",393.75],[24.15,\"Cuyahoga Valley National Park\",394.03],[24.92,\"Cuyahoga Valley National Park\",395.4],[15.08,\"Cuyahoga Valley National Park\",393.5],[47.92,\"Cuyahoga Valley National Park\",400.4],[37.54,\"Cuyahoga Valley National Park\",396.28],[31.38,\"Cuyahoga Valley National Park\",398.52],[33.62,\"Cuyahoga Valley National Park\",395.13],[23.92,\"Cuyahoga Valley National Park\",394.68],[37.38,\"Cuyahoga Valley National Park\",396.82],[14.54,\"Cuyahoga Valley National Park\",393.75],[28.54,\"Cuyahoga Valley National Park\",394.49],[33.54,\"Cuyahoga Valley National Park\",396.84],[25.23,\"Cuyahoga Valley National Park\",393.49],[26.62,\"Cuyahoga Valley National Park\",394.75],[35.31,\"Cuyahoga Valley National Park\",395.57],[27.77,\"Cuyahoga Valley National Park\",392.68],[53.54,\"Cuyahoga Valley National Park\",391.3],[31.08,\"Cuyahoga Valley National Park\",395.11],[23.92,\"Cuyahoga Valley National Park\",392.67],[35.23,\"Cuyahoga Valley National Park\",393.42],[29.0,\"Cuyahoga Valley National Park\",394.02],[36.46,\"Cuyahoga Valley National Park\",398.63],[25.38,\"Cuyahoga Valley National Park\",398.52],[15.77,\"Cuyahoga Valley National Park\",400.43],[22.92,\"Cuyahoga Valley National Park\",396.61],[25.77,\"Congaree National Park\",154.68],[30.23,\"Congaree National Park\",154.67],[26.31,\"Congaree National Park\",156.48],[25.46,\"Great Smoky Mountains National Park\",51.15],[22.31,\"Great Smoky Mountains National Park\",52.2],[27.77,\"Great Smoky Mountains National Park\",53.45],[22.0,\"Great Smoky Mountains National Park\",52.16],[21.15,\"Great Smoky Mountains National Park\",58.64],[20.62,\"Great Smoky Mountains National Park\",73.48],[26.46,\"Great Smoky Mountains National Park\",49.56],[19.0,\"Great Smoky Mountains National Park\",46.61],[14.23,\"Great Smoky Mountains National Park\",51.1],[26.15,\"Great Smoky Mountains National Park\",64.51],[35.31,\"Great Smoky Mountains National Park\",48.24],[26.38,\"Great Smoky Mountains National Park\",39.48],[53.62,\"Great Smoky Mountains National Park\",56.36],[19.92,\"Great Smoky Mountains National Park\",58.64],[20.92,\"Great Smoky Mountains National Park\",49.56],[36.46,\"Great Smoky Mountains National Park\",58.48],[36.15,\"Great Smoky Mountains National Park\",63.33],[35.77,\"Great Smoky Mountains National Park\",49.56],[16.85,\"Great Smoky Mountains National Park\",56.34],[30.31,\"Great Smoky Mountains National Park\",39.6],[4.08,\"Great Smoky Mountains National Park\",53.39],[29.23,\"Great Smoky Mountains National Park\",53.01],[21.77,\"Great Smoky Mountains National Park\",52.14],[22.62,\"Great Smoky Mountains National Park\",49.55],[36.54,\"Great Smoky Mountains National Park\",63.3],[21.85,\"Great Smoky Mountains National Park\",67.5],[23.23,\"Great Smoky Mountains National Park\",64.51],[29.85,\"Great Smoky Mountains National Park\",54.09],[28.23,\"Great Smoky Mountains National Park\",73.12],[25.0,\"Great Smoky Mountains National Park\",62.42],[22.38,\"Great Smoky Mountains National Park\",63.16],[36.85,\"Great Smoky Mountains National Park\",58.48],[31.46,\"Great Smoky Mountains National Park\",51.11],[39.38,\"Great Smoky Mountains National Park\",64.61],[11.23,\"Great Smoky Mountains National Park\",56.34],[27.0,\"Great Smoky Mountains National Park\",49.59],[32.23,\"Great Smoky Mountains National Park\",32.4],[21.62,\"Great Smoky Mountains National Park\",69.27],[27.08,\"Great Smoky Mountains National Park\",55.96],[29.77,\"Great Smoky Mountains National Park\",42.89],[11.92,\"Great Smoky Mountains National Park\",53.73],[14.23,\"Great Smoky Mountains National Park\",53.71],[34.31,\"Great Smoky Mountains National Park\",55.12],[16.15,\"Great Smoky Mountains National Park\",53.01],[22.85,\"Great Smoky Mountains National Park\",56.25],[15.0,\"Great Smoky Mountains National Park\",53.39],[16.0,\"Great Smoky Mountains National Park\",53.39],[25.15,\"Great Smoky Mountains National Park\",66.53],[16.85,\"Great Smoky Mountains National Park\",49.65],[22.46,\"Great Smoky Mountains National Park\",68.94],[22.69,\"Great Smoky Mountains National Park\",49.6],[19.92,\"Great Smoky Mountains National Park\",58.54],[21.0,\"Great Smoky Mountains National Park\",52.15],[23.31,\"Great Smoky Mountains National Park\",34.22],[23.77,\"Great Smoky Mountains National Park\",65.72],[22.15,\"Great Smoky Mountains National Park\",52.15],[24.23,\"Great Smoky Mountains National Park\",63.33],[7.38,\"Great Smoky Mountains National Park\",53.43],[16.31,\"Great Smoky Mountains National Park\",58.53],[31.77,\"Great Smoky Mountains National Park\",34.2],[29.08,\"Great Smoky Mountains National Park\",39.38],[22.62,\"Great Smoky Mountains National Park\",73.0],[31.15,\"Great Smoky Mountains National Park\",68.91],[20.69,\"Great Smoky Mountains National Park\",49.63],[24.31,\"Great Smoky Mountains National Park\",48.1],[18.08,\"Great Smoky Mountains National Park\",55.57],[21.62,\"Great Smoky Mountains National Park\",48.2],[21.08,\"Great Smoky Mountains National Park\",54.7],[32.15,\"Great Smoky Mountains National Park\",58.55],[27.69,\"Great Smoky Mountains National Park\",58.63],[30.92,\"Great Smoky Mountains National Park\",78.18],[9.23,\"Great Smoky Mountains National Park\",71.6],[24.69,\"Great Smoky Mountains National Park\",62.34],[25.46,\"Great Smoky Mountains National Park\",75.88],[2.54,\"Great Smoky Mountains National Park\",39.46],[10.08,\"Great Smoky Mountains National Park\",56.23],[25.0,\"Great Smoky Mountains National Park\",62.42],[24.46,\"Great Smoky Mountains National Park\",39.55],[20.0,\"Great Smoky Mountains National Park\",67.5],[24.54,\"Great Smoky Mountains National Park\",47.92],[24.77,\"Great Smoky Mountains National Park\",67.49],[8.23,\"Great Smoky Mountains National Park\",67.5],[24.54,\"Great Smoky Mountains National Park\",66.52],[9.15,\"Great Smoky Mountains National Park\",39.47],[24.85,\"Great Smoky Mountains National Park\",58.47],[9.54,\"Great Smoky Mountains National Park\",39.36],[9.23,\"Great Smoky Mountains National Park\",78.25],[23.69,\"Great Smoky Mountains National Park\",49.59],[25.69,\"Great Smoky Mountains National Park\",58.53],[9.46,\"Great Smoky Mountains National Park\",66.47],[16.15,\"Great Smoky Mountains National Park\",49.6],[2.31,\"Great Smoky Mountains National Park\",70.31],[42.38,\"Great Smoky Mountains National Park\",64.57],[16.23,\"Great Smoky Mountains National Park\",39.46],[10.0,\"Great Smoky Mountains National Park\",71.03],[9.23,\"Great Smoky Mountains National Park\",56.43],[16.92,\"Great Smoky Mountains National Park\",38.35],[17.54,\"Great Smoky Mountains National Park\",78.18],[10.23,\"Great Smoky Mountains National Park\",69.34],[18.23,\"Great Smoky Mountains National Park\",39.6],[17.77,\"Great Smoky Mountains National Park\",66.52],[17.15,\"Great Smoky Mountains National Park\",42.89],[17.62,\"Great Smoky Mountains National Park\",39.37],[33.69,\"Shenandoah National Park\",312.97],[18.69,\"Shenandoah National Park\",309.06],[8.31,\"Shenandoah National Park\",304.79],[0.77,\"Shenandoah National Park\",300.29],[14.85,\"Shenandoah National Park\",308.25],[34.38,\"Shenandoah National Park\",309.74],[8.54,\"Shenandoah National Park\",310.35],[29.15,\"Shenandoah National Park\",295.05],[8.31,\"Shenandoah National Park\",310.36],[24.62,\"Shenandoah National Park\",308.25],[31.23,\"Shenandoah National Park\",315.56],[34.85,\"Shenandoah National Park\",275.73],[9.38,\"Shenandoah National Park\",279.05],[29.08,\"Shenandoah National Park\",307.41],[12.69,\"Shenandoah National Park\",282.54],[14.92,\"Shenandoah National Park\",304.93],[12.62,\"Shenandoah National Park\",322.41],[23.77,\"Shenandoah National Park\",279.66],[38.69,\"Shenandoah National Park\",272.77],[25.15,\"Shenandoah National Park\",282.54],[16.54,\"Shenandoah National Park\",304.93],[23.77,\"Shenandoah National Park\",314.88],[40.23,\"Shenandoah National Park\",312.97],[30.62,\"Shenandoah National Park\",314.93],[24.77,\"Shenandoah National Park\",330.0],[25.08,\"Shenandoah National Park\",272.77],[27.08,\"Shenandoah National Park\",309.03],[22.0,\"Shenandoah National Park\",329.16],[34.85,\"Shenandoah National Park\",274.69],[22.92,\"Shenandoah National Park\",329.04],[3.46,\"Shenandoah National Park\",309.53],[43.0,\"Fort Hunt National Park\",370.5],[32.62,\"Shenandoah National Park\",321.83],[31.69,\"Shenandoah National Park\",303.76],[31.0,\"Shenandoah National Park\",313.14],[14.77,\"Shenandoah National Park\",283.85],[23.92,\"Shenandoah National Park\",321.5],[33.62,\"Shenandoah National Park\",308.23],[30.38,\"Shenandoah National Park\",317.13],[29.46,\"Shenandoah National Park\",275.72],[16.54,\"Shenandoah National Park\",280.81],[25.08,\"Shenandoah National Park\",327.86],[24.15,\"Shenandoah National Park\",303.3],[24.0,\"Shenandoah National Park\",292.78],[17.62,\"Shenandoah National Park\",275.48],[29.77,\"Shenandoah National Park\",331.96],[19.85,\"Shenandoah National Park\",291.94],[24.62,\"Shenandoah National Park\",313.01],[39.85,\"Shenandoah National Park\",319.65],[25.0,\"Shenandoah National Park\",309.11],[33.38,\"Shenandoah National Park\",279.0],[19.46,\"Shenandoah National Park\",308.23],[33.77,\"Shenandoah National Park\",304.26],[21.15,\"Shenandoah National Park\",311.3],[29.23,\"Shenandoah National Park\",309.91],[18.77,\"Shenandoah National Park\",321.09],[21.15,\"Shenandoah National Park\",311.31],[9.23,\"Shenandoah National Park\",309.75],[13.92,\"Shenandoah National Park\",330.09],[10.62,\"Shenandoah National Park\",308.23],[29.46,\"Shenandoah National Park\",327.98],[25.77,\"Shenandoah National Park\",324.08],[32.69,\"Shenandoah National Park\",304.21],[27.46,\"Shenandoah National Park\",321.17],[19.38,\"Shenandoah National Park\",317.07],[9.77,\"Shenandoah National Park\",304.54],[25.38,\"Shenandoah National Park\",314.93],[23.38,\"Shenandoah National Park\",320.84],[22.62,\"Shenandoah National Park\",304.88],[17.85,\"Shenandoah National Park\",327.98],[18.0,\"Shenandoah National Park\",286.03],[25.23,\"Shenandoah National Park\",301.4],[23.31,\"Shenandoah National Park\",265.45],[17.85,\"Shenandoah National Park\",271.56],[32.38,\"Shenandoah National Park\",332.46],[19.62,\"Shenandoah National Park\",321.16],[23.23,\"Shenandoah National Park\",265.52],[27.85,\"Shenandoah National Park\",329.17],[24.46,\"Shenandoah National Park\",312.4],[16.08,\"Shenandoah National Park\",311.31],[25.08,\"Shenandoah National Park\",314.89],[17.15,\"Shenandoah National Park\",328.01],[14.0,\"Shenandoah National Park\",295.05],[19.15,\"Shenandoah National Park\",304.54],[34.69,\"Shenandoah National Park\",330.97],[32.38,\"Shenandoah National Park\",312.42],[18.15,\"Shenandoah National Park\",272.53],[33.46,\"Shenandoah National Park\",282.54],[2.15,\"Shenandoah National Park\",280.76],[33.85,\"Shenandoah National Park\",279.0],[17.62,\"Shenandoah National Park\",313.0],[16.54,\"Shenandoah National Park\",329.17],[7.69,\"Shenandoah National Park\",325.33],[29.62,\"Shenandoah National Park\",284.89],[9.69,\"Shenandoah National Park\",317.12],[25.69,\"Shenandoah National Park\",327.98],[26.77,\"Shenandoah National Park\",316.18],[30.31,\"Shenandoah National Park\",290.34]],\"hovertemplate\":\"<b>%{hovertext}</b><br><br>Score=%{marker.color}<br>latitude=%{lat}<br>longitude=%{lon}<br>area_name=%{customdata[1]}<br>Distance=%{customdata[2]}<extra></extra>\",\"hovertext\":[\"Sunset Trail\",\"West Mountain Trail\",\"Goat Rock Trail\",\"Gulpha Gorge Trail\",\"Dead Chief Trail\",\"Hot Springs Mountain Trail\",\"Sugarloaf Mountain Via Sunset Trail\",\"Goat Rock via Dead Chief Trail\",\"Hot Springs Sunset Trail Full Circle\",\"Sunset Trail: Sugarloaf Mountain Section\",\"Anhinga Trail\",\"Pa-Hay-Okee Overlook Trail\",\"Gumbo Limbo Trail\",\"Everglades Coastal Prairie Trail\",\"Fort Jefferson Loop\",\"Pinelands Trail\",\"Little Calumet River Trail Loop\",\"West Beach Loop with Scallop Dunes and Long Lake Trail\",\"West Beach Loop\",\"Miller Woods Trail\",\"Dune Ridge Trail\",\"Tolleston Dunes\",\"Green River Bluffs Trail\",\"Cedar Sink Trail\",\"Sal Hollow and Buffalo Creek Loop Trail\",\"Dixon Cave Trail Loop\",\"Heritage Trail Loop\",\"Big Hollow North and South Loops Trail\",\"Mammoth Cave Railroad Trail\",\"Sand Cave Trail\",\"Sloan's Crossing Pond Trail\",\"Turnhole Bend Nature Trail\",\"The Beehive Loop Trail\",\"Cadillac North Ridge Trail\",\"Jordan Pond Full Loop Trail\",\"Ocean Path and Gorham Mountain Loop Trail\",\"Cadillac Mountain South Ridge Trail Loop\",\"Precipice, Orange and Black and Champlain North Ridge Trail Loop\",\"Ocean Path Trail: Thunder Hole and Monument Cove\",\"Great Head Trail (Short Option)\",\"South Bubble Mountain and Jordan Pond Loop\",\"Acadia Mountain and St. Sauveur Mountain Trail Loop\",\"Gorham Mountain\",\"Bubbles Trail to Conners Nubble and Eagle Lake\",\"Ship Harbor Trail\",\"Penobscot Mountain Trail\",\"Dorr Mountain Ladder Trail\",\"Beech Mountain Loop Trail\",\"Bar Island Trail\",\"Great Head Trail (Full Loop)\",\"Wonderland Trail\",\"The Bowl Trail\",\"Eagle Lake Carriage Road Trail\",\"Flying Mountain Trail\",\"Acadia Mountain and Man O War Trail\",\"Gorge Path Trail\",\"North Gorham Mountain Trail\",\"Pemetic North and South Ridge Trails\",\"The Beehive via Bowl Trail\",\"Sargent Mountain South Ridge Trail\",\"Champlain Mountain & Beehive Loop Trail\",\"Jordan Cliffs Trail to Penobscot Mountain\",\"Jordan Pond East Side Trail\",\"North Bubble Trail\",\"Bass Harbor Head Light Trail\",\"Jordan Pond to South Bubble Summit\",\"The Bubbles and North Bubble\",\"Beehive, Gorham Mountain and Ocean Path Loop\",\"Dorr Mountain Cannon Brook Loop Trail\",\"Jordan Pond, Sargent Mountain, and Penobscot Mountain Loop Trail\",\"Parkman Mountain Trail\",\"Beech Cliff Trail via Beech Cliff Loop\",\"Sargent Mountain and Gilmore Peak via Giant Slide Trail\",\"Jesup Trail\",\"Jordan Pond West Side Trail\",\"Beachcroft Path Trail\",\"Champlain North Ridge Trail\",\"Schiff Path to Dorr Mountain\",\"Beehive, the Bowl, Gorham Mountain, Ocean Drive Loop\",\"Beech Cliff  Ladder and Canada Cliff Loop\",\"Norumbega Mountain and Hadlock Ponds Loop Trail\",\"Compass Harbor Trail\",\"Perpendicular Trail\",\"Beech Mountain and Valley Loop\",\"Cadillac Mountain West Face Trail\",\"Pemetic Mountain via Pemetic Northwest Trail\",\"Jordan Pond Carry to Eagle Lake and Bubbles Trails Loop\",\"Conners Nubble Trail\",\"Bald Peak Trail\",\"Canon Brook Trail\",\"Sargent Mountain\",\"Schoodic Head Overlook and The Anvil Loop Trail\",\"Witch Hold Pond, Eagle Lake and Around Mountain Carriage Road\",\"Dorr Mountain North Ridge Trail to Gorge Path Loop\",\"Bernard Mountain Loop Trail\",\"Homans and Emery Path\",\"Lower Hadlock Pond Loop Trail\",\"Mansell Mountain Loop Trail\",\"Spring, Penobscot Mountain, Deer Brook and Jordan Pond Path Loop\",\"Schooner Head Path\",\"Day Mountain Trail\",\"Saint Sauveur Mountain and Valley Peak Loop Trail\",\"Beehive, The Bowl, and Gorham Mountain\",\"Long Pond And Great Notch Trails\",\"Beachcroft Path and Champlain North Ridge Trail\",\"Quarry Path and Otter Cove Trail\",\"Maple Spring Trail\",\"Jordan Stream Path\",\"Valley Peak Trail\",\"Cannon Brook, Cadillac South Ridge and Ladder Trail\",\"Carriage and Around Mountain Road Loop\",\"Bubbles Divide via Jordans Pond Path\",\"Valley and Beech South Ridge Trails\",\"Beech Mountain West Ridge Trail\",\"Schoodic Head Trail\",\"Deer Brook Trail via Jordan Pond Path\",\"Razorback Trail\",\"Jordan Cliffs to Sargent and Penobscot Mountain Loop\",\"Cadillac North Ridge Trail to South Ridge Trail\",\"Saint Sauveur and Acadia Mountain\",\"Triad and Pemetic East Cliff Trails\",\"Stratheden Trail\",\"Canon Brook, Cadillac South Ridge and Dorr Mountain South Ridge Trail Loop\",\"The Anvil Trail\",\"Valley Cove Trail\",\"Cadillac Mountain North Ridge and Gorge Path Loop\",\"Mansell Mountain via Perpendicular, Razorback and Cold Brook Trail Loop\",\"Ledge Trail to Saint Sauveur Trail\",\"Kebo Mountain and Dorr North Ridge Trails\",\"Valley Trail to Canada Cliff Trail\",\"Precipice, Orange, Black Path and Schooner Head Loop\",\"Acadia Long Pond Loop Trail\",\"Alder Trail to The Anvil\",\"Bernard Mountain Trail\",\"Penobscot Mountain and Bubbles Loop\",\"A. Murray Young Path via Canon Brook  and Dorr South Ridge Trail\",\"Parkman to Sargent to Maple Springs via Carriage Road\",\"Bowl, Beehive, Chaplain South Ridge and The Precipice Trail\",\"Andrews Bald Trail\",\"Deep Creek Loop Trail\",\"Mouse Creek Falls via Big Creek Trail\",\"Juney Whank Falls Trail\",\"Hemp Hill Road Trail\",\"Oconaluftee River Trail\",\"Deep Creek Waterfall Loop\",\"Kephart Shelter via Kephart Prong Trail\",\"Forney Ridge Trail\",\"Shuckstack Tower via Appalachian Trail\",\"Newfound Gap to Clingmans Dome Trail\",\"The Boogerman Trail\",\"Charlies Bunion via Kephart Loop\",\"Mount Sterling Overnight Loop Trail\",\"Gregory Bald via Twentymile\",\"Smokemont Loop Trail\",\"Silers Bald and Forney Creek Loop Trail\",\"Cataloochee Divide Trail\",\"Noland Divide Trail\",\"Flat Creek Trail\",\"Appalachian Trail: Charlie's Bunion and Kephart Loop\",\"Silers Bald Trail\",\"Deep Creek to Clingman's Dome Loop\",\"Deep Creek Martin's Gap Sunkota Ridge Trail Loop\",\"Fork Mountain Loop Trail\",\"Purchase Knob Trail\",\"Little Cataloochee Trail\",\"Bradley Fork and Chasteen Creek Loop Trail\",\"Newfound Gap and Low Gap\",\"Little Tennessee Lakeshore Trail\",\"Indian Creek and Sunkota Ridge Trail\",\"Forney Creek Trail\",\"Rough Fork Trail\",\"Mingus Mill and Newton Bald Trail\",\"Appalachian Trail: Fontana Dam to Davenport Gap\",\"Forney Ridge Trail to Clingmans Dome Loop\",\"Shuckstack via Twentymile\",\"Twentymile Loop Trail\",\"Spruce Fir Self-Guiding Nature Trail\",\"Road Prong Trail\",\"Lonesome Pine Overlook\",\"Appalachian Trail, Lost Cove, and Lakeshore Loop\",\"Fontana Dam To Fire Tower\",\"Balsam Mountain Trail to Appalachian Trail Junction\",\"Chasteen Creek Trail\",\"Twentymile, Gregory Bald, and Shuckstack Loop\",\"Caldwell Fork Loop\",\"Kephart Prong Trail - Charlies Bunion - Mount LeConte\",\"Hemphill Bald via Cataloochee Divide Trail\",\"Deep Creek Trail\",\"Enloe Creek Trail\",\"Ledges Trail\",\"Brandywine Gorge Trail\",\"Stanford House to Brandywine Falls Trail\",\"Blue Hen Falls Trail\",\"Plateau Trail\",\"Pine Grove Trail and Ledges Trail Loop from Kendall Lake\",\"Buckeye Trail to Valley Bridle Trail Loop\",\"Wetmore Bridle Trail\",\"Ohio and Erie Canal Towpath Trail: Brecksville Station\",\"Buckeye Trail: Blue Hen to Jaite\",\"Buckeye Trail: Jaite to Brecksville Station\",\"Boston Run Trail\",\"Pine Grove Trail\",\"Buckeye Trail and Ohio & Erie Canal Towpath Loop\",\"Oak Hill Trail\",\"Ledges Trail and Pine Grove Trail Loop\",\"Boston to Red Lock Loop via Buckeye Trail and Ohio and Erie Canal Towpath\",\"Wetmore Outer Loop\",\"Tree Farm Trail\",\"Ohio and Erie Canal Towpath: Peninsula to Boston Mills\",\"Perkins Trail and Riding Run Loop\",\"Ohio and Erie Canal Towpath from Ira Trailhead\",\"Ledges Trail Loop via Haskell Run Trail\",\"Furnace Run\",\"Cross Country Trail from Quick Road\",\"Cross Country Trail from Kendall Lake\",\"Ohio and Erie Canal Towpath: Red Lock to Peninsula\",\"Buckeye Trail: Jaite to Boston\",\"Twin Sister Falls\",\"East Rim MTB Trail\",\"Weston Lake Loop Trail\",\"Oakridge Trail\",\"Kingsnake Trail\",\"Alum Cave Trail to Mount LeConte\",\"Chimney Tops Trail\",\"Rainbow Falls Trail\",\"Grotto Falls Trail\",\"Laurel Falls Trail\",\"Abrams Falls Trail\",\"Charlies Bunion via Appalachian Trail\",\"Ramsey Cascades Trail\",\"Peregrine Peak via Alum Cave Bluffs Trail\",\"Spruce Flats Falls Trail\",\"Porters Creek Trail\",\"Mount Cammerer via Low Gap Trail\",\"Gatlinburg Trail\",\"Laurel Falls and Cove Mountain\",\"Jump Off Trail via Appalachian Trail\",\"Cucumber Gap and Little River Loop Trail\",\"Indian Flats Falls via Middle Prong Trail\",\"Mount LeConte via Appalachian Trail and Boulevard Trail\",\"Cataract Falls\",\"Gabes Mountain Trail to Hen Wallow Falls\",\"Mount LeConte and Rainbow Falls via The Bullhead Trail\",\"Baskins Creek Trail and Baskins Creek Falls\",\"Mount LeConte via Trillium Gap Loop Trail\",\"Icewater Spring via Appalachian Trail\",\"Middle Prong Trail\",\"Rocky Top from Lead Cove Trailhead\",\"Spruce Flats Falls via Lumber Ridge Loop\",\"Roaring Fork Motor Nature Trail\",\"Gregory Ridge Trail to Gregory Bald\",\"Walker Sisters Home via Little Brier Gap Trail\",\"Meigs Creek Trail\",\"Little River Trail to Little River Upper Falls and Grouse Creek Campground\",\"Myrtle Point and Mount LeConte via Alum Cave Trail\",\"West Prong Trail\",\"Fighting Creek Nature Trail\",\"Appalachian Trail: Newfound Gap to Sweat Heifer Creek Trail\",\"Mount Sterling via Mount Sterling Gap\",\"Rich Mountain Loop Trail\",\"Sugarlands Valley Nature Trail\",\"Maddron Bald Trail to Albright Grove Loop\",\"Noah \\\"Bud\\\" Ogle Self-Guiding Trail\",\"Appalachian Trail: Clingman Dome to Cades Cove\",\"Twin Creeks Trail\",\"Baskins Creek Falls Trail to Greenbrier Cove\",\"Old Sugarlands Trail\",\"Mount LeConte via Rainbow Falls Trail\",\"Rainbow Falls Trail and Cliff Tops Trail\",\"Schoolhouse Gap Trail\",\"Injun Creek Trail\",\"Anthony Creek Leadbetter Ridge Loop Trail\",\"Myrtle Point via Appalachian Trail and Boulevard Trail\",\"Jakes Creek Trail to Avent Cabin\",\"Mount Le Conte\",\"Chestnut Branch Trail to Mount Cammerer\",\"Chestnut Top Trail to Whiteoak Sink\",\"Brushy Mountain\",\"Lynn Camp Via Middle Prong Trail\",\"Cove Hardwoods Nature Trail\",\"Jakes Creek via Miry Ridge Trail and Appalachian Trail Loop\",\"Mt. Sterling via Baxter Creek Trail\",\"Lower Mount Cammerer Trail\",\"Elijah Oliver Place Trail\",\"Rocky Top via Anthony Creek Trail\",\"Newfound Gap to Indian Gap\",\"Grapeyard Ridge Trail\",\"Huskey Gap Trail\",\"Brushy Mountain Trail\",\"Courthouse Rock Trail\",\"Jakes Creek and Lynn Camp Prong\",\"Sugarland Mountain Trail\",\"Little Bottoms Trail\",\"Appalachian Trail: Fontana Lake to Mount Squires\",\"Curry Mountain Trail\",\"Gregory's Little Bald Trail\",\"Cosby Self-Guided Nature Trail\",\"Old Sugarlands, Twin Creeks, Gatlinburg Loop Trail\",\"Metcalf Bottoms Trail to Laurel Falls\",\"Gabes Mountaun, Maddron Bald and Snake Den Ridge Loop\",\"Finley Cane Trail\",\"Old Settlers Trail\",\"Lead Cove Trail\",\"Lead Cove and Finley Cane Trail\",\"Whiteoak Sinks\",\"Mount Cammerer Loop - Low Gap and Lower Cammerer\",\"Little River and Goshen Prong Trail\",\"Snake Den Ridge Low Gap Trail\",\"Rabbit and Abrams Creeks Loop Trail\",\"Appalachian Trail: Newfound Gap to Fontana Lake\",\"Meigs Mountain Trail\",\"Bote Mountain Trail\",\"Appalachian Trail: Newfound Gap to Davenport Gap\",\"Cades Cove Loop Hike\",\"Tremont Logging History Auto Tour\",\"Mount Sterling Loop (via Low Gap, Big Creek, Swallow Fork)\",\"Ace Gap Trail\",\"Cove Mountain Laurel Falls Loop Trail\",\"Mount Cammerer via Groundhog Ridge Manway\",\"Abrams Creek and Cooper Road Loop Trail\",\"Abrams Creek Trail\",\"Gabes Mountain Trail to Greenbrier Creek\",\"Laurel Creek Loop Trail\",\"Maddron Bald\",\"Snake Den Ridge Trail\",\"Old Rag Mountain Loop\",\"White Oak Canyon and Cedar Run Trails Loop\",\"Dark Hollow Falls Trail\",\"Bearfence Mountain Trail\",\"Hawksbill Gap Loop via Appalachian Trail\",\"White Oak Canyon Trail\",\"Stony Man via Appalachian Trail\",\"South River Falls Trail\",\"Little Stony Man Loop via Appalachian Trail\",\"Hawksbill Summit Trail\",\"Marys Rock via Appalachian Trail (North Approach)\",\"Riprap Trail\",\"Blackrock Summit via Trayfoot Mountain and Appalachian Trail\",\"Upper Hawksbill Trail\",\"Doyles River Loop via Appalachian Trail\",\"Dark Hollow via Appalachian Trail and Story of the Forest Trail\",\"Overall Run Loop\",\"Jones Run Falls Trail\",\"Turk Mountain Trail\",\"Doyles River Falls Trail\",\"Lewis Spring Falls Trail\",\"Mary's Rock via the Appalachian Trail (Southern Approach)\",\"Old Rag Mountain via Weakley Hollow Fire Road\",\"Hazel Falls and Caves\",\"Snead Farm Dickey Ridge Loop Trail\",\"Moormans River Overnight Loop via Appalachian Trail\",\"Shenandoah National Park Loop\",\"Compton Peak Summit via Appalachian Trail\",\"North Fork Moormans River\",\"Lands Run Falls Trail\",\"Limberlost Trail\",\"Mount Vernon Trail\",\"Beecher Ridge and Overall Run Loop via Appalachian Trail\",\"Staunton River Trail to Bear Church Rock\",\"Marys Rock via Pinnacle Picnic Grounds\",\"Loft Mountain Loop via Appalachian Trail\",\"Mathews Arm Overall Run Trail\",\"Cedar Run Falls Trail\",\"Buck Ridge Trail To Mary's Rock Loop\",\"Calvary and Chimney Rocks Trail\",\"Appalachian Trail: Jones Run Trail to Pinefield Gap\",\"Mount Marshall Loop via Appalachian Trail\",\"Laurel Prong, Rapidan Camp, Jones Mountain Trail via Appalachian Trail\",\"Hightop Peak Loop via Appalachian Trail\",\"Trayfoot Mountain Trail\",\"Dickey Ridge Trail\",\"Hightop Peak Trail\",\"Robertson Mountain Trail Loop\",\"Jeremy's Run Trail\",\"Cedar Run Trail to Hawksbill to White Oak Trail Loop\",\"Furnace Mountain Trail\",\"Crescent Rock via Appalachian Trail\",\"Rapidan Camp Rapidan River via Millprong\",\"Little Stony Man to Stony Man Loop via Appalachian Trail\",\"Millers Head Trail\",\"Sugarloaf Loop via Appalachian Trail\",\"Little Stony Man via Appalachian Trail\",\"Skyline to Old Rag Mountain Loop\",\"Fox Hollow Trail\",\"Cedar Run Trail to White Oak Fire Road Loop\",\"Compton Peak from Jenkins Gap via Appalachian Trail\",\"Big Devil Stairs Trail\",\"Lewis Falls via Lewis Spring\",\"Tuscarora-Overall Run Trail\",\"White Rocks Trail\",\"Story of the Forest Trail\",\"Hazel Mountain, Sam's Ridge, White Rocks Loop\",\"Appalachian Trail: Hogback Overlook to Jenkins Gap\",\"Blackrock Trail\",\"Mount Marshall via the Appalacian Trail\",\"Rocky Mount and Gap Run Trails\",\"Jones Mountain Trail to Cat Knob and Bear Church Rock\",\"Skyline Drive: Waynesboro to Front Royal\",\"Jarman to Turk's Mountain Loop\",\"Appalachian Trail: Sloan Creek to Jenkins Gap\",\"Elkwallow, Mathews Arm, and Knob Mountain Cutoff Trail\",\"Appalachian Trail: Shenandoah National Park\",\"Appalachian Trail: Compton Gap to Jenkins Gap\",\"Corbin Cabin and Nicholson Hollow Loop via Appalachian Trail and Indian Run Trail\",\"Passamaquoddy Trail\",\"Hazel River Trail\",\"Bluff Trail, Mount Marshall Trail, Appalachian Loop\",\"Saddleback Mountain and Appalachian Trail Loop\",\"Rose River Trail to Story of the Forest Trail Loop\",\"Lands Run Falls to Hickerson Hollow via Appalachian Trail\",\"Corbin Cabin Trail\",\"Turk Branch Trail\",\"Big Run Trail\",\"Austin Mountain and Furnace Mountain Loop\",\"Austin Mountain Trail\",\"Catlett Mountain\",\"Carson Mountain Fort Windham Rocks via Appalachian Trail\",\"North Marshall Mountain\",\"Ivy Creek via Appalachian Trail\",\"Thorton Gap and Buck Hollow Trail\",\"The Peak Trail\",\"Cave Falls via Hazel River and White Rocks Trail\",\"Hightop Trail\"],\"lat\":[34.5256,34.51279,34.52802,34.52556,34.51359,34.52598,34.50846,34.52559,34.5117,34.51403,25.38252,25.44076,25.38245,25.13673,24.62723,25.42319,41.6245,41.62244,41.62254,41.60671,41.67729,41.61477,37.18836,37.15571,37.2057,37.18657,37.1857,37.2057,37.10426,37.15271,37.1511,37.16245,44.33153,44.37854,44.322,44.32998,44.31306,44.34971,44.32985,44.33001,44.34113,44.32162,44.31667,44.34118,44.23165,44.32023,44.35175,44.31514,44.3921,44.33388,44.23375,44.33155,44.37792,44.29949,44.3219,44.3526,44.33155,44.34827,44.33154,44.31218,44.35871,44.32042,44.32357,44.34113,44.22251,44.32238,44.34115,44.33007,44.35181,44.3229,44.32589,44.31527,44.35026,44.35902,44.32236,44.35841,44.36312,44.362,44.32984,44.31496,44.32592,44.37374,44.30009,44.31519,44.34967,44.34121,44.34104,44.37786,44.32583,44.34816,44.32904,44.35216,44.40921,44.37112,44.29241,44.36277,44.31088,44.30014,44.32046,44.3398,44.29917,44.31185,44.33165,44.30001,44.35911,44.31029,44.32588,44.31992,44.29948,44.35166,44.31224,44.3237,44.31518,44.30021,44.35015,44.32294,44.29661,44.3205,44.3786,44.31193,44.31586,44.37577,44.34813,44.35004,44.29954,44.3728,44.3001,44.31185,44.37697,44.31507,44.34951,44.3002,44.35004,44.29508,44.32188,44.34815,44.32935,44.33154,35.5569,35.46438,35.75185,35.46429,35.57429,35.51326,35.4643,35.5858,35.5568,35.46045,35.61035,35.63138,35.5858,35.75146,35.46735,35.5556,35.55707,35.63257,35.45919,35.57313,35.60952,35.55683,35.45982,35.46415,35.70021,35.58625,35.67639,35.56294,35.55655,35.45901,35.46417,35.55696,35.6161,35.52091,35.45184,35.5568,35.46741,35.46718,35.5956,35.60949,35.45958,35.46104,35.45235,35.63363,35.56269,35.46749,35.63137,35.58572,35.58202,35.59945,35.60892,41.22386,41.27688,41.27104,41.25634,41.21948,41.21802,41.23943,41.21248,41.31788,41.25609,41.28877,41.23206,41.22634,41.26251,41.21942,41.22308,41.26274,41.21244,41.23328,41.2433,41.20419,41.18411,41.23193,41.20417,41.20925,41.21792,41.28955,41.28875,41.3183,41.25512,33.82961,33.83019,33.82033,35.62957,35.63544,35.67592,35.68027,35.6719,35.59095,35.61098,35.70272,35.62874,35.64105,35.69662,35.75637,35.68562,35.6719,35.61097,35.65342,35.61853,35.61095,35.68551,35.75779,35.67573,35.67745,35.68006,35.61096,35.61741,35.60686,35.64146,35.68552,35.56245,35.67828,35.6693,35.65366,35.62909,35.64091,35.68552,35.61084,35.70021,35.60645,35.67956,35.76935,35.68348,35.56271,35.70124,35.67703,35.68804,35.67577,35.6755,35.62725,35.72964,35.60421,35.61041,35.65229,35.68029,35.75946,35.66054,35.68026,35.61861,35.63642,35.65201,35.75117,35.75396,35.59758,35.60501,35.61057,35.70772,35.66318,35.69686,35.65007,35.65234,35.67171,35.60914,35.46048,35.67542,35.54295,35.7559,35.68757,35.67822,35.75722,35.60662,35.70774,35.60661,35.60663,35.62771,35.75595,35.65359,35.75363,35.60777,35.61105,35.65192,35.62813,35.61071,35.60674,35.64103,35.75576,35.64565,35.68795,35.78288,35.60931,35.60628,35.75762,35.62834,35.76937,35.75377,38.57052,38.53906,38.51971,38.45239,38.55647,38.58589,38.59318,38.38115,38.59308,38.55641,38.65928,38.17789,38.22304,38.54389,38.25426,38.53061,38.80185,38.2299,38.12901,38.25429,38.53082,38.63775,38.57112,38.63832,38.87069,38.12911,38.53952,38.82325,38.13943,38.83388,38.57993,38.7108,38.76133,38.43715,38.62462,38.2629,38.76417,38.55605,38.65829,38.17774,38.24079,38.80233,38.50018,38.35641,38.19973,38.9062,38.34493,38.57044,38.73849,38.53977,38.25759,38.55598,38.51639,38.60573,38.59052,38.75135,38.60577,38.58585,38.87183,38.55605,38.80698,38.76778,38.51697,38.75957,38.62958,38.51877,38.6383,38.75065,38.52959,38.80704,38.29919,38.46838,38.03281,38.09769,38.87779,38.7598,38.03431,38.82346,38.61578,38.60566,38.63783,38.80723,38.38114,38.51872,38.86082,38.61608,38.12536,38.25432,38.2404,38.25761,38.57044,38.82363,38.77507,38.28487,38.65839,38.80698,38.61445,38.32836],\"legendgroup\":\"\",\"lon\":[-93.03637,-93.05836,-93.03995,-93.03645,-93.05238,-93.03645,-93.06853,-93.03619,-93.05353,-93.09383,-80.60978,-80.78342,-80.61006,-80.94849,-82.87242,-80.67959,-87.08934,-87.20793,-87.20827,-87.26868,-87.00886,-87.19301,-86.101,-86.16037,-86.13892,-86.10066,-86.10101,-86.13904,-86.05828,-86.04777,-86.09842,-86.15842,-68.1852,-68.22954,-68.25437,-68.18404,-68.21502,-68.18794,-68.18432,-68.18399,-68.2505,-68.33279,-68.19205,-68.25026,-68.32552,-68.25286,-68.20508,-68.34318,-68.21009,-68.17862,-68.32016,-68.18519,-68.25222,-68.31643,-68.3327,-68.22463,-68.18522,-68.24201,-68.18515,-68.28531,-68.20553,-68.25416,-68.24842,-68.25027,-68.33698,-68.25315,-68.25045,-68.18421,-68.20479,-68.25382,-68.29126,-68.34355,-68.30172,-68.20599,-68.25308,-68.20551,-68.19335,-68.20731,-68.18427,-68.33658,-68.29151,-68.19731,-68.35026,-68.34331,-68.2413,-68.25037,-68.25035,-68.25237,-68.2912,-68.20218,-68.29327,-68.04712,-68.24661,-68.20952,-68.3869,-68.20763,-68.28596,-68.35027,-68.25422,-68.17855,-68.2275,-68.33207,-68.1853,-68.35059,-68.20595,-68.20378,-68.29125,-68.25316,-68.31631,-68.20437,-68.28545,-68.24989,-68.34363,-68.3498,-68.05388,-68.25375,-68.35722,-68.25405,-68.22955,-68.33223,-68.2343,-68.21729,-68.2024,-68.05398,-68.3162,-68.22169,-68.35017,-68.33225,-68.21896,-68.34348,-68.18793,-68.34999,-68.05398,-68.36318,-68.2601,-68.20223,-68.29304,-68.18515,-83.49613,-83.43412,-83.11035,-83.43434,-83.07494,-83.30637,-83.43433,-83.3583,-83.49607,-83.81108,-83.42528,-83.08809,-83.3583,-83.10969,-83.87679,-83.31197,-83.49615,-83.045,-83.43792,-83.18052,-83.44666,-83.49607,-83.4385,-83.43449,-83.09743,-83.06837,-83.08731,-83.31057,-83.49595,-83.53806,-83.43438,-83.49619,-83.12108,-83.30918,-83.80168,-83.49606,-83.87679,-83.87698,-83.45901,-83.4465,-83.43861,-83.81105,-83.8026,-83.17906,-83.31071,-83.87672,-83.08812,-83.35803,-83.07022,-83.42296,-83.2232,-81.51015,-81.54021,-81.5567,-81.57266,-81.57649,-81.52488,-81.53804,-81.54581,-81.58767,-81.57269,-81.57174,-81.50731,-81.51406,-81.55878,-81.57623,-81.51057,-81.55908,-81.54589,-81.56917,-81.54995,-81.5807,-81.58176,-81.50783,-81.58072,-81.52686,-81.52496,-81.56379,-81.57178,-81.58776,-81.51897,-80.82374,-80.82293,-80.78757,-83.45172,-83.46976,-83.48668,-83.46261,-83.58062,-83.85201,-83.42475,-83.35747,-83.45078,-83.68926,-83.38846,-83.20788,-83.53732,-83.58056,-83.42474,-83.58016,-83.66995,-83.42487,-83.53714,-83.20967,-83.48563,-83.47853,-83.46228,-83.42467,-83.66946,-83.74488,-83.68935,-83.49645,-83.84573,-83.64753,-83.66208,-83.58015,-83.45096,-83.69115,-83.53706,-83.42526,-83.09749,-83.77646,-83.53127,-83.2667,-83.49042,-83.49999,-83.51204,-83.47849,-83.53492,-83.48556,-83.48568,-83.72644,-83.40584,-83.77067,-83.42557,-83.58147,-83.46251,-83.10599,-83.70901,-83.46246,-83.67006,-83.49171,-83.58122,-83.10971,-83.20703,-83.84334,-83.7701,-83.42605,-83.38335,-83.52673,-83.3878,-83.5128,-83.58154,-83.58043,-83.93525,-83.81107,-83.64643,-83.89432,-83.2078,-83.53477,-83.64762,-83.20895,-83.74499,-83.37997,-83.74485,-83.74499,-83.72638,-83.208,-83.58002,-83.20682,-83.93649,-83.42533,-83.58124,-83.72532,-83.42556,-83.79496,-83.69049,-83.20782,-83.80544,-83.53817,-83.17382,-83.93526,-83.77778,-83.20969,-83.72625,-83.26669,-83.20691,-78.28729,-78.34808,-78.43083,-78.4669,-78.38683,-78.38277,-78.37599,-78.51698,-78.37563,-78.3868,-78.3217,-78.76506,-78.73333,-78.39337,-78.68279,-78.43955,-78.31483,-78.72597,-78.78466,-78.68279,-78.43969,-78.31438,-78.28772,-78.31371,-78.20444,-78.78466,-78.34914,-78.17043,-78.74966,-78.18577,-78.38128,-77.08579,-78.2822,-78.36715,-78.34239,-78.66037,-78.2936,-78.3867,-78.28188,-78.76515,-78.70995,-78.17884,-78.44586,-78.54516,-78.79442,-78.19659,-78.5532,-78.28618,-78.3102,-78.34763,-78.77182,-78.38683,-78.44008,-78.36657,-78.38379,-78.28917,-78.36654,-78.38254,-78.20354,-78.38677,-78.18111,-78.2336,-78.442,-78.29664,-78.25163,-78.43605,-78.31369,-78.2946,-78.43958,-78.18131,-78.64664,-78.45722,-78.859,-78.78084,-78.15073,-78.29722,-78.85878,-78.17039,-78.35072,-78.36637,-78.31406,-78.18088,-78.51699,-78.43578,-78.16839,-78.35073,-78.7864,-78.68287,-78.71069,-78.77184,-78.2863,-78.17055,-78.2108,-78.65889,-78.28212,-78.1812,-78.25682,-78.574],\"marker\":{\"color\":[21.0,21.85,33.77,20.54,36.85,21.77,18.77,23.08,32.62,14.85,11.69,3.38,21.62,18.38,7.69,0.0,27.54,29.62,17.0,23.85,12.08,7.46,46.23,28.85,16.85,45.46,23.08,20.92,39.92,36.31,24.69,17.0,8.0,37.31,38.46,24.23,11.77,4.62,29.38,24.92,24.62,16.08,25.08,31.46,16.85,32.62,16.77,9.38,26.69,11.62,25.31,26.85,29.31,17.54,31.46,32.69,25.23,22.62,3.23,22.85,9.69,20.31,42.77,21.31,18.85,27.23,27.92,21.54,27.54,11.15,23.92,28.92,18.38,32.38,37.69,39.31,30.38,35.85,26.0,12.31,35.23,30.08,27.08,18.08,29.85,13.54,28.85,43.85,19.15,21.85,25.46,20.38,23.92,19.23,19.31,12.38,25.92,12.08,34.62,27.31,34.85,27.77,20.85,29.69,22.77,37.77,25.31,29.92,23.08,12.92,32.31,21.38,23.62,27.69,15.38,35.54,28.08,12.92,11.69,19.69,22.38,26.54,19.38,18.85,30.23,12.69,23.08,23.08,30.08,17.0,21.23,27.92,5.46,30.77,19.92,20.46,20.92,27.38,15.69,21.69,21.38,10.92,23.85,48.77,9.92,25.77,16.69,48.46,39.77,22.54,7.31,18.92,15.0,18.15,16.69,24.0,14.85,35.31,9.15,21.08,8.38,24.85,9.0,7.69,13.0,24.54,8.46,16.15,9.77,24.15,17.31,17.77,8.0,13.0,17.69,28.69,0.0,27.08,12.92,9.85,10.38,24.31,33.08,24.46,16.85,0.92,19.23,24.77,34.46,37.54,40.46,38.38,24.23,22.15,24.15,24.92,15.08,47.92,37.54,31.38,33.62,23.92,37.38,14.54,28.54,33.54,25.23,26.62,35.31,27.77,53.54,31.08,23.92,35.23,29.0,36.46,25.38,15.77,22.92,25.77,30.23,26.31,25.46,22.31,27.77,22.0,21.15,20.62,26.46,19.0,14.23,26.15,35.31,26.38,53.62,19.92,20.92,36.46,36.15,35.77,16.85,30.31,4.08,29.23,21.77,22.62,36.54,21.85,23.23,29.85,28.23,25.0,22.38,36.85,31.46,39.38,11.23,27.0,32.23,21.62,27.08,29.77,11.92,14.23,34.31,16.15,22.85,15.0,16.0,25.15,16.85,22.46,22.69,19.92,21.0,23.31,23.77,22.15,24.23,7.38,16.31,31.77,29.08,22.62,31.15,20.69,24.31,18.08,21.62,21.08,32.15,27.69,30.92,9.23,24.69,25.46,2.54,10.08,25.0,24.46,20.0,24.54,24.77,8.23,24.54,9.15,24.85,9.54,9.23,23.69,25.69,9.46,16.15,2.31,42.38,16.23,10.0,9.23,16.92,17.54,10.23,18.23,17.77,17.15,17.62,33.69,18.69,8.31,0.77,14.85,34.38,8.54,29.15,8.31,24.62,31.23,34.85,9.38,29.08,12.69,14.92,12.62,23.77,38.69,25.15,16.54,23.77,40.23,30.62,24.77,25.08,27.08,22.0,34.85,22.92,3.46,43.0,32.62,31.69,31.0,14.77,23.92,33.62,30.38,29.46,16.54,25.08,24.15,24.0,17.62,29.77,19.85,24.62,39.85,25.0,33.38,19.46,33.77,21.15,29.23,18.77,21.15,9.23,13.92,10.62,29.46,25.77,32.69,27.46,19.38,9.77,25.38,23.38,22.62,17.85,18.0,25.23,23.31,17.85,32.38,19.62,23.23,27.85,24.46,16.08,25.08,17.15,14.0,19.15,34.69,32.38,18.15,33.46,2.15,33.85,17.62,16.54,7.69,29.62,9.69,25.69,26.77,30.31],\"coloraxis\":\"coloraxis\",\"size\":[21.0,21.85,33.77,20.54,36.85,21.77,18.77,23.08,32.62,14.85,11.69,3.38,21.62,18.38,7.69,0.0,27.54,29.62,17.0,23.85,12.08,7.46,46.23,28.85,16.85,45.46,23.08,20.92,39.92,36.31,24.69,17.0,8.0,37.31,38.46,24.23,11.77,4.62,29.38,24.92,24.62,16.08,25.08,31.46,16.85,32.62,16.77,9.38,26.69,11.62,25.31,26.85,29.31,17.54,31.46,32.69,25.23,22.62,3.23,22.85,9.69,20.31,42.77,21.31,18.85,27.23,27.92,21.54,27.54,11.15,23.92,28.92,18.38,32.38,37.69,39.31,30.38,35.85,26.0,12.31,35.23,30.08,27.08,18.08,29.85,13.54,28.85,43.85,19.15,21.85,25.46,20.38,23.92,19.23,19.31,12.38,25.92,12.08,34.62,27.31,34.85,27.77,20.85,29.69,22.77,37.77,25.31,29.92,23.08,12.92,32.31,21.38,23.62,27.69,15.38,35.54,28.08,12.92,11.69,19.69,22.38,26.54,19.38,18.85,30.23,12.69,23.08,23.08,30.08,17.0,21.23,27.92,5.46,30.77,19.92,20.46,20.92,27.38,15.69,21.69,21.38,10.92,23.85,48.77,9.92,25.77,16.69,48.46,39.77,22.54,7.31,18.92,15.0,18.15,16.69,24.0,14.85,35.31,9.15,21.08,8.38,24.85,9.0,7.69,13.0,24.54,8.46,16.15,9.77,24.15,17.31,17.77,8.0,13.0,17.69,28.69,0.0,27.08,12.92,9.85,10.38,24.31,33.08,24.46,16.85,0.92,19.23,24.77,34.46,37.54,40.46,38.38,24.23,22.15,24.15,24.92,15.08,47.92,37.54,31.38,33.62,23.92,37.38,14.54,28.54,33.54,25.23,26.62,35.31,27.77,53.54,31.08,23.92,35.23,29.0,36.46,25.38,15.77,22.92,25.77,30.23,26.31,25.46,22.31,27.77,22.0,21.15,20.62,26.46,19.0,14.23,26.15,35.31,26.38,53.62,19.92,20.92,36.46,36.15,35.77,16.85,30.31,4.08,29.23,21.77,22.62,36.54,21.85,23.23,29.85,28.23,25.0,22.38,36.85,31.46,39.38,11.23,27.0,32.23,21.62,27.08,29.77,11.92,14.23,34.31,16.15,22.85,15.0,16.0,25.15,16.85,22.46,22.69,19.92,21.0,23.31,23.77,22.15,24.23,7.38,16.31,31.77,29.08,22.62,31.15,20.69,24.31,18.08,21.62,21.08,32.15,27.69,30.92,9.23,24.69,25.46,2.54,10.08,25.0,24.46,20.0,24.54,24.77,8.23,24.54,9.15,24.85,9.54,9.23,23.69,25.69,9.46,16.15,2.31,42.38,16.23,10.0,9.23,16.92,17.54,10.23,18.23,17.77,17.15,17.62,33.69,18.69,8.31,0.77,14.85,34.38,8.54,29.15,8.31,24.62,31.23,34.85,9.38,29.08,12.69,14.92,12.62,23.77,38.69,25.15,16.54,23.77,40.23,30.62,24.77,25.08,27.08,22.0,34.85,22.92,3.46,43.0,32.62,31.69,31.0,14.77,23.92,33.62,30.38,29.46,16.54,25.08,24.15,24.0,17.62,29.77,19.85,24.62,39.85,25.0,33.38,19.46,33.77,21.15,29.23,18.77,21.15,9.23,13.92,10.62,29.46,25.77,32.69,27.46,19.38,9.77,25.38,23.38,22.62,17.85,18.0,25.23,23.31,17.85,32.38,19.62,23.23,27.85,24.46,16.08,25.08,17.15,14.0,19.15,34.69,32.38,18.15,33.46,2.15,33.85,17.62,16.54,7.69,29.62,9.69,25.69,26.77,30.31],\"sizemode\":\"area\",\"sizeref\":0.13405},\"mode\":\"markers\",\"name\":\"\",\"showlegend\":false,\"subplot\":\"mapbox\",\"type\":\"scattermapbox\"}],                        {\"template\":{\"data\":{\"histogram2dcontour\":[{\"type\":\"histogram2dcontour\",\"colorbar\":{\"outlinewidth\":0,\"ticks\":\"\"},\"colorscale\":[[0.0,\"#0d0887\"],[0.1111111111111111,\"#46039f\"],[0.2222222222222222,\"#7201a8\"],[0.3333333333333333,\"#9c179e\"],[0.4444444444444444,\"#bd3786\"],[0.5555555555555556,\"#d8576b\"],[0.6666666666666666,\"#ed7953\"],[0.7777777777777778,\"#fb9f3a\"],[0.8888888888888888,\"#fdca26\"],[1.0,\"#f0f921\"]]}],\"choropleth\":[{\"type\":\"choropleth\",\"colorbar\":{\"outlinewidth\":0,\"ticks\":\"\"}}],\"histogram2d\":[{\"type\":\"histogram2d\",\"colorbar\":{\"outlinewidth\":0,\"ticks\":\"\"},\"colorscale\":[[0.0,\"#0d0887\"],[0.1111111111111111,\"#46039f\"],[0.2222222222222222,\"#7201a8\"],[0.3333333333333333,\"#9c179e\"],[0.4444444444444444,\"#bd3786\"],[0.5555555555555556,\"#d8576b\"],[0.6666666666666666,\"#ed7953\"],[0.7777777777777778,\"#fb9f3a\"],[0.8888888888888888,\"#fdca26\"],[1.0,\"#f0f921\"]]}],\"heatmap\":[{\"type\":\"heatmap\",\"colorbar\":{\"outlinewidth\":0,\"ticks\":\"\"},\"colorscale\":[[0.0,\"#0d0887\"],[0.1111111111111111,\"#46039f\"],[0.2222222222222222,\"#7201a8\"],[0.3333333333333333,\"#9c179e\"],[0.4444444444444444,\"#bd3786\"],[0.5555555555555556,\"#d8576b\"],[0.6666666666666666,\"#ed7953\"],[0.7777777777777778,\"#fb9f3a\"],[0.8888888888888888,\"#fdca26\"],[1.0,\"#f0f921\"]]}],\"heatmapgl\":[{\"type\":\"heatmapgl\",\"colorbar\":{\"outlinewidth\":0,\"ticks\":\"\"},\"colorscale\":[[0.0,\"#0d0887\"],[0.1111111111111111,\"#46039f\"],[0.2222222222222222,\"#7201a8\"],[0.3333333333333333,\"#9c179e\"],[0.4444444444444444,\"#bd3786\"],[0.5555555555555556,\"#d8576b\"],[0.6666666666666666,\"#ed7953\"],[0.7777777777777778,\"#fb9f3a\"],[0.8888888888888888,\"#fdca26\"],[1.0,\"#f0f921\"]]}],\"contourcarpet\":[{\"type\":\"contourcarpet\",\"colorbar\":{\"outlinewidth\":0,\"ticks\":\"\"}}],\"contour\":[{\"type\":\"contour\",\"colorbar\":{\"outlinewidth\":0,\"ticks\":\"\"},\"colorscale\":[[0.0,\"#0d0887\"],[0.1111111111111111,\"#46039f\"],[0.2222222222222222,\"#7201a8\"],[0.3333333333333333,\"#9c179e\"],[0.4444444444444444,\"#bd3786\"],[0.5555555555555556,\"#d8576b\"],[0.6666666666666666,\"#ed7953\"],[0.7777777777777778,\"#fb9f3a\"],[0.8888888888888888,\"#fdca26\"],[1.0,\"#f0f921\"]]}],\"surface\":[{\"type\":\"surface\",\"colorbar\":{\"outlinewidth\":0,\"ticks\":\"\"},\"colorscale\":[[0.0,\"#0d0887\"],[0.1111111111111111,\"#46039f\"],[0.2222222222222222,\"#7201a8\"],[0.3333333333333333,\"#9c179e\"],[0.4444444444444444,\"#bd3786\"],[0.5555555555555556,\"#d8576b\"],[0.6666666666666666,\"#ed7953\"],[0.7777777777777778,\"#fb9f3a\"],[0.8888888888888888,\"#fdca26\"],[1.0,\"#f0f921\"]]}],\"mesh3d\":[{\"type\":\"mesh3d\",\"colorbar\":{\"outlinewidth\":0,\"ticks\":\"\"}}],\"scatter\":[{\"fillpattern\":{\"fillmode\":\"overlay\",\"size\":10,\"solidity\":0.2},\"type\":\"scatter\"}],\"parcoords\":[{\"type\":\"parcoords\",\"line\":{\"colorbar\":{\"outlinewidth\":0,\"ticks\":\"\"}}}],\"scatterpolargl\":[{\"type\":\"scatterpolargl\",\"marker\":{\"colorbar\":{\"outlinewidth\":0,\"ticks\":\"\"}}}],\"bar\":[{\"error_x\":{\"color\":\"#2a3f5f\"},\"error_y\":{\"color\":\"#2a3f5f\"},\"marker\":{\"line\":{\"color\":\"#E5ECF6\",\"width\":0.5},\"pattern\":{\"fillmode\":\"overlay\",\"size\":10,\"solidity\":0.2}},\"type\":\"bar\"}],\"scattergeo\":[{\"type\":\"scattergeo\",\"marker\":{\"colorbar\":{\"outlinewidth\":0,\"ticks\":\"\"}}}],\"scatterpolar\":[{\"type\":\"scatterpolar\",\"marker\":{\"colorbar\":{\"outlinewidth\":0,\"ticks\":\"\"}}}],\"histogram\":[{\"marker\":{\"pattern\":{\"fillmode\":\"overlay\",\"size\":10,\"solidity\":0.2}},\"type\":\"histogram\"}],\"scattergl\":[{\"type\":\"scattergl\",\"marker\":{\"colorbar\":{\"outlinewidth\":0,\"ticks\":\"\"}}}],\"scatter3d\":[{\"type\":\"scatter3d\",\"line\":{\"colorbar\":{\"outlinewidth\":0,\"ticks\":\"\"}},\"marker\":{\"colorbar\":{\"outlinewidth\":0,\"ticks\":\"\"}}}],\"scattermapbox\":[{\"type\":\"scattermapbox\",\"marker\":{\"colorbar\":{\"outlinewidth\":0,\"ticks\":\"\"}}}],\"scatterternary\":[{\"type\":\"scatterternary\",\"marker\":{\"colorbar\":{\"outlinewidth\":0,\"ticks\":\"\"}}}],\"scattercarpet\":[{\"type\":\"scattercarpet\",\"marker\":{\"colorbar\":{\"outlinewidth\":0,\"ticks\":\"\"}}}],\"carpet\":[{\"aaxis\":{\"endlinecolor\":\"#2a3f5f\",\"gridcolor\":\"white\",\"linecolor\":\"white\",\"minorgridcolor\":\"white\",\"startlinecolor\":\"#2a3f5f\"},\"baxis\":{\"endlinecolor\":\"#2a3f5f\",\"gridcolor\":\"white\",\"linecolor\":\"white\",\"minorgridcolor\":\"white\",\"startlinecolor\":\"#2a3f5f\"},\"type\":\"carpet\"}],\"table\":[{\"cells\":{\"fill\":{\"color\":\"#EBF0F8\"},\"line\":{\"color\":\"white\"}},\"header\":{\"fill\":{\"color\":\"#C8D4E3\"},\"line\":{\"color\":\"white\"}},\"type\":\"table\"}],\"barpolar\":[{\"marker\":{\"line\":{\"color\":\"#E5ECF6\",\"width\":0.5},\"pattern\":{\"fillmode\":\"overlay\",\"size\":10,\"solidity\":0.2}},\"type\":\"barpolar\"}],\"pie\":[{\"automargin\":true,\"type\":\"pie\"}]},\"layout\":{\"autotypenumbers\":\"strict\",\"colorway\":[\"#636efa\",\"#EF553B\",\"#00cc96\",\"#ab63fa\",\"#FFA15A\",\"#19d3f3\",\"#FF6692\",\"#B6E880\",\"#FF97FF\",\"#FECB52\"],\"font\":{\"color\":\"#2a3f5f\"},\"hovermode\":\"closest\",\"hoverlabel\":{\"align\":\"left\"},\"paper_bgcolor\":\"white\",\"plot_bgcolor\":\"#E5ECF6\",\"polar\":{\"bgcolor\":\"#E5ECF6\",\"angularaxis\":{\"gridcolor\":\"white\",\"linecolor\":\"white\",\"ticks\":\"\"},\"radialaxis\":{\"gridcolor\":\"white\",\"linecolor\":\"white\",\"ticks\":\"\"}},\"ternary\":{\"bgcolor\":\"#E5ECF6\",\"aaxis\":{\"gridcolor\":\"white\",\"linecolor\":\"white\",\"ticks\":\"\"},\"baxis\":{\"gridcolor\":\"white\",\"linecolor\":\"white\",\"ticks\":\"\"},\"caxis\":{\"gridcolor\":\"white\",\"linecolor\":\"white\",\"ticks\":\"\"}},\"coloraxis\":{\"colorbar\":{\"outlinewidth\":0,\"ticks\":\"\"}},\"colorscale\":{\"sequential\":[[0.0,\"#0d0887\"],[0.1111111111111111,\"#46039f\"],[0.2222222222222222,\"#7201a8\"],[0.3333333333333333,\"#9c179e\"],[0.4444444444444444,\"#bd3786\"],[0.5555555555555556,\"#d8576b\"],[0.6666666666666666,\"#ed7953\"],[0.7777777777777778,\"#fb9f3a\"],[0.8888888888888888,\"#fdca26\"],[1.0,\"#f0f921\"]],\"sequentialminus\":[[0.0,\"#0d0887\"],[0.1111111111111111,\"#46039f\"],[0.2222222222222222,\"#7201a8\"],[0.3333333333333333,\"#9c179e\"],[0.4444444444444444,\"#bd3786\"],[0.5555555555555556,\"#d8576b\"],[0.6666666666666666,\"#ed7953\"],[0.7777777777777778,\"#fb9f3a\"],[0.8888888888888888,\"#fdca26\"],[1.0,\"#f0f921\"]],\"diverging\":[[0,\"#8e0152\"],[0.1,\"#c51b7d\"],[0.2,\"#de77ae\"],[0.3,\"#f1b6da\"],[0.4,\"#fde0ef\"],[0.5,\"#f7f7f7\"],[0.6,\"#e6f5d0\"],[0.7,\"#b8e186\"],[0.8,\"#7fbc41\"],[0.9,\"#4d9221\"],[1,\"#276419\"]]},\"xaxis\":{\"gridcolor\":\"white\",\"linecolor\":\"white\",\"ticks\":\"\",\"title\":{\"standoff\":15},\"zerolinecolor\":\"white\",\"automargin\":true,\"zerolinewidth\":2},\"yaxis\":{\"gridcolor\":\"white\",\"linecolor\":\"white\",\"ticks\":\"\",\"title\":{\"standoff\":15},\"zerolinecolor\":\"white\",\"automargin\":true,\"zerolinewidth\":2},\"scene\":{\"xaxis\":{\"backgroundcolor\":\"#E5ECF6\",\"gridcolor\":\"white\",\"linecolor\":\"white\",\"showbackground\":true,\"ticks\":\"\",\"zerolinecolor\":\"white\",\"gridwidth\":2},\"yaxis\":{\"backgroundcolor\":\"#E5ECF6\",\"gridcolor\":\"white\",\"linecolor\":\"white\",\"showbackground\":true,\"ticks\":\"\",\"zerolinecolor\":\"white\",\"gridwidth\":2},\"zaxis\":{\"backgroundcolor\":\"#E5ECF6\",\"gridcolor\":\"white\",\"linecolor\":\"white\",\"showbackground\":true,\"ticks\":\"\",\"zerolinecolor\":\"white\",\"gridwidth\":2}},\"shapedefaults\":{\"line\":{\"color\":\"#2a3f5f\"}},\"annotationdefaults\":{\"arrowcolor\":\"#2a3f5f\",\"arrowhead\":0,\"arrowwidth\":1},\"geo\":{\"bgcolor\":\"white\",\"landcolor\":\"#E5ECF6\",\"subunitcolor\":\"white\",\"showland\":true,\"showlakes\":true,\"lakecolor\":\"white\"},\"title\":{\"x\":0.05},\"mapbox\":{\"style\":\"light\"}}},\"mapbox\":{\"domain\":{\"x\":[0.0,1.0],\"y\":[0.0,1.0]},\"center\":{\"lat\":38.81452141843969,\"lon\":-78.64318158392432},\"zoom\":3,\"style\":\"open-street-map\"},\"coloraxis\":{\"colorbar\":{\"title\":{\"text\":\"Score\"}},\"colorscale\":[[0,\"yellow\"],[1,\"darkgreen\"]]},\"legend\":{\"tracegroupgap\":0,\"itemsizing\":\"constant\"},\"margin\":{\"t\":0,\"r\":0,\"l\":0,\"b\":0},\"height\":800,\"width\":800},                        {\"responsive\": true}                    ).then(function(){\n",
       "                            \n",
       "var gd = document.getElementById('791c1864-1232-459f-a034-0990901dfd17');\n",
       "var x = new MutationObserver(function (mutations, observer) {{\n",
       "        var display = window.getComputedStyle(gd).display;\n",
       "        if (!display || display === 'none') {{\n",
       "            console.log([gd, 'removed!']);\n",
       "            Plotly.purge(gd);\n",
       "            observer.disconnect();\n",
       "        }}\n",
       "}});\n",
       "\n",
       "// Listen for the removal of the full notebook cells\n",
       "var notebookContainer = gd.closest('#notebook-container');\n",
       "if (notebookContainer) {{\n",
       "    x.observe(notebookContainer, {childList: true});\n",
       "}}\n",
       "\n",
       "// Listen for the clearing of the current output cell\n",
       "var outputEl = gd.closest('.output');\n",
       "if (outputEl) {{\n",
       "    x.observe(outputEl, {childList: true});\n",
       "}}\n",
       "\n",
       "                        })                };                });            </script>        </div>"
      ]
     },
     "metadata": {},
     "output_type": "display_data"
    }
   ],
   "source": [
    "import plotly.express as px\n",
    "import pandas as pd\n",
    "\n",
    "color_scale = [(0, 'yellow'), (1,'darkgreen')]\n",
    "\n",
    "fig = px.scatter_mapbox(trail_info, \n",
    "                        lat=\"latitude\", \n",
    "                        lon=\"longitude\", \n",
    "                        hover_name=\"name\", \n",
    "                        hover_data=[\"Score\", \"area_name\", \"Distance\"],\n",
    "                        color=\"Score\",\n",
    "                        size=\"Score\",\n",
    "                        color_continuous_scale=color_scale,\n",
    "                        zoom=3, \n",
    "                        height=800,\n",
    "                        width=800)\n",
    "\n",
    "fig.update_layout(mapbox_style=\"open-street-map\")\n",
    "fig.update_layout(margin={\"r\":0,\"t\":0,\"l\":0,\"b\":0})\n",
    "fig.show()"
   ]
  },
  {
   "cell_type": "markdown",
   "metadata": {},
   "source": [
    "### Print most optimal trails"
   ]
  },
  {
   "cell_type": "code",
   "execution_count": 137,
   "metadata": {},
   "outputs": [
    {
     "data": {
      "text/html": [
       "<div>\n",
       "<style scoped>\n",
       "    .dataframe tbody tr th:only-of-type {\n",
       "        vertical-align: middle;\n",
       "    }\n",
       "\n",
       "    .dataframe tbody tr th {\n",
       "        vertical-align: top;\n",
       "    }\n",
       "\n",
       "    .dataframe thead th {\n",
       "        text-align: right;\n",
       "    }\n",
       "</style>\n",
       "<table border=\"1\" class=\"dataframe\">\n",
       "  <thead>\n",
       "    <tr style=\"text-align: right;\">\n",
       "      <th></th>\n",
       "      <th>name</th>\n",
       "      <th>Distance</th>\n",
       "      <th>length</th>\n",
       "      <th>difficulty_rating</th>\n",
       "      <th>Score</th>\n",
       "    </tr>\n",
       "  </thead>\n",
       "  <tbody>\n",
       "    <tr>\n",
       "      <th>0</th>\n",
       "      <td>Sunset Trail</td>\n",
       "      <td>597.16</td>\n",
       "      <td>20921.420</td>\n",
       "      <td>5</td>\n",
       "      <td>21.00</td>\n",
       "    </tr>\n",
       "    <tr>\n",
       "      <th>1</th>\n",
       "      <td>West Mountain Trail</td>\n",
       "      <td>598.55</td>\n",
       "      <td>3057.746</td>\n",
       "      <td>3</td>\n",
       "      <td>21.85</td>\n",
       "    </tr>\n",
       "    <tr>\n",
       "      <th>2</th>\n",
       "      <td>Goat Rock Trail</td>\n",
       "      <td>597.33</td>\n",
       "      <td>3862.416</td>\n",
       "      <td>3</td>\n",
       "      <td>33.77</td>\n",
       "    </tr>\n",
       "    <tr>\n",
       "      <th>3</th>\n",
       "      <td>Gulpha Gorge Trail</td>\n",
       "      <td>597.17</td>\n",
       "      <td>1931.208</td>\n",
       "      <td>3</td>\n",
       "      <td>20.54</td>\n",
       "    </tr>\n",
       "    <tr>\n",
       "      <th>4</th>\n",
       "      <td>Dead Chief Trail</td>\n",
       "      <td>598.20</td>\n",
       "      <td>4345.218</td>\n",
       "      <td>3</td>\n",
       "      <td>36.85</td>\n",
       "    </tr>\n",
       "    <tr>\n",
       "      <th>...</th>\n",
       "      <td>...</td>\n",
       "      <td>...</td>\n",
       "      <td>...</td>\n",
       "      <td>...</td>\n",
       "      <td>...</td>\n",
       "    </tr>\n",
       "    <tr>\n",
       "      <th>418</th>\n",
       "      <td>Ivy Creek via Appalachian Trail</td>\n",
       "      <td>284.89</td>\n",
       "      <td>4345.218</td>\n",
       "      <td>1</td>\n",
       "      <td>29.62</td>\n",
       "    </tr>\n",
       "    <tr>\n",
       "      <th>419</th>\n",
       "      <td>Thorton Gap and Buck Hollow Trail</td>\n",
       "      <td>317.12</td>\n",
       "      <td>19473.014</td>\n",
       "      <td>3</td>\n",
       "      <td>9.69</td>\n",
       "    </tr>\n",
       "    <tr>\n",
       "      <th>420</th>\n",
       "      <td>The Peak Trail</td>\n",
       "      <td>327.98</td>\n",
       "      <td>14805.928</td>\n",
       "      <td>5</td>\n",
       "      <td>25.69</td>\n",
       "    </tr>\n",
       "    <tr>\n",
       "      <th>421</th>\n",
       "      <td>Cave Falls via Hazel River and White Rocks Trail</td>\n",
       "      <td>316.18</td>\n",
       "      <td>10460.710</td>\n",
       "      <td>3</td>\n",
       "      <td>26.77</td>\n",
       "    </tr>\n",
       "    <tr>\n",
       "      <th>422</th>\n",
       "      <td>Hightop Trail</td>\n",
       "      <td>290.34</td>\n",
       "      <td>5310.822</td>\n",
       "      <td>3</td>\n",
       "      <td>30.31</td>\n",
       "    </tr>\n",
       "  </tbody>\n",
       "</table>\n",
       "<p>423 rows × 5 columns</p>\n",
       "</div>"
      ],
      "text/plain": [
       "                                                 name  Distance     length  \\\n",
       "0                                        Sunset Trail    597.16  20921.420   \n",
       "1                                 West Mountain Trail    598.55   3057.746   \n",
       "2                                     Goat Rock Trail    597.33   3862.416   \n",
       "3                                  Gulpha Gorge Trail    597.17   1931.208   \n",
       "4                                    Dead Chief Trail    598.20   4345.218   \n",
       "..                                                ...       ...        ...   \n",
       "418                   Ivy Creek via Appalachian Trail    284.89   4345.218   \n",
       "419                 Thorton Gap and Buck Hollow Trail    317.12  19473.014   \n",
       "420                                    The Peak Trail    327.98  14805.928   \n",
       "421  Cave Falls via Hazel River and White Rocks Trail    316.18  10460.710   \n",
       "422                                     Hightop Trail    290.34   5310.822   \n",
       "\n",
       "     difficulty_rating  Score  \n",
       "0                    5  21.00  \n",
       "1                    3  21.85  \n",
       "2                    3  33.77  \n",
       "3                    3  20.54  \n",
       "4                    3  36.85  \n",
       "..                 ...    ...  \n",
       "418                  1  29.62  \n",
       "419                  3   9.69  \n",
       "420                  5  25.69  \n",
       "421                  3  26.77  \n",
       "422                  3  30.31  \n",
       "\n",
       "[423 rows x 5 columns]"
      ]
     },
     "execution_count": 137,
     "metadata": {},
     "output_type": "execute_result"
    }
   ],
   "source": [
    "trail_info[['name', 'Distance', 'length', 'difficulty_rating', 'Score']]"
   ]
  },
  {
   "cell_type": "markdown",
   "metadata": {},
   "source": [
    "### Recommend areas"
   ]
  },
  {
   "cell_type": "code",
   "execution_count": 142,
   "metadata": {},
   "outputs": [
    {
     "data": {
      "text/html": [
       "<div>\n",
       "<style scoped>\n",
       "    .dataframe tbody tr th:only-of-type {\n",
       "        vertical-align: middle;\n",
       "    }\n",
       "\n",
       "    .dataframe tbody tr th {\n",
       "        vertical-align: top;\n",
       "    }\n",
       "\n",
       "    .dataframe thead th {\n",
       "        text-align: right;\n",
       "    }\n",
       "</style>\n",
       "<table border=\"1\" class=\"dataframe\">\n",
       "  <thead>\n",
       "    <tr style=\"text-align: right;\">\n",
       "      <th></th>\n",
       "      <th>Area</th>\n",
       "      <th>Distance</th>\n",
       "      <th>Min Score</th>\n",
       "      <th>Mean Score</th>\n",
       "      <th>Max Score</th>\n",
       "      <th>Sum Score</th>\n",
       "      <th>Trail Count</th>\n",
       "    </tr>\n",
       "  </thead>\n",
       "  <tbody>\n",
       "    <tr>\n",
       "      <th>0</th>\n",
       "      <td>Fort Hunt National Park</td>\n",
       "      <td>370.50</td>\n",
       "      <td>43.00</td>\n",
       "      <td>43.000000</td>\n",
       "      <td>43.00</td>\n",
       "      <td>43.00</td>\n",
       "      <td>1</td>\n",
       "    </tr>\n",
       "    <tr>\n",
       "      <th>0</th>\n",
       "      <td>Cuyahoga Valley National Park</td>\n",
       "      <td>395.56</td>\n",
       "      <td>14.54</td>\n",
       "      <td>30.117333</td>\n",
       "      <td>53.54</td>\n",
       "      <td>903.52</td>\n",
       "      <td>30</td>\n",
       "    </tr>\n",
       "    <tr>\n",
       "      <th>0</th>\n",
       "      <td>Mammoth Cave National Park</td>\n",
       "      <td>227.05</td>\n",
       "      <td>16.85</td>\n",
       "      <td>29.931000</td>\n",
       "      <td>46.23</td>\n",
       "      <td>299.31</td>\n",
       "      <td>10</td>\n",
       "    </tr>\n",
       "    <tr>\n",
       "      <th>0</th>\n",
       "      <td>Congaree National Park</td>\n",
       "      <td>155.27</td>\n",
       "      <td>25.77</td>\n",
       "      <td>27.436667</td>\n",
       "      <td>30.23</td>\n",
       "      <td>82.31</td>\n",
       "      <td>3</td>\n",
       "    </tr>\n",
       "    <tr>\n",
       "      <th>0</th>\n",
       "      <td>Hot Springs National Park</td>\n",
       "      <td>598.07</td>\n",
       "      <td>14.85</td>\n",
       "      <td>24.510000</td>\n",
       "      <td>36.85</td>\n",
       "      <td>245.10</td>\n",
       "      <td>10</td>\n",
       "    </tr>\n",
       "    <tr>\n",
       "      <th>0</th>\n",
       "      <td>Acadia National Park</td>\n",
       "      <td>966.37</td>\n",
       "      <td>3.23</td>\n",
       "      <td>23.765755</td>\n",
       "      <td>43.85</td>\n",
       "      <td>2519.17</td>\n",
       "      <td>106</td>\n",
       "    </tr>\n",
       "    <tr>\n",
       "      <th>0</th>\n",
       "      <td>Shenandoah National Park</td>\n",
       "      <td>305.61</td>\n",
       "      <td>0.77</td>\n",
       "      <td>22.942165</td>\n",
       "      <td>40.23</td>\n",
       "      <td>2225.39</td>\n",
       "      <td>97</td>\n",
       "    </tr>\n",
       "    <tr>\n",
       "      <th>0</th>\n",
       "      <td>Great Smoky Mountains National Park</td>\n",
       "      <td>53.18</td>\n",
       "      <td>0.00</td>\n",
       "      <td>21.199091</td>\n",
       "      <td>53.62</td>\n",
       "      <td>3264.66</td>\n",
       "      <td>154</td>\n",
       "    </tr>\n",
       "    <tr>\n",
       "      <th>0</th>\n",
       "      <td>Indiana Dunes National Park</td>\n",
       "      <td>486.89</td>\n",
       "      <td>7.46</td>\n",
       "      <td>19.591667</td>\n",
       "      <td>29.62</td>\n",
       "      <td>117.55</td>\n",
       "      <td>6</td>\n",
       "    </tr>\n",
       "    <tr>\n",
       "      <th>0</th>\n",
       "      <td>Everglades National Park</td>\n",
       "      <td>713.43</td>\n",
       "      <td>0.00</td>\n",
       "      <td>11.014000</td>\n",
       "      <td>21.62</td>\n",
       "      <td>55.07</td>\n",
       "      <td>5</td>\n",
       "    </tr>\n",
       "    <tr>\n",
       "      <th>0</th>\n",
       "      <td>Dry Tortugas National Park</td>\n",
       "      <td>755.60</td>\n",
       "      <td>7.69</td>\n",
       "      <td>7.690000</td>\n",
       "      <td>7.69</td>\n",
       "      <td>7.69</td>\n",
       "      <td>1</td>\n",
       "    </tr>\n",
       "  </tbody>\n",
       "</table>\n",
       "</div>"
      ],
      "text/plain": [
       "                                  Area  Distance  Min Score  Mean Score  \\\n",
       "0              Fort Hunt National Park    370.50      43.00   43.000000   \n",
       "0        Cuyahoga Valley National Park    395.56      14.54   30.117333   \n",
       "0           Mammoth Cave National Park    227.05      16.85   29.931000   \n",
       "0               Congaree National Park    155.27      25.77   27.436667   \n",
       "0            Hot Springs National Park    598.07      14.85   24.510000   \n",
       "0                 Acadia National Park    966.37       3.23   23.765755   \n",
       "0             Shenandoah National Park    305.61       0.77   22.942165   \n",
       "0  Great Smoky Mountains National Park     53.18       0.00   21.199091   \n",
       "0          Indiana Dunes National Park    486.89       7.46   19.591667   \n",
       "0             Everglades National Park    713.43       0.00   11.014000   \n",
       "0           Dry Tortugas National Park    755.60       7.69    7.690000   \n",
       "\n",
       "   Max Score  Sum Score  Trail Count  \n",
       "0      43.00      43.00            1  \n",
       "0      53.54     903.52           30  \n",
       "0      46.23     299.31           10  \n",
       "0      30.23      82.31            3  \n",
       "0      36.85     245.10           10  \n",
       "0      43.85    2519.17          106  \n",
       "0      40.23    2225.39           97  \n",
       "0      53.62    3264.66          154  \n",
       "0      29.62     117.55            6  \n",
       "0      21.62      55.07            5  \n",
       "0       7.69       7.69            1  "
      ]
     },
     "execution_count": 142,
     "metadata": {},
     "output_type": "execute_result"
    }
   ],
   "source": [
    "areas = trail_info['area_name'].unique()\n",
    "\n",
    "area_info = pd.DataFrame()\n",
    "for area in areas:\n",
    "    area_trails = trail_info[trail_info['area_name'] == area]\n",
    "    area_lat = area_trails['latitude'].mean()\n",
    "    area_long = area_trails['longitude'].mean()\n",
    "    area_distance = round(haversine(area_long, area_lat, user_long, user_lat),2)\n",
    "    \n",
    "    area_max = max(area_trails['Score'])\n",
    "    area_average = area_trails['Score'].mean()\n",
    "    area_min = min(area_trails['Score'])\n",
    "    area_count = len(area_trails)\n",
    "    area_sum = sum(area_trails['Score'])\n",
    "    \n",
    "    area_output = pd.DataFrame(data = {'Area':[area],'Distance':[area_distance],\n",
    "                                       'Min Score':[area_min],'Mean Score':[area_average],\n",
    "                                      'Max Score':[area_max],'Sum Score':[area_sum],'Trail Count':[area_count]})\n",
    "    \n",
    "    area_info = pd.concat([area_info, area_output])\n",
    "    \n",
    "area_info.sort_values(by=['Mean Score'], ascending=False)"
   ]
  }
 ],
 "metadata": {
  "kernelspec": {
   "display_name": "Python 3",
   "language": "python",
   "name": "python3"
  },
  "language_info": {
   "codemirror_mode": {
    "name": "ipython",
    "version": 3
   },
   "file_extension": ".py",
   "mimetype": "text/x-python",
   "name": "python",
   "nbconvert_exporter": "python",
   "pygments_lexer": "ipython3",
   "version": "3.8.5"
  }
 },
 "nbformat": 4,
 "nbformat_minor": 4
}
